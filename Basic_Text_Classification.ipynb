{
  "nbformat": 4,
  "nbformat_minor": 0,
  "metadata": {
    "colab": {
      "name": "Basic_Text_Classification.ipynb",
      "version": "0.3.2",
      "provenance": [],
      "include_colab_link": true
    },
    "kernelspec": {
      "name": "python3",
      "display_name": "Python 3"
    },
    "accelerator": "GPU"
  },
  "cells": [
    {
      "cell_type": "markdown",
      "metadata": {
        "id": "view-in-github",
        "colab_type": "text"
      },
      "source": [
        "<a href=\"https://colab.research.google.com/github/somilasthana/deeplearningtutorial/blob/master/Basic_Text_Classification.ipynb\" target=\"_parent\"><img src=\"https://colab.research.google.com/assets/colab-badge.svg\" alt=\"Open In Colab\"/></a>"
      ]
    },
    {
      "cell_type": "markdown",
      "metadata": {
        "id": "0Of9PS1HZ_VD",
        "colab_type": "text"
      },
      "source": [
        "Text classification with movie reviews"
      ]
    },
    {
      "cell_type": "code",
      "metadata": {
        "id": "mqVpTmV8Z--4",
        "colab_type": "code",
        "colab": {
          "base_uri": "https://localhost:8080/",
          "height": 34
        },
        "outputId": "6092a688-6c4f-446e-b815-153aa3792086"
      },
      "source": [
        "from __future__ import absolute_import, division, print_function\n",
        "\n",
        "import tensorflow as tf\n",
        "from tensorflow import keras\n",
        "\n",
        "import numpy as np\n",
        "\n",
        "print(tf.__version__)"
      ],
      "execution_count": 2,
      "outputs": [
        {
          "output_type": "stream",
          "text": [
            "1.13.1\n"
          ],
          "name": "stdout"
        }
      ]
    },
    {
      "cell_type": "code",
      "metadata": {
        "id": "suMIBz2BcD5q",
        "colab_type": "code",
        "colab": {}
      },
      "source": [
        "# Hack\n",
        "import numpy as np\n",
        "old = np.load\n",
        "\n",
        "np.load = lambda *a,**k: old(*a, allow_pickle=True, **k)"
      ],
      "execution_count": 0,
      "outputs": []
    },
    {
      "cell_type": "code",
      "metadata": {
        "id": "yrtwtiANZyjf",
        "colab_type": "code",
        "colab": {}
      },
      "source": [
        "imdb = keras.datasets.imdb\n",
        "\n",
        "(train_data, train_labels), (test_data, test_labels) = imdb.load_data(num_words=10000)"
      ],
      "execution_count": 0,
      "outputs": []
    },
    {
      "cell_type": "code",
      "metadata": {
        "id": "YHPM_Hr9bgE2",
        "colab_type": "code",
        "colab": {
          "base_uri": "https://localhost:8080/",
          "height": 34
        },
        "outputId": "e8fb13d4-d777-494e-d925-b40c86dbbe7d"
      },
      "source": [
        "train_data.shape"
      ],
      "execution_count": 10,
      "outputs": [
        {
          "output_type": "execute_result",
          "data": {
            "text/plain": [
              "(25000,)"
            ]
          },
          "metadata": {
            "tags": []
          },
          "execution_count": 10
        }
      ]
    },
    {
      "cell_type": "code",
      "metadata": {
        "id": "q-4qIK_ScLKQ",
        "colab_type": "code",
        "colab": {
          "base_uri": "https://localhost:8080/",
          "height": 34
        },
        "outputId": "21a9dc87-86ca-440b-b239-c3f3f0499915"
      },
      "source": [
        "print(train_data[0][:20])"
      ],
      "execution_count": 12,
      "outputs": [
        {
          "output_type": "stream",
          "text": [
            "[1, 14, 22, 16, 43, 530, 973, 1622, 1385, 65, 458, 4468, 66, 3941, 4, 173, 36, 256, 5, 25]\n"
          ],
          "name": "stdout"
        }
      ]
    },
    {
      "cell_type": "code",
      "metadata": {
        "id": "TLD90tcScT9Q",
        "colab_type": "code",
        "colab": {
          "base_uri": "https://localhost:8080/",
          "height": 34
        },
        "outputId": "3b496e82-1bbb-44fc-fe18-403d2a428d34"
      },
      "source": [
        "len(train_data[0]), len(train_data[1]) # Each training set is different "
      ],
      "execution_count": 13,
      "outputs": [
        {
          "output_type": "execute_result",
          "data": {
            "text/plain": [
              "(218, 189)"
            ]
          },
          "metadata": {
            "tags": []
          },
          "execution_count": 13
        }
      ]
    },
    {
      "cell_type": "code",
      "metadata": {
        "id": "fY6IJDPef7Bn",
        "colab_type": "code",
        "colab": {
          "base_uri": "https://localhost:8080/",
          "height": 34
        },
        "outputId": "2b3165b8-4b8c-4813-b0d5-01ce8f284e29"
      },
      "source": [
        "train_labels[:10]"
      ],
      "execution_count": 23,
      "outputs": [
        {
          "output_type": "execute_result",
          "data": {
            "text/plain": [
              "array([1, 0, 0, 1, 0, 0, 1, 0, 1, 0])"
            ]
          },
          "metadata": {
            "tags": []
          },
          "execution_count": 23
        }
      ]
    },
    {
      "cell_type": "markdown",
      "metadata": {
        "id": "P8Oo-4-dcwV5",
        "colab_type": "text"
      },
      "source": [
        "Code to Convert Numbers Back to Text"
      ]
    },
    {
      "cell_type": "code",
      "metadata": {
        "id": "-ViYJDGvce6u",
        "colab_type": "code",
        "colab": {
          "base_uri": "https://localhost:8080/",
          "height": 51
        },
        "outputId": "d9ff05e0-71ad-4dc4-82cb-59afe940898d"
      },
      "source": [
        "# A dictionary mapping words to an integer index\n",
        "word_index = imdb.get_word_index()\n",
        "\n",
        "# The first indices are reserved\n",
        "word_index = {k:(v+3) for k,v in word_index.items()} \n",
        "word_index[\"<PAD>\"] = 0\n",
        "word_index[\"<START>\"] = 1\n",
        "word_index[\"<UNK>\"] = 2  # unknown\n",
        "word_index[\"<UNUSED>\"] = 3\n",
        "\n",
        "reverse_word_index = dict([(value, key) for (key, value) in word_index.items()])\n",
        "\n",
        "def decode_review(text):\n",
        "    return ' '.join([reverse_word_index.get(i, '?') for i in text])"
      ],
      "execution_count": 14,
      "outputs": [
        {
          "output_type": "stream",
          "text": [
            "Downloading data from https://storage.googleapis.com/tensorflow/tf-keras-datasets/imdb_word_index.json\n",
            "1646592/1641221 [==============================] - 0s 0us/step\n"
          ],
          "name": "stdout"
        }
      ]
    },
    {
      "cell_type": "code",
      "metadata": {
        "id": "uiMsN5oPc2Rp",
        "colab_type": "code",
        "colab": {
          "base_uri": "https://localhost:8080/",
          "height": 34
        },
        "outputId": "88f00f4c-b766-491a-a26e-cd6f081400ac"
      },
      "source": [
        "decode_review(train_data[0][:20])"
      ],
      "execution_count": 16,
      "outputs": [
        {
          "output_type": "execute_result",
          "data": {
            "text/plain": [
              "\"<START> this film was just brilliant casting location scenery story direction everyone's really suited the part they played and you\""
            ]
          },
          "metadata": {
            "tags": []
          },
          "execution_count": 16
        }
      ]
    },
    {
      "cell_type": "code",
      "metadata": {
        "id": "-7lJFLUEc5Ob",
        "colab_type": "code",
        "colab": {}
      },
      "source": [
        "train_data = keras.preprocessing.sequence.pad_sequences(train_data, \n",
        "                                                        value=word_index[\"<PAD>\"],\n",
        "                                                        padding='post',\n",
        "                                                        maxlen=256\n",
        "                                                       )"
      ],
      "execution_count": 0,
      "outputs": []
    },
    {
      "cell_type": "code",
      "metadata": {
        "id": "U2qFs0B7eV3s",
        "colab_type": "code",
        "colab": {}
      },
      "source": [
        "test_data = keras.preprocessing.sequence.pad_sequences(test_data,\n",
        "                                                      value=word_index[\"<PAD>\"],\n",
        "                                                      padding='post',\n",
        "                                                      maxlen=256\n",
        "                                                     )"
      ],
      "execution_count": 0,
      "outputs": []
    },
    {
      "cell_type": "code",
      "metadata": {
        "id": "Hc-h7CGSemY9",
        "colab_type": "code",
        "colab": {
          "base_uri": "https://localhost:8080/",
          "height": 34
        },
        "outputId": "a0e2b3bf-3924-491b-ad00-5ad0ddb6a7f9"
      },
      "source": [
        "len(train_data[0]), len(train_data[1]) # Same Size"
      ],
      "execution_count": 21,
      "outputs": [
        {
          "output_type": "execute_result",
          "data": {
            "text/plain": [
              "(256, 256)"
            ]
          },
          "metadata": {
            "tags": []
          },
          "execution_count": 21
        }
      ]
    },
    {
      "cell_type": "code",
      "metadata": {
        "id": "VniHkpPSexDp",
        "colab_type": "code",
        "colab": {
          "base_uri": "https://localhost:8080/",
          "height": 51
        },
        "outputId": "fde8c1b6-bc43-4e31-f1bd-23a65ff3477a"
      },
      "source": [
        "print(train_data[0][:20])"
      ],
      "execution_count": 22,
      "outputs": [
        {
          "output_type": "stream",
          "text": [
            "[   1   14   22   16   43  530  973 1622 1385   65  458 4468   66 3941\n",
            "    4  173   36  256    5   25]\n"
          ],
          "name": "stdout"
        }
      ]
    },
    {
      "cell_type": "code",
      "metadata": {
        "id": "W9XxTwx6fAWH",
        "colab_type": "code",
        "colab": {
          "base_uri": "https://localhost:8080/",
          "height": 343
        },
        "outputId": "89b0bbb2-1268-4940-82fc-3b158b99f1ef"
      },
      "source": [
        "vocab_size = 10000 # input shape is the vocabulary count used for the movie reviews (10,000 words)\n",
        "model = keras.Sequential()\n",
        "\n",
        "model.add(keras.layers.Embedding(vocab_size, 16))\n",
        "#This layer takes the integer-encoded vocabulary and looks up the embedding vector for each word-index. \n",
        "# These vectors are learned as the model trains.\n",
        "\n",
        "model.add(keras.layers.GlobalAveragePooling1D())\n",
        "#GlobalAveragePooling1D layer returns a fixed-length output vector for each example by \n",
        "# averaging over the sequence dimension.\n",
        "\n",
        "model.add(keras.layers.Dense(16, activation=tf.nn.relu))\n",
        "\n",
        "model.add(keras.layers.Dense(1, activation=tf.nn.sigmoid))\n",
        "\n",
        "model.summary()\n",
        "#The above model has two intermediate or \"hidden\" layers, between the input and output."
      ],
      "execution_count": 24,
      "outputs": [
        {
          "output_type": "stream",
          "text": [
            "WARNING:tensorflow:From /usr/local/lib/python3.6/dist-packages/tensorflow/python/ops/resource_variable_ops.py:435: colocate_with (from tensorflow.python.framework.ops) is deprecated and will be removed in a future version.\n",
            "Instructions for updating:\n",
            "Colocations handled automatically by placer.\n",
            "_________________________________________________________________\n",
            "Layer (type)                 Output Shape              Param #   \n",
            "=================================================================\n",
            "embedding (Embedding)        (None, None, 16)          160000    \n",
            "_________________________________________________________________\n",
            "global_average_pooling1d (Gl (None, 16)                0         \n",
            "_________________________________________________________________\n",
            "dense (Dense)                (None, 16)                272       \n",
            "_________________________________________________________________\n",
            "dense_1 (Dense)              (None, 1)                 17        \n",
            "=================================================================\n",
            "Total params: 160,289\n",
            "Trainable params: 160,289\n",
            "Non-trainable params: 0\n",
            "_________________________________________________________________\n"
          ],
          "name": "stdout"
        }
      ]
    },
    {
      "cell_type": "code",
      "metadata": {
        "id": "QRDAOjHXgJp2",
        "colab_type": "code",
        "colab": {}
      },
      "source": [
        "model.compile(optimizer='adam', loss='binary_crossentropy', metrics=['acc'])"
      ],
      "execution_count": 0,
      "outputs": []
    },
    {
      "cell_type": "markdown",
      "metadata": {
        "id": "IWH6W9Kahh3t",
        "colab_type": "text"
      },
      "source": [
        "Create a Validation Set"
      ]
    },
    {
      "cell_type": "code",
      "metadata": {
        "id": "vorPHM-ghb_w",
        "colab_type": "code",
        "colab": {}
      },
      "source": [
        "x_val = train_data[:10000]\n",
        "partial_x_train = train_data[10000:]\n",
        "\n",
        "y_val = train_labels[:10000]\n",
        "partial_y_train = train_labels[10000:]"
      ],
      "execution_count": 0,
      "outputs": []
    },
    {
      "cell_type": "code",
      "metadata": {
        "id": "k0f_S8Ggh97U",
        "colab_type": "code",
        "colab": {
          "base_uri": "https://localhost:8080/",
          "height": 1805
        },
        "outputId": "7345c921-193f-41dd-a0e4-f198d4b639ea"
      },
      "source": [
        "history = model.fit(\n",
        "    \n",
        "    partial_x_train,\n",
        "    partial_y_train,\n",
        "    epochs = 50,\n",
        "    batch_size = 500,\n",
        "    validation_data = (x_val, y_val),\n",
        "    verbose=1\n",
        ")"
      ],
      "execution_count": 27,
      "outputs": [
        {
          "output_type": "stream",
          "text": [
            "Train on 15000 samples, validate on 10000 samples\n",
            "WARNING:tensorflow:From /usr/local/lib/python3.6/dist-packages/tensorflow/python/ops/math_ops.py:3066: to_int32 (from tensorflow.python.ops.math_ops) is deprecated and will be removed in a future version.\n",
            "Instructions for updating:\n",
            "Use tf.cast instead.\n",
            "Epoch 1/50\n",
            "15000/15000 [==============================] - 1s 44us/sample - loss: 0.6918 - acc: 0.6060 - val_loss: 0.6897 - val_acc: 0.6242\n",
            "Epoch 2/50\n",
            "15000/15000 [==============================] - 0s 12us/sample - loss: 0.6850 - acc: 0.6754 - val_loss: 0.6804 - val_acc: 0.7188\n",
            "Epoch 3/50\n",
            "15000/15000 [==============================] - 0s 11us/sample - loss: 0.6710 - acc: 0.7387 - val_loss: 0.6636 - val_acc: 0.7466\n",
            "Epoch 4/50\n",
            "15000/15000 [==============================] - 0s 11us/sample - loss: 0.6474 - acc: 0.7588 - val_loss: 0.6368 - val_acc: 0.7609\n",
            "Epoch 5/50\n",
            "15000/15000 [==============================] - 0s 11us/sample - loss: 0.6126 - acc: 0.7865 - val_loss: 0.6007 - val_acc: 0.7827\n",
            "Epoch 6/50\n",
            "15000/15000 [==============================] - 0s 11us/sample - loss: 0.5688 - acc: 0.8089 - val_loss: 0.5587 - val_acc: 0.8008\n",
            "Epoch 7/50\n",
            "15000/15000 [==============================] - 0s 11us/sample - loss: 0.5202 - acc: 0.8271 - val_loss: 0.5133 - val_acc: 0.8200\n",
            "Epoch 8/50\n",
            "15000/15000 [==============================] - 0s 12us/sample - loss: 0.4718 - acc: 0.8457 - val_loss: 0.4716 - val_acc: 0.8326\n",
            "Epoch 9/50\n",
            "15000/15000 [==============================] - 0s 11us/sample - loss: 0.4273 - acc: 0.8613 - val_loss: 0.4346 - val_acc: 0.8438\n",
            "Epoch 10/50\n",
            "15000/15000 [==============================] - 0s 11us/sample - loss: 0.3886 - acc: 0.8745 - val_loss: 0.4048 - val_acc: 0.8517\n",
            "Epoch 11/50\n",
            "15000/15000 [==============================] - 0s 11us/sample - loss: 0.3560 - acc: 0.8828 - val_loss: 0.3801 - val_acc: 0.8601\n",
            "Epoch 12/50\n",
            "15000/15000 [==============================] - 0s 11us/sample - loss: 0.3289 - acc: 0.8907 - val_loss: 0.3610 - val_acc: 0.8625\n",
            "Epoch 13/50\n",
            "15000/15000 [==============================] - 0s 11us/sample - loss: 0.3065 - acc: 0.8966 - val_loss: 0.3451 - val_acc: 0.8692\n",
            "Epoch 14/50\n",
            "15000/15000 [==============================] - 0s 12us/sample - loss: 0.2864 - acc: 0.9021 - val_loss: 0.3329 - val_acc: 0.8725\n",
            "Epoch 15/50\n",
            "15000/15000 [==============================] - 0s 11us/sample - loss: 0.2698 - acc: 0.9075 - val_loss: 0.3233 - val_acc: 0.8738\n",
            "Epoch 16/50\n",
            "15000/15000 [==============================] - 0s 11us/sample - loss: 0.2547 - acc: 0.9120 - val_loss: 0.3152 - val_acc: 0.8756\n",
            "Epoch 17/50\n",
            "15000/15000 [==============================] - 0s 11us/sample - loss: 0.2406 - acc: 0.9169 - val_loss: 0.3087 - val_acc: 0.8788\n",
            "Epoch 18/50\n",
            "15000/15000 [==============================] - 0s 11us/sample - loss: 0.2283 - acc: 0.9220 - val_loss: 0.3028 - val_acc: 0.8802\n",
            "Epoch 19/50\n",
            "15000/15000 [==============================] - 0s 11us/sample - loss: 0.2174 - acc: 0.9236 - val_loss: 0.2979 - val_acc: 0.8809\n",
            "Epoch 20/50\n",
            "15000/15000 [==============================] - 0s 11us/sample - loss: 0.2072 - acc: 0.9283 - val_loss: 0.2947 - val_acc: 0.8824\n",
            "Epoch 21/50\n",
            "15000/15000 [==============================] - 0s 11us/sample - loss: 0.1969 - acc: 0.9331 - val_loss: 0.2922 - val_acc: 0.8817\n",
            "Epoch 22/50\n",
            "15000/15000 [==============================] - 0s 11us/sample - loss: 0.1883 - acc: 0.9370 - val_loss: 0.2896 - val_acc: 0.8837\n",
            "Epoch 23/50\n",
            "15000/15000 [==============================] - 0s 11us/sample - loss: 0.1798 - acc: 0.9409 - val_loss: 0.2889 - val_acc: 0.8842\n",
            "Epoch 24/50\n",
            "15000/15000 [==============================] - 0s 11us/sample - loss: 0.1721 - acc: 0.9447 - val_loss: 0.2876 - val_acc: 0.8848\n",
            "Epoch 25/50\n",
            "15000/15000 [==============================] - 0s 11us/sample - loss: 0.1645 - acc: 0.9484 - val_loss: 0.2865 - val_acc: 0.8845\n",
            "Epoch 26/50\n",
            "15000/15000 [==============================] - 0s 11us/sample - loss: 0.1576 - acc: 0.9502 - val_loss: 0.2876 - val_acc: 0.8828\n",
            "Epoch 27/50\n",
            "15000/15000 [==============================] - 0s 11us/sample - loss: 0.1511 - acc: 0.9539 - val_loss: 0.2873 - val_acc: 0.8846\n",
            "Epoch 28/50\n",
            "15000/15000 [==============================] - 0s 11us/sample - loss: 0.1449 - acc: 0.9560 - val_loss: 0.2878 - val_acc: 0.8859\n",
            "Epoch 29/50\n",
            "15000/15000 [==============================] - 0s 11us/sample - loss: 0.1391 - acc: 0.9591 - val_loss: 0.2894 - val_acc: 0.8845\n",
            "Epoch 30/50\n",
            "15000/15000 [==============================] - 0s 11us/sample - loss: 0.1336 - acc: 0.9603 - val_loss: 0.2895 - val_acc: 0.8864\n",
            "Epoch 31/50\n",
            "15000/15000 [==============================] - 0s 12us/sample - loss: 0.1277 - acc: 0.9625 - val_loss: 0.2908 - val_acc: 0.8862\n",
            "Epoch 32/50\n",
            "15000/15000 [==============================] - 0s 12us/sample - loss: 0.1227 - acc: 0.9654 - val_loss: 0.2925 - val_acc: 0.8856\n",
            "Epoch 33/50\n",
            "15000/15000 [==============================] - 0s 11us/sample - loss: 0.1178 - acc: 0.9667 - val_loss: 0.2951 - val_acc: 0.8839\n",
            "Epoch 34/50\n",
            "15000/15000 [==============================] - 0s 11us/sample - loss: 0.1132 - acc: 0.9681 - val_loss: 0.2975 - val_acc: 0.8860\n",
            "Epoch 35/50\n",
            "15000/15000 [==============================] - 0s 11us/sample - loss: 0.1088 - acc: 0.9694 - val_loss: 0.3001 - val_acc: 0.8849\n",
            "Epoch 36/50\n",
            "15000/15000 [==============================] - 0s 11us/sample - loss: 0.1046 - acc: 0.9715 - val_loss: 0.3023 - val_acc: 0.8839\n",
            "Epoch 37/50\n",
            "15000/15000 [==============================] - 0s 11us/sample - loss: 0.1003 - acc: 0.9727 - val_loss: 0.3052 - val_acc: 0.8829\n",
            "Epoch 38/50\n",
            "15000/15000 [==============================] - 0s 12us/sample - loss: 0.0962 - acc: 0.9745 - val_loss: 0.3094 - val_acc: 0.8814\n",
            "Epoch 39/50\n",
            "15000/15000 [==============================] - 0s 11us/sample - loss: 0.0930 - acc: 0.9759 - val_loss: 0.3129 - val_acc: 0.8811\n",
            "Epoch 40/50\n",
            "15000/15000 [==============================] - 0s 11us/sample - loss: 0.0890 - acc: 0.9775 - val_loss: 0.3157 - val_acc: 0.8829\n",
            "Epoch 41/50\n",
            "15000/15000 [==============================] - 0s 11us/sample - loss: 0.0854 - acc: 0.9786 - val_loss: 0.3189 - val_acc: 0.8816\n",
            "Epoch 42/50\n",
            "15000/15000 [==============================] - 0s 11us/sample - loss: 0.0819 - acc: 0.9794 - val_loss: 0.3228 - val_acc: 0.8811\n",
            "Epoch 43/50\n",
            "15000/15000 [==============================] - 0s 11us/sample - loss: 0.0787 - acc: 0.9808 - val_loss: 0.3264 - val_acc: 0.8821\n",
            "Epoch 44/50\n",
            "15000/15000 [==============================] - 0s 12us/sample - loss: 0.0758 - acc: 0.9826 - val_loss: 0.3310 - val_acc: 0.8798\n",
            "Epoch 45/50\n",
            "15000/15000 [==============================] - 0s 11us/sample - loss: 0.0728 - acc: 0.9834 - val_loss: 0.3350 - val_acc: 0.8806\n",
            "Epoch 46/50\n",
            "15000/15000 [==============================] - 0s 11us/sample - loss: 0.0697 - acc: 0.9842 - val_loss: 0.3414 - val_acc: 0.8770\n",
            "Epoch 47/50\n",
            "15000/15000 [==============================] - 0s 11us/sample - loss: 0.0672 - acc: 0.9852 - val_loss: 0.3442 - val_acc: 0.8784\n",
            "Epoch 48/50\n",
            "15000/15000 [==============================] - 0s 11us/sample - loss: 0.0643 - acc: 0.9859 - val_loss: 0.3481 - val_acc: 0.8789\n",
            "Epoch 49/50\n",
            "15000/15000 [==============================] - 0s 11us/sample - loss: 0.0619 - acc: 0.9872 - val_loss: 0.3536 - val_acc: 0.8780\n",
            "Epoch 50/50\n",
            "15000/15000 [==============================] - 0s 12us/sample - loss: 0.0592 - acc: 0.9883 - val_loss: 0.3577 - val_acc: 0.8780\n"
          ],
          "name": "stdout"
        }
      ]
    },
    {
      "cell_type": "code",
      "metadata": {
        "id": "jhDVg-z-ihYO",
        "colab_type": "code",
        "colab": {
          "base_uri": "https://localhost:8080/",
          "height": 34
        },
        "outputId": "dc1763a5-eacc-4841-b143-316a50b6e254"
      },
      "source": [
        "results = model.evaluate(test_data, test_labels)"
      ],
      "execution_count": 28,
      "outputs": [
        {
          "output_type": "stream",
          "text": [
            "25000/25000 [==============================] - 1s 43us/sample - loss: 0.3822 - acc: 0.8659\n"
          ],
          "name": "stdout"
        }
      ]
    },
    {
      "cell_type": "code",
      "metadata": {
        "id": "tdFFx0jliseR",
        "colab_type": "code",
        "colab": {
          "base_uri": "https://localhost:8080/",
          "height": 34
        },
        "outputId": "bedd7e2e-6a05-411f-d7fe-f8bbebc37c33"
      },
      "source": [
        "history_dict = history.history\n",
        "history_dict.keys()"
      ],
      "execution_count": 29,
      "outputs": [
        {
          "output_type": "execute_result",
          "data": {
            "text/plain": [
              "dict_keys(['loss', 'acc', 'val_loss', 'val_acc'])"
            ]
          },
          "metadata": {
            "tags": []
          },
          "execution_count": 29
        }
      ]
    },
    {
      "cell_type": "code",
      "metadata": {
        "id": "4VltrI31i74f",
        "colab_type": "code",
        "colab": {
          "base_uri": "https://localhost:8080/",
          "height": 295
        },
        "outputId": "d5ccc4ec-b61e-4bc7-edd7-8238d979785e"
      },
      "source": [
        "import matplotlib.pyplot as plt\n",
        "\n",
        "acc = history_dict['acc']\n",
        "val_acc = history_dict['val_acc']\n",
        "loss = history_dict['loss']\n",
        "val_loss = history_dict['val_loss']\n",
        "\n",
        "epochs = range(1, len(acc) + 1)\n",
        "\n",
        "# \"bo\" is for \"blue dot\"\n",
        "plt.plot(epochs, loss, 'r', label='Training loss')\n",
        "# b is for \"solid blue line\"\n",
        "plt.plot(epochs, val_loss, 'b', label='Validation loss')\n",
        "plt.title('Training and validation loss')\n",
        "plt.xlabel('Epochs')\n",
        "plt.ylabel('Loss')\n",
        "plt.legend()\n",
        "plt.grid()\n",
        "plt.show()"
      ],
      "execution_count": 32,
      "outputs": [
        {
          "output_type": "display_data",
          "data": {
            "image/png": "[encoded data removed]",
            "text/plain": [
              "<Figure size 432x288 with 1 Axes>"
            ]
          },
          "metadata": {
            "tags": []
          }
        }
      ]
    },
    {
      "cell_type": "code",
      "metadata": {
        "id": "47cH2ANWjcyP",
        "colab_type": "code",
        "colab": {
          "base_uri": "https://localhost:8080/",
          "height": 295
        },
        "outputId": "9aa38a5b-a4d3-4b73-f668-3294b3a1ceed"
      },
      "source": [
        "plt.clf()   # clear figure\n",
        "\n",
        "plt.plot(epochs, acc, 'r', label='Training acc')\n",
        "plt.plot(epochs, val_acc, 'b', label='Validation acc')\n",
        "plt.title('Training and validation accuracy')\n",
        "plt.xlabel('Epochs')\n",
        "plt.ylabel('Accuracy')\n",
        "plt.legend()\n",
        "plt.grid()\n",
        "plt.show()"
      ],
      "execution_count": 33,
      "outputs": [
        {
          "output_type": "display_data",
          "data": {
            "image/png": "[encoded data removed]",
            "text/plain": [
              "<Figure size 432x288 with 1 Axes>"
            ]
          },
          "metadata": {
            "tags": []
          }
        }
      ]
    },
    {
      "cell_type": "code",
      "metadata": {
        "id": "fdhJgHzTjgla",
        "colab_type": "code",
        "colab": {}
      },
      "source": [
        ""
      ],
      "execution_count": 0,
      "outputs": []
    }
  ]
}