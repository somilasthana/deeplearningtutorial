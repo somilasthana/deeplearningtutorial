{
  "nbformat": 4,
  "nbformat_minor": 0,
  "metadata": {
    "colab": {
      "name": "NLP-TensorFlow-BBC-NewsText-Classifcation.ipynb",
      "version": "0.3.2",
      "provenance": [],
      "include_colab_link": true
    },
    "kernelspec": {
      "name": "python3",
      "display_name": "Python 3"
    }
  },
  "cells": [
    {
      "cell_type": "markdown",
      "metadata": {
        "id": "view-in-github",
        "colab_type": "text"
      },
      "source": [
        "<a href=\"https://colab.research.google.com/github/somilasthana/deeplearningtutorial/blob/master/NLP_TensorFlow_BBC_NewsText_Classifcation.ipynb\" target=\"_parent\"><img src=\"https://colab.research.google.com/assets/colab-badge.svg\" alt=\"Open In Colab\"/></a>"
      ]
    },
    {
      "cell_type": "code",
      "metadata": {
        "id": "H1zRdUlIuYU-",
        "colab_type": "code",
        "colab": {}
      },
      "source": [
        ""
      ],
      "execution_count": 0,
      "outputs": []
    },
    {
      "cell_type": "code",
      "metadata": {
        "id": "gnwiOnGyW5JK",
        "colab_type": "code",
        "outputId": "b8d1eda6-70f6-4d11-f69a-d3f5f21db6a4",
        "colab": {
          "base_uri": "https://localhost:8080/",
          "height": 207
        }
      },
      "source": [
        "import csv\n",
        "import tensorflow as tf\n",
        "import numpy as np\n",
        "from tensorflow.keras.preprocessing.text import Tokenizer\n",
        "from tensorflow.keras.preprocessing.sequence import pad_sequences\n",
        "\n",
        "!wget --no-check-certificate \\\n",
        "    https://storage.googleapis.com/laurencemoroney-blog.appspot.com/bbc-text.csv \\\n",
        "    -O /tmp/bbc-text.csv"
      ],
      "execution_count": 0,
      "outputs": [
        {
          "output_type": "stream",
          "text": [
            "--2019-06-24 08:35:08--  https://storage.googleapis.com/laurencemoroney-blog.appspot.com/bbc-text.csv\n",
            "Resolving storage.googleapis.com (storage.googleapis.com)... 74.125.141.128, 2607:f8b0:400c:c06::80\n",
            "Connecting to storage.googleapis.com (storage.googleapis.com)|74.125.141.128|:443... connected.\n",
            "HTTP request sent, awaiting response... 200 OK\n",
            "Length: 5057493 (4.8M) [application/octet-stream]\n",
            "Saving to: ‘/tmp/bbc-text.csv’\n",
            "\n",
            "\r/tmp/bbc-text.csv     0%[                    ]       0  --.-KB/s               \r/tmp/bbc-text.csv   100%[===================>]   4.82M  --.-KB/s    in 0.05s   \n",
            "\n",
            "2019-06-24 08:35:08 (97.2 MB/s) - ‘/tmp/bbc-text.csv’ saved [5057493/5057493]\n",
            "\n"
          ],
          "name": "stdout"
        }
      ]
    },
    {
      "cell_type": "code",
      "metadata": {
        "id": "EYo6A4v5ZABQ",
        "colab_type": "code",
        "colab": {}
      },
      "source": [
        "vocab_size = 10000\n",
        "embedding_dim = 32\n",
        "max_length = 200\n",
        "trunc_type = \"post\"\n",
        "padding_type = \"post\"\n",
        "oov_tok = \"<OOV>\"\n",
        "training_portion = .8"
      ],
      "execution_count": 0,
      "outputs": []
    },
    {
      "cell_type": "code",
      "metadata": {
        "id": "iU1qq3_SZBx_",
        "colab_type": "code",
        "outputId": "7f62d997-1abe-42b3-f106-0096df1fb2d6",
        "colab": {
          "base_uri": "https://localhost:8080/",
          "height": 35
        }
      },
      "source": [
        "sentences = []\n",
        "labels = []\n",
        "stopwords = [ \"a\", \"about\", \"above\", \"after\", \"again\", \"against\", \"all\", \"am\", \"an\", \"and\", \"any\", \"are\", \"as\", \"at\", \"be\", \"because\", \"been\", \"before\", \"being\", \"below\", \"between\", \"both\", \"but\", \"by\", \"could\", \"did\", \"do\", \"does\", \"doing\", \"down\", \"during\", \"each\", \"few\", \"for\", \"from\", \"further\", \"had\", \"has\", \"have\", \"having\", \"he\", \"he'd\", \"he'll\", \"he's\", \"her\", \"here\", \"here's\", \"hers\", \"herself\", \"him\", \"himself\", \"his\", \"how\", \"how's\", \"i\", \"i'd\", \"i'll\", \"i'm\", \"i've\", \"if\", \"in\", \"into\", \"is\", \"it\", \"it's\", \"its\", \"itself\", \"let's\", \"me\", \"more\", \"most\", \"my\", \"myself\", \"nor\", \"of\", \"on\", \"once\", \"only\", \"or\", \"other\", \"ought\", \"our\", \"ours\", \"ourselves\", \"out\", \"over\", \"own\", \"same\", \"she\", \"she'd\", \"she'll\", \"she's\", \"should\", \"so\", \"some\", \"such\", \"than\", \"that\", \"that's\", \"the\", \"their\", \"theirs\", \"them\", \"themselves\", \"then\", \"there\", \"there's\", \"these\", \"they\", \"they'd\", \"they'll\", \"they're\", \"they've\", \"this\", \"those\", \"through\", \"to\", \"too\", \"under\", \"until\", \"up\", \"very\", \"was\", \"we\", \"we'd\", \"we'll\", \"we're\", \"we've\", \"were\", \"what\", \"what's\", \"when\", \"when's\", \"where\", \"where's\", \"which\", \"while\", \"who\", \"who's\", \"whom\", \"why\", \"why's\", \"with\", \"would\", \"you\", \"you'd\", \"you'll\", \"you're\", \"you've\", \"your\", \"yours\", \"yourself\", \"yourselves\" ]\n",
        "print(len(stopwords))\n",
        "# Expected Output\n",
        "# 153"
      ],
      "execution_count": 0,
      "outputs": [
        {
          "output_type": "stream",
          "text": [
            "153\n"
          ],
          "name": "stdout"
        }
      ]
    },
    {
      "cell_type": "code",
      "metadata": {
        "id": "eutB2xMiZD0e",
        "colab_type": "code",
        "outputId": "001897bf-3b9f-4c8e-95f9-ed0de31efc12",
        "colab": {
          "base_uri": "https://localhost:8080/",
          "height": 89
        }
      },
      "source": [
        "import pandas as pd\n",
        "with open(\"/tmp/bbc-text.csv\", 'r') as csvfile:\n",
        "    pass\n",
        "\n",
        "df = pd.read_csv(\"/tmp/bbc-text.csv\")\n",
        "\n",
        "labels = df[\"category\"].values\n",
        "sentences = df[\"text\"].values\n",
        "\n",
        "print(len(labels))\n",
        "print(len(sentences))\n",
        "print(sentences[0])\n",
        "# Expected Output\n",
        "# 2225\n",
        "# 2225\n",
        "# tv future hands viewers home theatre systems  plasma high-definition tvs  digital video recorders moving living room  way people watch tv will radically different five years  time.  according expert panel gathered annual consumer electronics show las vegas discuss new technologies will impact one favourite pastimes. us leading trend  programmes content will delivered viewers via home networks  cable  satellite  telecoms companies  broadband service providers front rooms portable devices.  one talked-about technologies ces digital personal video recorders (dvr pvr). set-top boxes  like us s tivo uk s sky+ system  allow people record  store  play  pause forward wind tv programmes want.  essentially  technology allows much personalised tv. also built-in high-definition tv sets  big business japan us  slower take off europe lack high-definition programming. not can people forward wind adverts  can also forget abiding network channel schedules  putting together a-la-carte entertainment. us networks cable satellite companies worried means terms advertising revenues well  brand identity  viewer loyalty channels. although us leads technology moment  also concern raised europe  particularly growing uptake services like sky+.  happens today  will see nine months years  time uk   adam hume  bbc broadcast s futurologist told bbc news website. likes bbc  no issues lost advertising revenue yet. pressing issue moment commercial uk broadcasters  brand loyalty important everyone.  will talking content brands rather network brands   said tim hanlon  brand communications firm starcom mediavest.  reality broadband connections  anybody can producer content.  added:  challenge now hard promote programme much choice.   means  said stacey jolna  senior vice president tv guide tv group  way people find content want watch simplified tv viewers. means networks  us terms  channels take leaf google s book search engine future  instead scheduler help people find want watch. kind channel model might work younger ipod generation used taking control gadgets play them. might not suit everyone  panel recognised. older generations comfortable familiar schedules channel brands know getting. perhaps not want much choice put hands  mr hanlon suggested.  end  kids just diapers pushing buttons already - everything possible available   said mr hanlon.  ultimately  consumer will tell market want.   50 000 new gadgets technologies showcased ces  many enhancing tv-watching experience. high-definition tv sets everywhere many new models lcd (liquid crystal display) tvs launched dvr capability built  instead external boxes. one example launched show humax s 26-inch lcd tv 80-hour tivo dvr dvd recorder. one us s biggest satellite tv companies  directtv  even launched branded dvr show 100-hours recording capability  instant replay  search function. set can pause rewind tv 90 hours. microsoft chief bill gates announced pre-show keynote speech partnership tivo  called tivotogo  means people can play recorded programmes windows pcs mobile devices. reflect increasing trend freeing multimedia people can watch want  want."
      ],
      "execution_count": 0,
      "outputs": [
        {
          "output_type": "stream",
          "text": [
            "2225\n",
            "2225\n",
            "tv future in the hands of viewers with home theatre systems  plasma high-definition tvs  and digital video recorders moving into the living room  the way people watch tv will be radically different in five years  time.  that is according to an expert panel which gathered at the annual consumer electronics show in las vegas to discuss how these new technologies will impact one of our favourite pastimes. with the us leading the trend  programmes and other content will be delivered to viewers via home networks  through cable  satellite  telecoms companies  and broadband service providers to front rooms and portable devices.  one of the most talked-about technologies of ces has been digital and personal video recorders (dvr and pvr). these set-top boxes  like the us s tivo and the uk s sky+ system  allow people to record  store  play  pause and forward wind tv programmes when they want.  essentially  the technology allows for much more personalised tv. they are also being built-in to high-definition tv sets  which are big business in japan and the us  but slower to take off in europe because of the lack of high-definition programming. not only can people forward wind through adverts  they can also forget about abiding by network and channel schedules  putting together their own a-la-carte entertainment. but some us networks and cable and satellite companies are worried about what it means for them in terms of advertising revenues as well as  brand identity  and viewer loyalty to channels. although the us leads in this technology at the moment  it is also a concern that is being raised in europe  particularly with the growing uptake of services like sky+.  what happens here today  we will see in nine months to a years  time in the uk   adam hume  the bbc broadcast s futurologist told the bbc news website. for the likes of the bbc  there are no issues of lost advertising revenue yet. it is a more pressing issue at the moment for commercial uk broadcasters  but brand loyalty is important for everyone.  we will be talking more about content brands rather than network brands   said tim hanlon  from brand communications firm starcom mediavest.  the reality is that with broadband connections  anybody can be the producer of content.  he added:  the challenge now is that it is hard to promote a programme with so much choice.   what this means  said stacey jolna  senior vice president of tv guide tv group  is that the way people find the content they want to watch has to be simplified for tv viewers. it means that networks  in us terms  or channels could take a leaf out of google s book and be the search engine of the future  instead of the scheduler to help people find what they want to watch. this kind of channel model might work for the younger ipod generation which is used to taking control of their gadgets and what they play on them. but it might not suit everyone  the panel recognised. older generations are more comfortable with familiar schedules and channel brands because they know what they are getting. they perhaps do not want so much of the choice put into their hands  mr hanlon suggested.  on the other end  you have the kids just out of diapers who are pushing buttons already - everything is possible and available to them   said mr hanlon.  ultimately  the consumer will tell the market they want.   of the 50 000 new gadgets and technologies being showcased at ces  many of them are about enhancing the tv-watching experience. high-definition tv sets are everywhere and many new models of lcd (liquid crystal display) tvs have been launched with dvr capability built into them  instead of being external boxes. one such example launched at the show is humax s 26-inch lcd tv with an 80-hour tivo dvr and dvd recorder. one of the us s biggest satellite tv companies  directtv  has even launched its own branded dvr at the show with 100-hours of recording capability  instant replay  and a search function. the set can pause and rewind tv for up to 90 hours. and microsoft chief bill gates announced in his pre-show keynote speech a partnership with tivo  called tivotogo  which means people can play recorded programmes on windows pcs and mobile devices. all these reflect the increasing trend of freeing up multimedia so that people can watch what they want  when they want.\n"
          ],
          "name": "stdout"
        }
      ]
    },
    {
      "cell_type": "code",
      "metadata": {
        "id": "XfdaWh06ZGe3",
        "colab_type": "code",
        "outputId": "e2fa2f27-a4ee-4d9b-8d36-1ca5faa88b91",
        "colab": {
          "base_uri": "https://localhost:8080/",
          "height": 104
        }
      },
      "source": [
        "train_size = int(len(sentences) * training_portion)\n",
        "\n",
        "train_sentences = sentences[:train_size]\n",
        "train_labels = labels[:train_size]\n",
        "\n",
        "validation_sentences = sentences[train_size:]\n",
        "validation_labels = labels[train_size:]\n",
        "\n",
        "print(train_size)\n",
        "print(len(train_sentences))\n",
        "print(len(train_labels))\n",
        "print(len(validation_sentences))\n",
        "print(len(validation_labels))\n",
        "\n",
        "# Expected output (if training_portion=.8)\n",
        "# 1780\n",
        "# 1780\n",
        "# 1780\n",
        "# 445\n",
        "# 445"
      ],
      "execution_count": 0,
      "outputs": [
        {
          "output_type": "stream",
          "text": [
            "1780\n",
            "1780\n",
            "1780\n",
            "445\n",
            "445\n"
          ],
          "name": "stdout"
        }
      ]
    },
    {
      "cell_type": "code",
      "metadata": {
        "id": "ULzA8xhwZI22",
        "colab_type": "code",
        "outputId": "cd6564cf-0881-4171-8bcb-654804fedb6b",
        "colab": {
          "base_uri": "https://localhost:8080/",
          "height": 121
        }
      },
      "source": [
        "tokenizer = Tokenizer(num_words=vocab_size, oov_token=oov_tok)\n",
        "tokenizer.fit_on_texts(train_sentences)\n",
        "word_index = tokenizer.word_index\n",
        "\n",
        "train_sequences = tokenizer.texts_to_sequences(train_sentences)\n",
        "train_padded = pad_sequences(train_sequences,  padding=padding_type, maxlen=max_length)\n",
        "\n",
        "print(len(train_sequences[0]))\n",
        "print(len(train_padded[0]))\n",
        "\n",
        "print(len(train_sequences[1]))\n",
        "print(len(train_padded[1]))\n",
        "\n",
        "print(len(train_sequences[10]))\n",
        "print(len(train_padded[10]))\n",
        "\n",
        "# Expected Ouput\n",
        "# 449\n",
        "# 120\n",
        "# 200\n",
        "# 120\n",
        "# 192\n",
        "# 120"
      ],
      "execution_count": 0,
      "outputs": [
        {
          "output_type": "stream",
          "text": [
            "750\n",
            "200\n",
            "300\n",
            "200\n",
            "311\n",
            "200\n"
          ],
          "name": "stdout"
        }
      ]
    },
    {
      "cell_type": "code",
      "metadata": {
        "id": "c8PeFWzPZLW_",
        "colab_type": "code",
        "outputId": "7a89dcec-c025-4c99-ecac-7250062c61a7",
        "colab": {
          "base_uri": "https://localhost:8080/",
          "height": 52
        }
      },
      "source": [
        "validation_sequences = tokenizer.texts_to_sequences(validation_sentences)\n",
        "validation_padded = pad_sequences(validation_sequences, maxlen=max_length)\n",
        "\n",
        "print(len(validation_sequences))\n",
        "print(validation_padded.shape)\n",
        "\n",
        "# Expected output\n",
        "# 445\n",
        "# (445, 120)"
      ],
      "execution_count": 0,
      "outputs": [
        {
          "output_type": "stream",
          "text": [
            "445\n",
            "(445, 200)\n"
          ],
          "name": "stdout"
        }
      ]
    },
    {
      "cell_type": "code",
      "metadata": {
        "id": "XkWiQ_FKZNp2",
        "colab_type": "code",
        "outputId": "ff16b507-be52-4e3d-8486-1ca365524046",
        "colab": {
          "base_uri": "https://localhost:8080/",
          "height": 155
        }
      },
      "source": [
        "label_tokenizer = Tokenizer()\n",
        "label_tokenizer.fit_on_texts(train_labels)\n",
        "\n",
        "training_label_seq = np.array(label_tokenizer.texts_to_sequences(train_labels))\n",
        "validation_label_seq = np.array(label_tokenizer.texts_to_sequences(validation_labels))\n",
        "\n",
        "print(training_label_seq[0])\n",
        "print(training_label_seq[1])\n",
        "print(training_label_seq[2])\n",
        "print(training_label_seq.shape)\n",
        "\n",
        "print(validation_label_seq[0])\n",
        "print(validation_label_seq[1])\n",
        "print(validation_label_seq[2])\n",
        "print(validation_label_seq.shape)\n",
        "\n",
        "# Expected output\n",
        "# [4]\n",
        "# [2]\n",
        "# [1]\n",
        "# (1780, 1)\n",
        "# [5]\n",
        "# [4]\n",
        "# [3]\n",
        "# (445, 1)"
      ],
      "execution_count": 0,
      "outputs": [
        {
          "output_type": "stream",
          "text": [
            "[5]\n",
            "[2]\n",
            "[1]\n",
            "(1780, 1)\n",
            "[4]\n",
            "[5]\n",
            "[3]\n",
            "(445, 1)\n"
          ],
          "name": "stdout"
        }
      ]
    },
    {
      "cell_type": "code",
      "metadata": {
        "id": "HZ5um4MWZP-W",
        "colab_type": "code",
        "outputId": "e1b3c8d4-3e93-4603-ede3-9692aac03d30",
        "colab": {
          "base_uri": "https://localhost:8080/",
          "height": 294
        }
      },
      "source": [
        "model = tf.keras.Sequential([\n",
        "    tf.keras.layers.Embedding(vocab_size, embedding_dim, input_length=max_length),\n",
        "    tf.keras.layers.GlobalAveragePooling1D(),\n",
        "    tf.keras.layers.Dense(24,activation='relu'),\n",
        "    tf.keras.layers.Dense(6, activation='softmax')\n",
        "    \n",
        "])\n",
        "model.compile(loss='sparse_categorical_crossentropy',optimizer='adam',metrics=['accuracy'])\n",
        "model.summary()\n",
        "\n",
        "# Expected Output\n",
        "# Layer (type)                 Output Shape              Param #   \n",
        "# =================================================================\n",
        "# embedding (Embedding)        (None, 120, 16)           16000     \n",
        "# _________________________________________________________________\n",
        "# global_average_pooling1d (Gl (None, 16)                0         \n",
        "# _________________________________________________________________\n",
        "# dense (Dense)                (None, 24)                408       \n",
        "# _________________________________________________________________\n",
        "# dense_1 (Dense)              (None, 6)                 150       \n",
        "# =================================================================\n",
        "# Total params: 16,558\n",
        "# Trainable params: 16,558\n",
        "# Non-trainable params: 0"
      ],
      "execution_count": 0,
      "outputs": [
        {
          "output_type": "stream",
          "text": [
            "Model: \"sequential\"\n",
            "_________________________________________________________________\n",
            "Layer (type)                 Output Shape              Param #   \n",
            "=================================================================\n",
            "embedding (Embedding)        (None, 200, 32)           320000    \n",
            "_________________________________________________________________\n",
            "global_average_pooling1d (Gl (None, 32)                0         \n",
            "_________________________________________________________________\n",
            "dense (Dense)                (None, 24)                792       \n",
            "_________________________________________________________________\n",
            "dense_1 (Dense)              (None, 6)                 150       \n",
            "=================================================================\n",
            "Total params: 320,942\n",
            "Trainable params: 320,942\n",
            "Non-trainable params: 0\n",
            "_________________________________________________________________\n"
          ],
          "name": "stdout"
        }
      ]
    },
    {
      "cell_type": "code",
      "metadata": {
        "id": "XsfdxySKZSXu",
        "colab_type": "code",
        "outputId": "cdb17db5-bf89-49d2-f59f-2addb6e4dca9",
        "colab": {
          "base_uri": "https://localhost:8080/",
          "height": 1160
        }
      },
      "source": [
        "num_epochs = 30\n",
        "history = model.fit(train_padded, training_label_seq, epochs=num_epochs, validation_data=(validation_padded, validation_label_seq), verbose=2)"
      ],
      "execution_count": 0,
      "outputs": [
        {
          "output_type": "stream",
          "text": [
            "WARNING: Logging before flag parsing goes to stderr.\n",
            "W0624 08:59:03.569065 140582268245888 deprecation.py:323] From /usr/local/lib/python3.6/dist-packages/tensorflow/python/ops/math_grad.py:1250: add_dispatch_support.<locals>.wrapper (from tensorflow.python.ops.array_ops) is deprecated and will be removed in a future version.\n",
            "Instructions for updating:\n",
            "Use tf.where in 2.0, which has the same broadcast rule as np.where\n"
          ],
          "name": "stderr"
        },
        {
          "output_type": "stream",
          "text": [
            "Train on 1780 samples, validate on 445 samples\n",
            "Epoch 1/30\n",
            "1780/1780 - 1s - loss: 1.7560 - accuracy: 0.2949 - val_loss: 1.7013 - val_accuracy: 0.4360\n",
            "Epoch 2/30\n",
            "1780/1780 - 0s - loss: 1.6264 - accuracy: 0.4449 - val_loss: 1.5351 - val_accuracy: 0.4652\n",
            "Epoch 3/30\n",
            "1780/1780 - 0s - loss: 1.3975 - accuracy: 0.5612 - val_loss: 1.2791 - val_accuracy: 0.6225\n",
            "Epoch 4/30\n",
            "1780/1780 - 0s - loss: 1.0731 - accuracy: 0.8034 - val_loss: 0.9654 - val_accuracy: 0.8315\n",
            "Epoch 5/30\n",
            "1780/1780 - 0s - loss: 0.7458 - accuracy: 0.9242 - val_loss: 0.7142 - val_accuracy: 0.8787\n",
            "Epoch 6/30\n",
            "1780/1780 - 0s - loss: 0.5029 - accuracy: 0.9562 - val_loss: 0.5393 - val_accuracy: 0.9034\n",
            "Epoch 7/30\n",
            "1780/1780 - 0s - loss: 0.3403 - accuracy: 0.9702 - val_loss: 0.4170 - val_accuracy: 0.9258\n",
            "Epoch 8/30\n",
            "1780/1780 - 0s - loss: 0.2352 - accuracy: 0.9787 - val_loss: 0.3442 - val_accuracy: 0.9303\n",
            "Epoch 9/30\n",
            "1780/1780 - 0s - loss: 0.1679 - accuracy: 0.9826 - val_loss: 0.2955 - val_accuracy: 0.9258\n",
            "Epoch 10/30\n",
            "1780/1780 - 0s - loss: 0.1233 - accuracy: 0.9893 - val_loss: 0.2631 - val_accuracy: 0.9303\n",
            "Epoch 11/30\n",
            "1780/1780 - 0s - loss: 0.0940 - accuracy: 0.9910 - val_loss: 0.2393 - val_accuracy: 0.9281\n",
            "Epoch 12/30\n",
            "1780/1780 - 0s - loss: 0.0721 - accuracy: 0.9955 - val_loss: 0.2227 - val_accuracy: 0.9303\n",
            "Epoch 13/30\n",
            "1780/1780 - 0s - loss: 0.0562 - accuracy: 0.9961 - val_loss: 0.2109 - val_accuracy: 0.9303\n",
            "Epoch 14/30\n",
            "1780/1780 - 0s - loss: 0.0450 - accuracy: 0.9983 - val_loss: 0.2003 - val_accuracy: 0.9371\n",
            "Epoch 15/30\n",
            "1780/1780 - 0s - loss: 0.0364 - accuracy: 0.9994 - val_loss: 0.1926 - val_accuracy: 0.9326\n",
            "Epoch 16/30\n",
            "1780/1780 - 0s - loss: 0.0299 - accuracy: 1.0000 - val_loss: 0.1861 - val_accuracy: 0.9326\n",
            "Epoch 17/30\n",
            "1780/1780 - 0s - loss: 0.0248 - accuracy: 1.0000 - val_loss: 0.1796 - val_accuracy: 0.9371\n",
            "Epoch 18/30\n",
            "1780/1780 - 0s - loss: 0.0209 - accuracy: 1.0000 - val_loss: 0.1757 - val_accuracy: 0.9348\n",
            "Epoch 19/30\n",
            "1780/1780 - 0s - loss: 0.0177 - accuracy: 1.0000 - val_loss: 0.1713 - val_accuracy: 0.9393\n",
            "Epoch 20/30\n",
            "1780/1780 - 0s - loss: 0.0152 - accuracy: 1.0000 - val_loss: 0.1696 - val_accuracy: 0.9348\n",
            "Epoch 21/30\n",
            "1780/1780 - 0s - loss: 0.0132 - accuracy: 1.0000 - val_loss: 0.1656 - val_accuracy: 0.9348\n",
            "Epoch 22/30\n",
            "1780/1780 - 0s - loss: 0.0115 - accuracy: 1.0000 - val_loss: 0.1634 - val_accuracy: 0.9371\n",
            "Epoch 23/30\n",
            "1780/1780 - 0s - loss: 0.0101 - accuracy: 1.0000 - val_loss: 0.1623 - val_accuracy: 0.9348\n",
            "Epoch 24/30\n",
            "1780/1780 - 0s - loss: 0.0090 - accuracy: 1.0000 - val_loss: 0.1602 - val_accuracy: 0.9393\n",
            "Epoch 25/30\n",
            "1780/1780 - 0s - loss: 0.0080 - accuracy: 1.0000 - val_loss: 0.1584 - val_accuracy: 0.9393\n",
            "Epoch 26/30\n",
            "1780/1780 - 0s - loss: 0.0072 - accuracy: 1.0000 - val_loss: 0.1571 - val_accuracy: 0.9393\n",
            "Epoch 27/30\n",
            "1780/1780 - 0s - loss: 0.0064 - accuracy: 1.0000 - val_loss: 0.1559 - val_accuracy: 0.9416\n",
            "Epoch 28/30\n",
            "1780/1780 - 0s - loss: 0.0058 - accuracy: 1.0000 - val_loss: 0.1549 - val_accuracy: 0.9393\n",
            "Epoch 29/30\n",
            "1780/1780 - 0s - loss: 0.0053 - accuracy: 1.0000 - val_loss: 0.1535 - val_accuracy: 0.9416\n",
            "Epoch 30/30\n",
            "1780/1780 - 0s - loss: 0.0048 - accuracy: 1.0000 - val_loss: 0.1527 - val_accuracy: 0.9393\n"
          ],
          "name": "stdout"
        }
      ]
    },
    {
      "cell_type": "code",
      "metadata": {
        "id": "-UabP6U6trwW",
        "colab_type": "code",
        "outputId": "3db205f4-2f74-4f44-e783-67d8824bd1c6",
        "colab": {
          "base_uri": "https://localhost:8080/",
          "height": 35
        }
      },
      "source": [
        "history.history.keys()"
      ],
      "execution_count": 0,
      "outputs": [
        {
          "output_type": "execute_result",
          "data": {
            "text/plain": [
              "dict_keys(['loss', 'accuracy', 'val_loss', 'val_accuracy'])"
            ]
          },
          "metadata": {
            "tags": []
          },
          "execution_count": 27
        }
      ]
    },
    {
      "cell_type": "code",
      "metadata": {
        "id": "dQ0BX2apXS9u",
        "colab_type": "code",
        "outputId": "0099c533-ab40-492a-8346-e12276cf287b",
        "colab": {
          "base_uri": "https://localhost:8080/",
          "height": 550
        }
      },
      "source": [
        "import matplotlib.pyplot as plt\n",
        "\n",
        "\n",
        "def plot_graphs(history, string):\n",
        "  plt.plot(history.history[string])\n",
        "  plt.plot(history.history['val_'+string])\n",
        "  plt.xlabel(\"Epochs\")\n",
        "  plt.ylabel(string)\n",
        "  plt.legend([string, 'val_'+string])\n",
        "  plt.show()\n",
        "  \n",
        "plot_graphs(history, \"accuracy\")\n",
        "plot_graphs(history, \"loss\")"
      ],
      "execution_count": 0,
      "outputs": [
        {
          "output_type": "display_data",
          "data": {
            "image/png": "[encoded data removed]",
            "text/plain": [
              "<Figure size 432x288 with 1 Axes>"
            ]
          },
          "metadata": {
            "tags": []
          }
        },
        {
          "output_type": "display_data",
          "data": {
            "image/png": "[encoded data removed]",
            "text/plain": [
              "<Figure size 432x288 with 1 Axes>"
            ]
          },
          "metadata": {
            "tags": []
          }
        }
      ]
    },
    {
      "cell_type": "code",
      "metadata": {
        "id": "w7Xc-uWxXhML",
        "colab_type": "code",
        "colab": {}
      },
      "source": [
        "reverse_word_index = dict([(value, key) for (key, value) in word_index.items()])\n",
        "\n",
        "def decode_sentence(text):\n",
        "    return ' '.join([reverse_word_index.get(i, '?') for i in text])\n"
      ],
      "execution_count": 0,
      "outputs": []
    },
    {
      "cell_type": "code",
      "metadata": {
        "id": "OhnFA_TDXrih",
        "colab_type": "code",
        "outputId": "d6c6dcb6-08ab-41c4-8178-759562297c8b",
        "colab": {
          "base_uri": "https://localhost:8080/",
          "height": 35
        }
      },
      "source": [
        "e = model.layers[0]\n",
        "weights = e.get_weights()[0]\n",
        "print(weights.shape) # shape: (vocab_size, embedding_dim)\n",
        "\n",
        "# Expected output\n",
        "# (1000, 16)"
      ],
      "execution_count": 0,
      "outputs": [
        {
          "output_type": "stream",
          "text": [
            "(10000, 32)\n"
          ],
          "name": "stdout"
        }
      ]
    },
    {
      "cell_type": "code",
      "metadata": {
        "id": "_POzcWWAXudL",
        "colab_type": "code",
        "outputId": "7fc44ef3-0fbb-402f-9a8e-77d14ba96b90",
        "colab": {
          "base_uri": "https://localhost:8080/",
          "height": 728
        }
      },
      "source": [
        "import io\n",
        "\n",
        "#out_v = io.open('vecs.tsv', 'w', encoding='utf-8')\n",
        "#out_m = io.open('meta.tsv', 'w', encoding='utf-8')\n",
        "for word_num  in range(1, vocab_size):\n",
        "  word = reverse_word_index[word_num]\n",
        "  embeddings = weights[word_num]\n",
        "  print(word + \"\\n\")\n",
        "  #out_m.write(word + \"\\n\")\n",
        "  print('\\t'.join([str(x) for x in embeddings]) + \"\\n\")\n",
        "  if word_num == 10:\n",
        "    break\n",
        "  #out_v.write('\\t'.join([str(x) for x in embeddings]) + \"\\n\")\n",
        "#out_v.close()\n",
        "#out_m.close()"
      ],
      "execution_count": 0,
      "outputs": [
        {
          "output_type": "stream",
          "text": [
            "<OOV>\n",
            "\n",
            "0.03574838\t0.0746028\t-0.33526352\t0.0769725\t-0.12967987\t-0.24360318\t0.016991004\t-0.27153718\t-0.44154844\t0.18007365\t0.22263023\t-0.17677276\t-0.3240168\t0.1637934\t0.017236823\t0.13239932\t0.09676324\t0.15308431\t0.19924721\t-0.07417812\t-0.020243542\t0.011164605\t0.00034307962\t0.09796108\t-0.17136\t0.5113791\t0.22147512\t-0.09488619\t-0.031124605\t0.21912445\t-0.002854086\t0.3363522\n",
            "\n",
            "the\n",
            "\n",
            "-0.023400132\t0.30403647\t-0.36330053\t0.2125926\t0.065551914\t-0.22750802\t-0.08252089\t-0.1884917\t-0.44596094\t-0.010073515\t0.075321116\t-0.15303324\t-0.2557994\t0.11099346\t-0.083087206\t-0.071453996\t0.2875468\t0.049003456\t0.15385161\t-0.02246877\t0.009213456\t-0.120147675\t0.20611481\t-0.14018358\t-0.03825402\t0.38648883\t0.15354273\t-0.032922853\t-0.19325368\t0.21251708\t-0.048791416\t0.32237488\n",
            "\n",
            "to\n",
            "\n",
            "-0.10354852\t0.21590735\t-0.3484932\t0.28125337\t0.049549315\t0.0512613\t0.04195664\t-0.2354508\t-0.35582078\t-0.08267512\t-0.096145995\t-0.0779773\t-0.30043527\t0.10023048\t-0.27940193\t-0.1146265\t0.15654185\t-0.010862109\t-0.061051868\t-0.070441365\t-0.1382106\t-0.24272105\t0.12966381\t-0.1925395\t0.03326749\t0.5076206\t0.2117612\t0.060316138\t-0.22725873\t0.30621153\t-0.15970223\t0.16794609\n",
            "\n",
            "of\n",
            "\n",
            "0.13596469\t0.15087576\t-0.2835105\t0.31188062\t-0.14643154\t-0.25417385\t0.17873749\t-0.22735007\t-0.37076795\t-0.03520183\t0.07178054\t0.052558005\t-0.2664396\t0.08947908\t-0.17844802\t0.017368386\t0.088693015\t-0.11673191\t-0.035087965\t-0.2518202\t-0.12762982\t-0.25100118\t0.03753655\t-0.034024883\t-0.10092433\t0.42984426\t0.20130761\t0.10843254\t-0.04445344\t0.26710668\t-0.0783613\t0.19431841\n",
            "\n",
            "and\n",
            "\n",
            "0.02700098\t0.012850749\t-0.37535042\t0.15745564\t-0.01435447\t-0.19043253\t0.05448553\t-0.17961036\t-0.40198362\t-0.03299375\t0.094285004\t-0.16491452\t-0.32414833\t-0.005919221\t-0.15016983\t-0.119401105\t0.19687414\t0.05690737\t0.12275759\t0.03745329\t0.013577063\t-0.12919396\t0.07551377\t-0.012457324\t-0.03649376\t0.44325298\t0.15274462\t0.13153109\t-0.1782895\t0.24611716\t-0.15098289\t0.37120667\n",
            "\n",
            "a\n",
            "\n",
            "-0.0010642448\t0.012899014\t-0.3663109\t0.27197686\t-0.028271766\t-0.10881656\t0.13773379\t-0.20232268\t-0.46576878\t-0.08750618\t0.028079325\t-0.040233213\t-0.30163732\t-0.0075216354\t-0.14020379\t-0.137683\t0.16381066\t-0.02044939\t0.01850291\t-0.00067410007\t-0.0745502\t-0.20849909\t-0.0011527132\t-0.060836583\t-0.031017607\t0.4992908\t0.185078\t0.13662256\t-0.20379737\t0.32289594\t-0.14396839\t0.31999353\n",
            "\n",
            "in\n",
            "\n",
            "-0.09331972\t0.29858267\t-0.37118146\t0.24094236\t0.15070236\t-0.11811393\t-0.1958402\t-0.25865173\t-0.393616\t0.14814237\t0.15762942\t-0.19448845\t-0.2680261\t0.20149013\t-0.24475373\t0.03133702\t0.19198106\t0.13733484\t0.23594648\t0.031303838\t-0.0697042\t-0.20056184\t0.2774122\t-0.12155742\t-0.053390782\t0.50704384\t0.14291343\t-0.19519512\t-0.15222001\t0.34441566\t-0.18109469\t0.29380772\n",
            "\n",
            "s\n",
            "\n",
            "-0.30306605\t0.26941845\t-0.4574609\t-0.21474926\t0.1878228\t-0.21302968\t-0.40295985\t-0.14193253\t-0.38112935\t0.30529857\t0.34748763\t-0.4795906\t-0.40903914\t0.2014754\t0.078526266\t0.17301992\t0.2765478\t0.38284338\t0.49428156\t0.19871216\t0.22185437\t0.15533502\t0.1843494\t0.0032295312\t-0.0814234\t0.33513525\t0.17133602\t-0.4559675\t-0.028047794\t0.0029696007\t-0.19793047\t0.47315198\n",
            "\n",
            "for\n",
            "\n",
            "0.09249202\t0.0538051\t-0.27921855\t0.13146538\t0.0221682\t-0.19574666\t0.056642406\t-0.16507411\t-0.44952607\t-0.102157906\t0.018464936\t-0.15804213\t-0.2925672\t-0.11132635\t-0.079111725\t-0.13967064\t0.27627218\t0.021797111\t0.12638274\t0.06649389\t0.03971691\t-0.05309731\t0.050307363\t-0.0466138\t-0.015957298\t0.44437054\t0.13821803\t0.09660259\t-0.20112036\t0.2038695\t-0.0042174743\t0.35886094\n",
            "\n",
            "is\n",
            "\n",
            "0.109516576\t-0.10644764\t-0.24887188\t0.24161617\t-0.13632537\t-0.00090132916\t0.23649944\t-0.21825232\t-0.42128363\t-0.10082978\t-0.058609754\t-0.034706317\t-0.25814393\t0.0304415\t-0.12729289\t-0.11420478\t0.06682389\t-0.10345809\t-0.14118144\t-0.11242473\t-0.1522265\t-0.1222102\t-0.05647169\t0.009550273\t-0.0283269\t0.4251528\t0.29615927\t0.27170998\t-0.11837372\t0.1856099\t-0.12871058\t0.24121216\n",
            "\n"
          ],
          "name": "stdout"
        }
      ]
    },
    {
      "cell_type": "code",
      "metadata": {
        "id": "VmqpQMZ_XyOa",
        "colab_type": "code",
        "colab": {}
      },
      "source": [
        "try:\n",
        "  from google.colab import files\n",
        "except ImportError:\n",
        "  pass\n",
        "else:\n",
        "  files.download('vecs.tsv')\n",
        "  files.download('meta.tsv')"
      ],
      "execution_count": 0,
      "outputs": []
    }
  ]
}