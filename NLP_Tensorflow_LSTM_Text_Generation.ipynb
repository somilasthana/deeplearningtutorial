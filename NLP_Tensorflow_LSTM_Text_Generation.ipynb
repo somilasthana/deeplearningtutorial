{
  "nbformat": 4,
  "nbformat_minor": 0,
  "metadata": {
    "colab": {
      "name": "NLP-Tensorflow-LSTM-Text-Generation.ipynb",
      "version": "0.3.2",
      "provenance": [],
      "include_colab_link": true
    },
    "kernelspec": {
      "name": "python3",
      "display_name": "Python 3"
    },
    "accelerator": "GPU"
  },
  "cells": [
    {
      "cell_type": "markdown",
      "metadata": {
        "id": "view-in-github",
        "colab_type": "text"
      },
      "source": [
        "<a href=\"https://colab.research.google.com/github/somilasthana/deeplearningtutorial/blob/master/NLP_Tensorflow_LSTM_Text_Generation.ipynb\" target=\"_parent\"><img src=\"https://colab.research.google.com/assets/colab-badge.svg\" alt=\"Open In Colab\"/></a>"
      ]
    },
    {
      "cell_type": "code",
      "metadata": {
        "id": "QB6nlgYkT6wt",
        "colab_type": "code",
        "colab": {}
      },
      "source": [
        "from tensorflow.keras.preprocessing.sequence import pad_sequences\n",
        "from tensorflow.keras.preprocessing.text import Tokenizer\n",
        "from tensorflow.keras.optimizers import Adam\n",
        "\n",
        "from tensorflow.keras.regularizers import l2\n",
        "\n",
        "import tensorflow as tf\n",
        "import tensorflow.keras.utils as ku\n",
        "import numpy as np\n"
      ],
      "execution_count": 0,
      "outputs": []
    },
    {
      "cell_type": "code",
      "metadata": {
        "id": "MmOF45HqbSqL",
        "colab_type": "code",
        "colab": {}
      },
      "source": [
        "import matplotlib.pyplot as plt\n",
        "\n",
        "\n",
        "def plot_graphs(history, string):\n",
        "  plt.plot(history.history[string])\n",
        "  plt.xlabel(\"Epochs\")\n",
        "  plt.ylabel(string)\n",
        "  plt.show()"
      ],
      "execution_count": 0,
      "outputs": []
    },
    {
      "cell_type": "code",
      "metadata": {
        "id": "NlJB7FDuUqUE",
        "colab_type": "code",
        "colab": {
          "base_uri": "https://localhost:8080/",
          "height": 207
        },
        "outputId": "e0900f0a-6e3e-4434-db30-f0c2dd9cddac"
      },
      "source": [
        "!wget --no-check-certificate \\\n",
        "    https://storage.googleapis.com/laurencemoroney-blog.appspot.com/sonnets.txt \\\n",
        "    -O /tmp/sonnets.txt\n",
        "data = open('/tmp/sonnets.txt').read()"
      ],
      "execution_count": 2,
      "outputs": [
        {
          "output_type": "stream",
          "text": [
            "--2019-06-25 01:50:50--  https://storage.googleapis.com/laurencemoroney-blog.appspot.com/sonnets.txt\n",
            "Resolving storage.googleapis.com (storage.googleapis.com)... 172.217.218.128, 2a00:1450:4013:c00::80\n",
            "Connecting to storage.googleapis.com (storage.googleapis.com)|172.217.218.128|:443... connected.\n",
            "HTTP request sent, awaiting response... 200 OK\n",
            "Length: 93578 (91K) [text/plain]\n",
            "Saving to: ‘/tmp/sonnets.txt’\n",
            "\n",
            "\r/tmp/sonnets.txt      0%[                    ]       0  --.-KB/s               \r/tmp/sonnets.txt    100%[===================>]  91.38K  --.-KB/s    in 0.001s  \n",
            "\n",
            "2019-06-25 01:50:50 (93.9 MB/s) - ‘/tmp/sonnets.txt’ saved [93578/93578]\n",
            "\n"
          ],
          "name": "stdout"
        }
      ]
    },
    {
      "cell_type": "code",
      "metadata": {
        "id": "t2pzOaddVBJC",
        "colab_type": "code",
        "colab": {}
      },
      "source": [
        "corpus = data.lower().split(\"\\n\")\n",
        "tokenizer = Tokenizer()\n",
        "\n",
        "tokenizer.fit_on_texts(corpus)"
      ],
      "execution_count": 0,
      "outputs": []
    },
    {
      "cell_type": "code",
      "metadata": {
        "id": "ncAbtsrJVOa9",
        "colab_type": "code",
        "colab": {}
      },
      "source": [
        "total_words = len(tokenizer.word_index) + 1"
      ],
      "execution_count": 0,
      "outputs": []
    },
    {
      "cell_type": "code",
      "metadata": {
        "id": "3Xwb_NEvVnX5",
        "colab_type": "code",
        "colab": {}
      },
      "source": [
        "# create input sequences using list of tokens\n",
        "\n",
        "input_sequence = []\n",
        "for line in corpus:\n",
        "  token_list = tokenizer.texts_to_sequences([line])[0]\n",
        "  \n",
        "  for i in range(1, len(token_list)):\n",
        "    n_gram_sequences = token_list[:i+1]\n",
        "    input_sequence.append(n_gram_sequences)"
      ],
      "execution_count": 0,
      "outputs": []
    },
    {
      "cell_type": "code",
      "metadata": {
        "id": "WxM4DyVdWRIb",
        "colab_type": "code",
        "colab": {
          "base_uri": "https://localhost:8080/",
          "height": 35
        },
        "outputId": "3ee0cb8d-51e4-4bb4-d4f9-7ab981dc8037"
      },
      "source": [
        "max_sequence_len = max([len(x) for x in input_sequence])\n",
        "max_sequence_len"
      ],
      "execution_count": 7,
      "outputs": [
        {
          "output_type": "execute_result",
          "data": {
            "text/plain": [
              "11"
            ]
          },
          "metadata": {
            "tags": []
          },
          "execution_count": 7
        }
      ]
    },
    {
      "cell_type": "code",
      "metadata": {
        "id": "cejVRancWcPC",
        "colab_type": "code",
        "colab": {}
      },
      "source": [
        "input_sequence = np.array(\n",
        "    pad_sequences(input_sequence, maxlen=max_sequence_len, padding='pre')\n",
        ")"
      ],
      "execution_count": 0,
      "outputs": []
    },
    {
      "cell_type": "code",
      "metadata": {
        "id": "dZSL2b2TWs-p",
        "colab_type": "code",
        "colab": {
          "base_uri": "https://localhost:8080/",
          "height": 35
        },
        "outputId": "9cbbc7b8-761c-4d17-b130-a892e3663975"
      },
      "source": [
        "predictors, labels = input_sequence[:, :-1], input_sequence[:, -1]\n",
        "predictors.shape, labels.shape"
      ],
      "execution_count": 9,
      "outputs": [
        {
          "output_type": "execute_result",
          "data": {
            "text/plain": [
              "((15462, 10), (15462,))"
            ]
          },
          "metadata": {
            "tags": []
          },
          "execution_count": 9
        }
      ]
    },
    {
      "cell_type": "code",
      "metadata": {
        "id": "TTT1ACm1W_Kq",
        "colab_type": "code",
        "colab": {}
      },
      "source": [
        "labels = ku.to_categorical(labels, num_classes=total_words)"
      ],
      "execution_count": 0,
      "outputs": []
    },
    {
      "cell_type": "code",
      "metadata": {
        "id": "4Jyt8iReXP6A",
        "colab_type": "code",
        "colab": {}
      },
      "source": [
        "model = tf.keras.Sequential([\n",
        "    tf.keras.layers.Embedding(total_words, 100, input_length=max_sequence_len-1),\n",
        "    tf.keras.layers.Bidirectional(tf.keras.layers.LSTM(64, return_sequences=True)),\n",
        "    tf.keras.layers.Dropout(0.5),\n",
        "    tf.keras.layers.Bidirectional(tf.keras.layers.LSTM(32)),\n",
        "    tf.keras.layers.Dense(64, activation='relu', kernel_regularizer=l2(1e-3)),\n",
        "    tf.keras.layers.Dense(total_words, activation='softmax')\n",
        "])"
      ],
      "execution_count": 0,
      "outputs": []
    },
    {
      "cell_type": "code",
      "metadata": {
        "id": "HieoaaNbZNYc",
        "colab_type": "code",
        "colab": {
          "base_uri": "https://localhost:8080/",
          "height": 363
        },
        "outputId": "aa4ec02b-9abb-4939-f06f-19339f24c8da"
      },
      "source": [
        "model.summary()"
      ],
      "execution_count": 25,
      "outputs": [
        {
          "output_type": "stream",
          "text": [
            "Model: \"sequential_2\"\n",
            "_________________________________________________________________\n",
            "Layer (type)                 Output Shape              Param #   \n",
            "=================================================================\n",
            "embedding_3 (Embedding)      (None, 10, 100)           321100    \n",
            "_________________________________________________________________\n",
            "bidirectional_6 (Bidirection (None, 10, 128)           84480     \n",
            "_________________________________________________________________\n",
            "dropout_3 (Dropout)          (None, 10, 128)           0         \n",
            "_________________________________________________________________\n",
            "bidirectional_7 (Bidirection (None, 64)                41216     \n",
            "_________________________________________________________________\n",
            "dense_4 (Dense)              (None, 64)                4160      \n",
            "_________________________________________________________________\n",
            "dense_5 (Dense)              (None, 3211)              208715    \n",
            "=================================================================\n",
            "Total params: 659,671\n",
            "Trainable params: 659,671\n",
            "Non-trainable params: 0\n",
            "_________________________________________________________________\n"
          ],
          "name": "stdout"
        }
      ]
    },
    {
      "cell_type": "code",
      "metadata": {
        "id": "mRUWzoDSZY9w",
        "colab_type": "code",
        "colab": {}
      },
      "source": [
        "model.compile(loss=\"categorical_crossentropy\", optimizer=Adam(0.01), metrics=[\"accuracy\"])"
      ],
      "execution_count": 0,
      "outputs": []
    },
    {
      "cell_type": "code",
      "metadata": {
        "id": "R_EDZHtCZmzC",
        "colab_type": "code",
        "colab": {
          "base_uri": "https://localhost:8080/",
          "height": 1000
        },
        "outputId": "a5088bf8-da4a-4a47-f861-5da568557217"
      },
      "source": [
        "history = model.fit(predictors, labels, epochs=100, verbose=2)"
      ],
      "execution_count": 27,
      "outputs": [
        {
          "output_type": "stream",
          "text": [
            "WARNING: Logging before flag parsing goes to stderr.\n",
            "W0625 02:16:54.894635 140527551022976 deprecation.py:323] From /usr/local/lib/python3.6/dist-packages/tensorflow/python/ops/math_grad.py:1250: add_dispatch_support.<locals>.wrapper (from tensorflow.python.ops.array_ops) is deprecated and will be removed in a future version.\n",
            "Instructions for updating:\n",
            "Use tf.where in 2.0, which has the same broadcast rule as np.where\n"
          ],
          "name": "stderr"
        },
        {
          "output_type": "stream",
          "text": [
            "Train on 15462 samples\n",
            "Epoch 1/100\n",
            "15462/15462 - 29s - loss: 6.8211 - accuracy: 0.0216\n",
            "Epoch 2/100\n",
            "15462/15462 - 26s - loss: 6.4850 - accuracy: 0.0234\n",
            "Epoch 3/100\n",
            "15462/15462 - 26s - loss: 6.4096 - accuracy: 0.0292\n",
            "Epoch 4/100\n",
            "15462/15462 - 25s - loss: 6.3499 - accuracy: 0.0321\n",
            "Epoch 5/100\n",
            "15462/15462 - 26s - loss: 6.3154 - accuracy: 0.0333\n",
            "Epoch 6/100\n",
            "15462/15462 - 26s - loss: 6.2725 - accuracy: 0.0347\n",
            "Epoch 7/100\n",
            "15462/15462 - 26s - loss: 6.2408 - accuracy: 0.0346\n",
            "Epoch 8/100\n",
            "15462/15462 - 26s - loss: 6.2031 - accuracy: 0.0376\n",
            "Epoch 9/100\n",
            "15462/15462 - 26s - loss: 6.1601 - accuracy: 0.0418\n",
            "Epoch 10/100\n",
            "15462/15462 - 26s - loss: 6.1159 - accuracy: 0.0417\n",
            "Epoch 11/100\n",
            "15462/15462 - 26s - loss: 6.0790 - accuracy: 0.0434\n",
            "Epoch 12/100\n",
            "15462/15462 - 25s - loss: 6.0332 - accuracy: 0.0442\n",
            "Epoch 13/100\n",
            "15462/15462 - 26s - loss: 6.0017 - accuracy: 0.0465\n",
            "Epoch 14/100\n",
            "15462/15462 - 26s - loss: 5.9641 - accuracy: 0.0483\n",
            "Epoch 15/100\n",
            "15462/15462 - 26s - loss: 5.9383 - accuracy: 0.0472\n",
            "Epoch 16/100\n",
            "15462/15462 - 26s - loss: 5.9124 - accuracy: 0.0482\n",
            "Epoch 17/100\n",
            "15462/15462 - 26s - loss: 5.8817 - accuracy: 0.0504\n",
            "Epoch 18/100\n",
            "15462/15462 - 26s - loss: 5.8662 - accuracy: 0.0499\n",
            "Epoch 19/100\n",
            "15462/15462 - 26s - loss: 5.8421 - accuracy: 0.0489\n",
            "Epoch 20/100\n",
            "15462/15462 - 26s - loss: 5.8267 - accuracy: 0.0500\n",
            "Epoch 21/100\n",
            "15462/15462 - 26s - loss: 5.8118 - accuracy: 0.0517\n",
            "Epoch 22/100\n",
            "15462/15462 - 26s - loss: 5.8002 - accuracy: 0.0513\n",
            "Epoch 23/100\n",
            "15462/15462 - 26s - loss: 5.7836 - accuracy: 0.0529\n",
            "Epoch 24/100\n",
            "15462/15462 - 26s - loss: 5.7760 - accuracy: 0.0521\n",
            "Epoch 25/100\n",
            "15462/15462 - 27s - loss: 5.7573 - accuracy: 0.0535\n",
            "Epoch 26/100\n",
            "15462/15462 - 26s - loss: 5.7535 - accuracy: 0.0548\n",
            "Epoch 27/100\n",
            "15462/15462 - 26s - loss: 5.7531 - accuracy: 0.0545\n",
            "Epoch 28/100\n",
            "15462/15462 - 26s - loss: 5.7391 - accuracy: 0.0538\n",
            "Epoch 29/100\n",
            "15462/15462 - 26s - loss: 5.7366 - accuracy: 0.0539\n",
            "Epoch 30/100\n",
            "15462/15462 - 26s - loss: 5.7219 - accuracy: 0.0540\n",
            "Epoch 31/100\n",
            "15462/15462 - 26s - loss: 5.7159 - accuracy: 0.0537\n",
            "Epoch 32/100\n",
            "15462/15462 - 26s - loss: 5.7008 - accuracy: 0.0551\n",
            "Epoch 33/100\n",
            "15462/15462 - 26s - loss: 5.6923 - accuracy: 0.0557\n",
            "Epoch 34/100\n",
            "15462/15462 - 26s - loss: 5.6862 - accuracy: 0.0554\n",
            "Epoch 35/100\n",
            "15462/15462 - 26s - loss: 5.6778 - accuracy: 0.0570\n",
            "Epoch 36/100\n",
            "15462/15462 - 26s - loss: 5.6762 - accuracy: 0.0578\n",
            "Epoch 37/100\n",
            "15462/15462 - 26s - loss: 5.6732 - accuracy: 0.0558\n",
            "Epoch 38/100\n",
            "15462/15462 - 26s - loss: 5.6639 - accuracy: 0.0583\n",
            "Epoch 39/100\n",
            "15462/15462 - 26s - loss: 5.6664 - accuracy: 0.0579\n",
            "Epoch 40/100\n",
            "15462/15462 - 15s - loss: 5.6676 - accuracy: 0.0587\n",
            "Epoch 41/100\n",
            "15462/15462 - 13s - loss: 5.6484 - accuracy: 0.0564\n",
            "Epoch 42/100\n",
            "15462/15462 - 13s - loss: 5.6534 - accuracy: 0.0563\n",
            "Epoch 43/100\n",
            "15462/15462 - 13s - loss: 5.6453 - accuracy: 0.0572\n",
            "Epoch 44/100\n",
            "15462/15462 - 14s - loss: 5.6361 - accuracy: 0.0560\n",
            "Epoch 45/100\n",
            "15462/15462 - 13s - loss: 5.6400 - accuracy: 0.0556\n",
            "Epoch 46/100\n",
            "15462/15462 - 13s - loss: 5.6344 - accuracy: 0.0556\n",
            "Epoch 47/100\n",
            "15462/15462 - 13s - loss: 5.6365 - accuracy: 0.0541\n",
            "Epoch 48/100\n",
            "15462/15462 - 13s - loss: 5.6369 - accuracy: 0.0576\n",
            "Epoch 49/100\n",
            "15462/15462 - 13s - loss: 5.6295 - accuracy: 0.0559\n",
            "Epoch 50/100\n",
            "15462/15462 - 13s - loss: 5.6319 - accuracy: 0.0570\n",
            "Epoch 51/100\n",
            "15462/15462 - 13s - loss: 5.6215 - accuracy: 0.0564\n",
            "Epoch 52/100\n",
            "15462/15462 - 13s - loss: 5.6293 - accuracy: 0.0576\n",
            "Epoch 53/100\n",
            "15462/15462 - 13s - loss: 5.6174 - accuracy: 0.0572\n",
            "Epoch 54/100\n",
            "15462/15462 - 13s - loss: 5.6338 - accuracy: 0.0580\n",
            "Epoch 55/100\n",
            "15462/15462 - 13s - loss: 5.6232 - accuracy: 0.0590\n",
            "Epoch 56/100\n",
            "15462/15462 - 13s - loss: 5.6190 - accuracy: 0.0580\n",
            "Epoch 57/100\n",
            "15462/15462 - 13s - loss: 5.6192 - accuracy: 0.0583\n",
            "Epoch 58/100\n",
            "15462/15462 - 13s - loss: 5.6163 - accuracy: 0.0568\n",
            "Epoch 59/100\n",
            "15462/15462 - 13s - loss: 5.6114 - accuracy: 0.0581\n",
            "Epoch 60/100\n",
            "15462/15462 - 13s - loss: 5.6117 - accuracy: 0.0568\n",
            "Epoch 61/100\n",
            "15462/15462 - 13s - loss: 5.6326 - accuracy: 0.0570\n",
            "Epoch 62/100\n",
            "15462/15462 - 13s - loss: 5.6202 - accuracy: 0.0590\n",
            "Epoch 63/100\n",
            "15462/15462 - 13s - loss: 5.6230 - accuracy: 0.0584\n",
            "Epoch 64/100\n",
            "15462/15462 - 13s - loss: 5.6146 - accuracy: 0.0576\n",
            "Epoch 65/100\n",
            "15462/15462 - 13s - loss: 5.6216 - accuracy: 0.0581\n",
            "Epoch 66/100\n",
            "15462/15462 - 13s - loss: 5.6199 - accuracy: 0.0590\n",
            "Epoch 67/100\n",
            "15462/15462 - 13s - loss: 5.6178 - accuracy: 0.0590\n",
            "Epoch 68/100\n",
            "15462/15462 - 13s - loss: 5.6384 - accuracy: 0.0576\n",
            "Epoch 69/100\n",
            "15462/15462 - 13s - loss: 5.6136 - accuracy: 0.0575\n",
            "Epoch 70/100\n",
            "15462/15462 - 13s - loss: 5.6365 - accuracy: 0.0567\n",
            "Epoch 71/100\n",
            "15462/15462 - 13s - loss: 5.6170 - accuracy: 0.0563\n",
            "Epoch 72/100\n",
            "15462/15462 - 13s - loss: 5.6209 - accuracy: 0.0583\n",
            "Epoch 73/100\n",
            "15462/15462 - 13s - loss: 5.6182 - accuracy: 0.0584\n",
            "Epoch 74/100\n",
            "15462/15462 - 13s - loss: 5.6225 - accuracy: 0.0567\n",
            "Epoch 75/100\n",
            "15462/15462 - 13s - loss: 5.6148 - accuracy: 0.0574\n",
            "Epoch 76/100\n",
            "15462/15462 - 13s - loss: 5.6253 - accuracy: 0.0571\n",
            "Epoch 77/100\n",
            "15462/15462 - 13s - loss: 5.6269 - accuracy: 0.0572\n",
            "Epoch 78/100\n",
            "15462/15462 - 13s - loss: 5.6206 - accuracy: 0.0584\n",
            "Epoch 79/100\n",
            "15462/15462 - 13s - loss: 5.6304 - accuracy: 0.0576\n",
            "Epoch 80/100\n",
            "15462/15462 - 13s - loss: 5.6290 - accuracy: 0.0570\n",
            "Epoch 81/100\n",
            "15462/15462 - 13s - loss: 5.6185 - accuracy: 0.0567\n",
            "Epoch 82/100\n",
            "15462/15462 - 13s - loss: 5.6226 - accuracy: 0.0584\n",
            "Epoch 83/100\n",
            "15462/15462 - 13s - loss: 5.6330 - accuracy: 0.0579\n",
            "Epoch 84/100\n",
            "15462/15462 - 13s - loss: 5.6122 - accuracy: 0.0575\n",
            "Epoch 85/100\n",
            "15462/15462 - 13s - loss: 5.6167 - accuracy: 0.0582\n",
            "Epoch 86/100\n",
            "15462/15462 - 13s - loss: 5.6176 - accuracy: 0.0564\n",
            "Epoch 87/100\n",
            "15462/15462 - 13s - loss: 5.6135 - accuracy: 0.0578\n",
            "Epoch 88/100\n",
            "15462/15462 - 13s - loss: 5.6134 - accuracy: 0.0583\n",
            "Epoch 89/100\n",
            "15462/15462 - 13s - loss: 5.6025 - accuracy: 0.0587\n",
            "Epoch 90/100\n",
            "15462/15462 - 13s - loss: 5.6080 - accuracy: 0.0583\n",
            "Epoch 91/100\n",
            "15462/15462 - 13s - loss: 5.6115 - accuracy: 0.0578\n",
            "Epoch 92/100\n",
            "15462/15462 - 13s - loss: 5.6289 - accuracy: 0.0574\n",
            "Epoch 93/100\n",
            "15462/15462 - 13s - loss: 5.6110 - accuracy: 0.0600\n",
            "Epoch 94/100\n",
            "15462/15462 - 13s - loss: 5.6101 - accuracy: 0.0576\n",
            "Epoch 95/100\n",
            "15462/15462 - 13s - loss: 5.6192 - accuracy: 0.0583\n",
            "Epoch 96/100\n",
            "15462/15462 - 13s - loss: 5.6227 - accuracy: 0.0568\n",
            "Epoch 97/100\n",
            "15462/15462 - 13s - loss: 5.6096 - accuracy: 0.0578\n",
            "Epoch 98/100\n",
            "15462/15462 - 13s - loss: 5.6127 - accuracy: 0.0572\n",
            "Epoch 99/100\n",
            "15462/15462 - 13s - loss: 5.6094 - accuracy: 0.0591\n",
            "Epoch 100/100\n",
            "15462/15462 - 13s - loss: 5.6264 - accuracy: 0.0579\n"
          ],
          "name": "stdout"
        }
      ]
    },
    {
      "cell_type": "code",
      "metadata": {
        "id": "qIX1OYTGiDOp",
        "colab_type": "code",
        "colab": {
          "base_uri": "https://localhost:8080/",
          "height": 35
        },
        "outputId": "bbde30d9-c078-40c9-b7a5-7a49e381d89c"
      },
      "source": [
        "history.history.keys()"
      ],
      "execution_count": 30,
      "outputs": [
        {
          "output_type": "execute_result",
          "data": {
            "text/plain": [
              "dict_keys(['loss', 'accuracy'])"
            ]
          },
          "metadata": {
            "tags": []
          },
          "execution_count": 30
        }
      ]
    },
    {
      "cell_type": "code",
      "metadata": {
        "id": "gu5OIoNoZ2Ae",
        "colab_type": "code",
        "colab": {
          "base_uri": "https://localhost:8080/",
          "height": 284
        },
        "outputId": "fe2dc637-959b-455f-bbe3-570b6947086a"
      },
      "source": [
        "plot_graphs(history, \"accuracy\")"
      ],
      "execution_count": 32,
      "outputs": [
        {
          "output_type": "display_data",
          "data": {
            "image/png": "[encoded data removed]",
            "text/plain": [
              "<Figure size 432x288 with 1 Axes>"
            ]
          },
          "metadata": {
            "tags": []
          }
        }
      ]
    },
    {
      "cell_type": "code",
      "metadata": {
        "id": "Lh7D1QmUbZQe",
        "colab_type": "code",
        "colab": {
          "base_uri": "https://localhost:8080/",
          "height": 284
        },
        "outputId": "280b4c53-d2b1-4337-bfbe-7e67cadd0336"
      },
      "source": [
        "plot_graphs(history, \"loss\")"
      ],
      "execution_count": 33,
      "outputs": [
        {
          "output_type": "display_data",
          "data": {
            "image/png": "[encoded data removed]",
            "text/plain": [
              "<Figure size 432x288 with 1 Axes>"
            ]
          },
          "metadata": {
            "tags": []
          }
        }
      ]
    },
    {
      "cell_type": "code",
      "metadata": {
        "id": "60s6njCkiloo",
        "colab_type": "code",
        "colab": {
          "base_uri": "https://localhost:8080/",
          "height": 55
        },
        "outputId": "bc3f3046-c7d7-49e6-e2e8-bed00c722207"
      },
      "source": [
        "seed_text = \"Help me Obi Wan Kenobi, you're my only hope\"\n",
        "next_words = 100\n",
        "\n",
        "for _ in range(next_words):\n",
        "  token_list = tokenizer.texts_to_sequences([seed_text])[0]\n",
        "  token_list = pad_sequences([token_list], maxlen=max_sequence_len-1, padding='pre')\n",
        "  pred = model.predict_classes(token_list, verbose=0)\n",
        "  outword = \"\"\n",
        "  for word, index in tokenizer.word_index.items():\n",
        "    if index == pred:\n",
        "      output_word = word\n",
        "      break\n",
        "  seed_text += \" \" + output_word\n",
        "\n",
        "print(seed_text)"
      ],
      "execution_count": 39,
      "outputs": [
        {
          "output_type": "stream",
          "text": [
            "Help me Obi Wan Kenobi, you're my only hope in the world of my love with ' ' ' ' art ' ' ' ' ' ' ' ' ' ' ' ' ' ' ' ' ' ' ' ' ' ' ' ' ' ' ' ' ' ' ' ' ' ' ' ' ' ' ' ' ' ' ' ' ' ' ' ' ' ' ' ' ' ' ' ' ' ' ' ' ' ' ' ' ' ' ' ' ' ' ' ' ' ' ' ' ' ' ' ' ' ' ' ' ' ' ' '\n"
          ],
          "name": "stdout"
        }
      ]
    },
    {
      "cell_type": "code",
      "metadata": {
        "id": "htTPRZsHjIem",
        "colab_type": "code",
        "colab": {}
      },
      "source": [
        ""
      ],
      "execution_count": 0,
      "outputs": []
    }
  ]
}