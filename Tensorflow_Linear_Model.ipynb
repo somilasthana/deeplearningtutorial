{
  "nbformat": 4,
  "nbformat_minor": 0,
  "metadata": {
    "colab": {
      "name": "Tensorflow-Linear-Model.ipynb",
      "version": "0.3.2",
      "provenance": [],
      "collapsed_sections": [],
      "include_colab_link": true
    },
    "kernelspec": {
      "name": "python3",
      "display_name": "Python 3"
    },
    "accelerator": "GPU"
  },
  "cells": [
    {
      "cell_type": "markdown",
      "metadata": {
        "id": "view-in-github",
        "colab_type": "text"
      },
      "source": [
        "<a href=\"https://colab.research.google.com/github/somilasthana/deeplearningtutorial/blob/master/Tensorflow_Linear_Model.ipynb\" target=\"_parent\"><img src=\"https://colab.research.google.com/assets/colab-badge.svg\" alt=\"Open In Colab\"/></a>"
      ]
    },
    {
      "cell_type": "code",
      "metadata": {
        "id": "e41sgqhoJ3X4",
        "colab_type": "code",
        "colab": {}
      },
      "source": [
        "import tensorflow as tf\n",
        "import tensorflow.feature_column as fc\n",
        "import os\n",
        "import sys\n",
        "\n",
        "import matplotlib.pyplot as plt\n",
        "from IPython.display import clear_output\n"
      ],
      "execution_count": 0,
      "outputs": []
    },
    {
      "cell_type": "code",
      "metadata": {
        "id": "hKYipg5hKQ0J",
        "colab_type": "code",
        "colab": {}
      },
      "source": [
        "tf.enable_eager_execution()"
      ],
      "execution_count": 0,
      "outputs": []
    },
    {
      "cell_type": "code",
      "metadata": {
        "id": "BCoTgnhxKZrp",
        "colab_type": "code",
        "outputId": "4f0f8c41-17cd-4b84-f199-fdf972b38cab",
        "colab": {
          "base_uri": "https://localhost:8080/",
          "height": 35
        }
      },
      "source": [
        "! pip install -q requests\n",
        "! git clone --depth 1 https://github.com/tensorflow/models"
      ],
      "execution_count": 0,
      "outputs": [
        {
          "output_type": "stream",
          "text": [
            "fatal: destination path 'models' already exists and is not an empty directory.\n"
          ],
          "name": "stdout"
        }
      ]
    },
    {
      "cell_type": "code",
      "metadata": {
        "id": "FlPHhgyEKimy",
        "colab_type": "code",
        "colab": {}
      },
      "source": [
        "models_path = os.path.join(os.getcwd(), 'models')\n",
        "sys.path.append(models_path)"
      ],
      "execution_count": 0,
      "outputs": []
    },
    {
      "cell_type": "code",
      "metadata": {
        "id": "N3P-9i3yKzwH",
        "colab_type": "code",
        "colab": {}
      },
      "source": [
        "from official.wide_deep import census_dataset\n",
        "from official.wide_deep import census_main\n",
        "\n",
        "census_dataset.download(\"/tmp/census_dataset\")"
      ],
      "execution_count": 0,
      "outputs": []
    },
    {
      "cell_type": "code",
      "metadata": {
        "id": "lV-cMFGALC5J",
        "colab_type": "code",
        "colab": {}
      },
      "source": [
        "#export PYTHONPATH=${PYTHONPATH}:\"$(pwd)/models\"\n",
        "#running from python you need to set the `os.environ` or the subprocess will not see the directory.\n",
        "\n",
        "if \"PYTHONPATH\" in os.environ:\n",
        "  os.environ['PYTHONPATH'] += os.pathsep +  models_path\n",
        "else:\n",
        "  os.environ['PYTHONPATH'] = models_path"
      ],
      "execution_count": 0,
      "outputs": []
    },
    {
      "cell_type": "code",
      "metadata": {
        "id": "OKvjL8lRLl_f",
        "colab_type": "code",
        "outputId": "83954ec2-76d0-49a7-96c4-99f4f876b7d6",
        "colab": {
          "base_uri": "https://localhost:8080/",
          "height": 898
        }
      },
      "source": [
        "!python -m official.wide_deep.census_main --help"
      ],
      "execution_count": 0,
      "outputs": [
        {
          "output_type": "stream",
          "text": [
            "Train DNN on census income dataset.\n",
            "flags:\n",
            "\n",
            "/content/models/official/wide_deep/census_main.py:\n",
            "  -bs,--batch_size:\n",
            "    Batch size for training and evaluation. When using multiple gpus, this is\n",
            "    the\n",
            "    global batch size for all devices. For example, if the batch size is 32 and\n",
            "    there are 4 GPUs, each GPU will get 8 examples on each step.\n",
            "    (default: '40')\n",
            "    (an integer)\n",
            "  --[no]clean:\n",
            "    If set, model_dir will be removed if it exists.\n",
            "    (default: 'false')\n",
            "  -dd,--data_dir:\n",
            "    The location of the input data.\n",
            "    (default: '/tmp/census_data')\n",
            "  --[no]download_if_missing:\n",
            "    Download data to data_dir if it is not already present.\n",
            "    (default: 'true')\n",
            "  -ebe,--epochs_between_evals:\n",
            "    The number of training epochs to run between evaluations.\n",
            "    (default: '2')\n",
            "    (an integer)\n",
            "  -ed,--export_dir:\n",
            "    If set, a SavedModel serialization of the model will be exported to this\n",
            "    directory at the end of training. See the README for more details and\n",
            "    relevant\n",
            "    links.\n",
            "  -hk,--hooks:\n",
            "    A list of (case insensitive) strings to specify the names of training hooks.\n",
            "    ﻿  Hook:\n",
            "    ﻿    loggingtensorhook\n",
            "    ﻿    profilerhook\n",
            "    ﻿    examplespersecondhook\n",
            "    ﻿    loggingmetrichook\n",
            "    ﻿  Example: `--hooks ProfilerHook,ExamplesPerSecondHook`\n",
            "    See official.utils.logs.hooks_helper for details.\n",
            "    (default: 'LoggingTensorHook')\n",
            "    (a comma separated list)\n",
            "  -md,--model_dir:\n",
            "    The location of the model checkpoint files.\n",
            "    (default: '/tmp/census_model')\n",
            "  -mt,--model_type: <wide|deep|wide_deep>: Select model topology.\n",
            "    (default: 'wide_deep')\n",
            "  -te,--train_epochs:\n",
            "    The number of epochs used to train.\n",
            "    (default: '40')\n",
            "    (an integer)\n",
            "\n",
            "Try --helpfull to get a list of all flags.\n"
          ],
          "name": "stdout"
        }
      ]
    },
    {
      "cell_type": "code",
      "metadata": {
        "id": "a_Y1DJzxLonu",
        "colab_type": "code",
        "outputId": "675b48ab-9dc0-4c3a-8367-19ea81215952",
        "colab": {
          "base_uri": "https://localhost:8080/",
          "height": 2490
        }
      },
      "source": [
        "!python -m official.wide_deep.census_main --model_type=wide --train_epochs=2"
      ],
      "execution_count": 0,
      "outputs": [
        {
          "output_type": "stream",
          "text": [
            "I0601 03:34:41.757406 140182807984000 estimator.py:201] Using config: {'_model_dir': '/tmp/census_model', '_tf_random_seed': None, '_save_summary_steps': 100, '_save_checkpoints_steps': None, '_save_checkpoints_secs': 600, '_session_config': device_count {\n",
            "  key: \"GPU\"\n",
            "  value: 0\n",
            "}\n",
            ", '_keep_checkpoint_max': 5, '_keep_checkpoint_every_n_hours': 10000, '_log_step_count_steps': 100, '_train_distribute': None, '_device_fn': None, '_protocol': None, '_eval_distribute': None, '_experimental_distribute': None, '_service': None, '_cluster_spec': <tensorflow.python.training.server_lib.ClusterSpec object at 0x7f7e80bc4da0>, '_task_type': 'worker', '_task_id': 0, '_global_id_in_cluster': 0, '_master': '', '_evaluation_master': '', '_is_chief': True, '_num_ps_replicas': 0, '_num_worker_replicas': 1}\n",
            "W0601 03:34:41.758492 140182807984000 tf_logging.py:161] 'cpuinfo' not imported. CPU info will not be logged.\n",
            "2019-06-01 03:34:41.771185: I tensorflow/core/platform/profile_utils/cpu_utils.cc:94] CPU Frequency: 2300000000 Hz\n",
            "2019-06-01 03:34:41.771416: I tensorflow/compiler/xla/service/service.cc:150] XLA service 0x35951e0 executing computations on platform Host. Devices:\n",
            "2019-06-01 03:34:41.771448: I tensorflow/compiler/xla/service/service.cc:158]   StreamExecutor device (0): <undefined>, <undefined>\n",
            "2019-06-01 03:34:41.887040: I tensorflow/stream_executor/cuda/cuda_gpu_executor.cc:998] successful NUMA node read from SysFS had negative value (-1), but there must be at least one NUMA node, so returning NUMA node zero\n",
            "2019-06-01 03:34:41.887520: I tensorflow/compiler/xla/service/service.cc:150] XLA service 0x3594dc0 executing computations on platform CUDA. Devices:\n",
            "2019-06-01 03:34:41.887550: I tensorflow/compiler/xla/service/service.cc:158]   StreamExecutor device (0): Tesla T4, Compute Capability 7.5\n",
            "2019-06-01 03:34:41.887945: I tensorflow/core/common_runtime/gpu/gpu_device.cc:1433] Found device 0 with properties: \n",
            "name: Tesla T4 major: 7 minor: 5 memoryClockRate(GHz): 1.59\n",
            "pciBusID: 0000:00:04.0\n",
            "totalMemory: 14.73GiB freeMemory: 14.04GiB\n",
            "2019-06-01 03:34:41.887968: I tensorflow/core/common_runtime/gpu/gpu_device.cc:1512] Adding visible gpu devices: 0\n",
            "2019-06-01 03:34:42.327664: I tensorflow/core/common_runtime/gpu/gpu_device.cc:984] Device interconnect StreamExecutor with strength 1 edge matrix:\n",
            "2019-06-01 03:34:42.327723: I tensorflow/core/common_runtime/gpu/gpu_device.cc:990]      0 \n",
            "2019-06-01 03:34:42.327735: I tensorflow/core/common_runtime/gpu/gpu_device.cc:1003] 0:   N \n",
            "2019-06-01 03:34:42.328029: W tensorflow/core/common_runtime/gpu/gpu_bfc_allocator.cc:42] Overriding allow_growth setting because the TF_FORCE_GPU_ALLOW_GROWTH environment variable is set. Original config value was 0.\n",
            "2019-06-01 03:34:42.328077: I tensorflow/core/common_runtime/gpu/gpu_device.cc:1115] Created TensorFlow device (/device:GPU:0 with 13575 MB memory) -> physical GPU (device: 0, name: Tesla T4, pci bus id: 0000:00:04.0, compute capability: 7.5)\n",
            "I0601 03:34:47.361486 140182807984000 logger.py:152] Benchmark run: {'model_name': 'wide_deep', 'dataset': {'name': 'Census Income'}, 'machine_config': {'gpu_info': {'count': 1, 'model': 'Tesla T4'}, 'memory_total': 13655322624, 'memory_available': 10819223552}, 'test_id': None, 'run_date': '2019-06-01T03:34:41.758157Z', 'tensorflow_version': {'version': '1.13.1', 'git_hash': \"b'v1.13.1-2-g09e3b09e69'\"}, 'tensorflow_environment_variables': [{'name': 'TF_FORCE_GPU_ALLOW_GROWTH', 'value': 'true'}], 'run_parameters': [{'name': 'batch_size', 'long_value': 40}, {'name': 'model_type', 'string_value': 'wide'}, {'name': 'train_epochs', 'long_value': 2}]}\n",
            "W0601 03:34:47.365969 140182807984000 deprecation.py:323] From /usr/local/lib/python3.6/dist-packages/tensorflow/python/framework/op_def_library.py:263: colocate_with (from tensorflow.python.framework.ops) is deprecated and will be removed in a future version.\n",
            "Instructions for updating:\n",
            "Colocations handled automatically by placer.\n",
            "I0601 03:34:47.381322 140182807984000 census_dataset.py:167] Parsing /tmp/census_data/adult.data\n",
            "I0601 03:34:47.418963 140182807984000 estimator.py:1111] Calling model_fn.\n",
            "W0601 03:34:47.469682 140182807984000 deprecation.py:323] From /usr/local/lib/python3.6/dist-packages/tensorflow/python/feature_column/feature_column_v2.py:2703: to_float (from tensorflow.python.ops.math_ops) is deprecated and will be removed in a future version.\n",
            "Instructions for updating:\n",
            "Use tf.cast instead.\n",
            "W0601 03:34:47.488766 140182807984000 deprecation.py:323] From /usr/local/lib/python3.6/dist-packages/tensorflow/python/feature_column/feature_column_v2.py:2898: to_int64 (from tensorflow.python.ops.math_ops) is deprecated and will be removed in a future version.\n",
            "Instructions for updating:\n",
            "Use tf.cast instead.\n",
            "I0601 03:34:48.668642 140182807984000 estimator.py:1113] Done calling model_fn.\n",
            "I0601 03:34:48.669001 140182807984000 basic_session_run_hooks.py:527] Create CheckpointSaverHook.\n",
            "I0601 03:34:49.079694 140182807984000 monitored_session.py:222] Graph was finalized.\n",
            "2019-06-01 03:34:49.080191: I tensorflow/core/common_runtime/gpu/gpu_device.cc:984] Device interconnect StreamExecutor with strength 1 edge matrix:\n",
            "2019-06-01 03:34:49.080231: I tensorflow/core/common_runtime/gpu/gpu_device.cc:990]      \n",
            "W0601 03:34:49.081844 140182807984000 deprecation.py:323] From /usr/local/lib/python3.6/dist-packages/tensorflow/python/training/saver.py:1266: checkpoint_exists (from tensorflow.python.training.checkpoint_management) is deprecated and will be removed in a future version.\n",
            "Instructions for updating:\n",
            "Use standard file APIs to check for files with this prefix.\n",
            "I0601 03:34:49.083248 140182807984000 saver.py:1270] Restoring parameters from /tmp/census_model/model.ckpt-4887\n",
            "W0601 03:34:49.142983 140182807984000 deprecation.py:323] From /usr/local/lib/python3.6/dist-packages/tensorflow/python/training/saver.py:1070: get_checkpoint_mtimes (from tensorflow.python.training.checkpoint_management) is deprecated and will be removed in a future version.\n",
            "Instructions for updating:\n",
            "Use standard file utilities to get mtimes.\n",
            "I0601 03:34:49.170303 140182807984000 session_manager.py:491] Running local_init_op.\n",
            "I0601 03:34:49.186791 140182807984000 session_manager.py:493] Done running local_init_op.\n",
            "I0601 03:34:49.974328 140182807984000 basic_session_run_hooks.py:594] Saving checkpoints for 4887 into /tmp/census_model/model.ckpt.\n",
            "I0601 03:34:50.532835 140182807984000 basic_session_run_hooks.py:249] average_loss = 0.35509378, loss = 14.203751\n",
            "I0601 03:34:50.533452 140182807984000 basic_session_run_hooks.py:249] loss = 14.203751, step = 4888\n",
            "I0601 03:34:51.122231 140182807984000 basic_session_run_hooks.py:680] global_step/sec: 169.548\n",
            "I0601 03:34:51.122956 140182807984000 basic_session_run_hooks.py:247] average_loss = 0.36425963, loss = 14.570385 (0.590 sec)\n",
            "I0601 03:34:51.123208 140182807984000 basic_session_run_hooks.py:247] loss = 14.570385, step = 4988 (0.590 sec)\n",
            "I0601 03:34:51.405249 140182807984000 basic_session_run_hooks.py:680] global_step/sec: 353.285\n",
            "I0601 03:34:51.405880 140182807984000 basic_session_run_hooks.py:247] average_loss = 0.16182248, loss = 6.4728994 (0.283 sec)\n",
            "I0601 03:34:51.406141 140182807984000 basic_session_run_hooks.py:247] loss = 6.4728994, step = 5088 (0.283 sec)\n",
            "I0601 03:34:51.690333 140182807984000 basic_session_run_hooks.py:680] global_step/sec: 350.759\n",
            "I0601 03:34:51.690989 140182807984000 basic_session_run_hooks.py:247] average_loss = 0.42023936, loss = 16.809574 (0.285 sec)\n",
            "I0601 03:34:51.691221 140182807984000 basic_session_run_hooks.py:247] loss = 16.809574, step = 5188 (0.285 sec)\n",
            "I0601 03:34:51.983752 140182807984000 basic_session_run_hooks.py:680] global_step/sec: 340.826\n",
            "I0601 03:34:51.984420 140182807984000 basic_session_run_hooks.py:247] average_loss = 0.4136843, loss = 16.547373 (0.293 sec)\n",
            "I0601 03:34:51.984638 140182807984000 basic_session_run_hooks.py:247] loss = 16.547373, step = 5288 (0.293 sec)\n",
            "I0601 03:34:52.282488 140182807984000 basic_session_run_hooks.py:680] global_step/sec: 334.72\n",
            "I0601 03:34:52.283200 140182807984000 basic_session_run_hooks.py:247] average_loss = 0.2828053, loss = 11.312212 (0.299 sec)\n",
            "I0601 03:34:52.283433 140182807984000 basic_session_run_hooks.py:247] loss = 11.312212, step = 5388 (0.299 sec)\n",
            "I0601 03:34:52.550714 140182807984000 basic_session_run_hooks.py:680] global_step/sec: 372.837\n",
            "I0601 03:34:52.551371 140182807984000 basic_session_run_hooks.py:247] average_loss = 0.3153283, loss = 12.613132 (0.268 sec)\n",
            "I0601 03:34:52.551573 140182807984000 basic_session_run_hooks.py:247] loss = 12.613132, step = 5488 (0.268 sec)\n",
            "I0601 03:34:52.834531 140182807984000 basic_session_run_hooks.py:680] global_step/sec: 352.354\n",
            "I0601 03:34:52.835215 140182807984000 basic_session_run_hooks.py:247] average_loss = 0.37746307, loss = 15.098523 (0.284 sec)\n",
            "I0601 03:34:52.835441 140182807984000 basic_session_run_hooks.py:247] loss = 15.098523, step = 5588 (0.284 sec)\n",
            "I0601 03:34:53.108634 140182807984000 basic_session_run_hooks.py:680] global_step/sec: 364.812\n",
            "I0601 03:34:53.109291 140182807984000 basic_session_run_hooks.py:247] average_loss = 0.29170644, loss = 11.668258 (0.274 sec)\n",
            "I0601 03:34:53.109508 140182807984000 basic_session_run_hooks.py:247] loss = 11.668258, step = 5688 (0.274 sec)\n",
            "I0601 03:34:53.445728 140182807984000 basic_session_run_hooks.py:680] global_step/sec: 296.66\n",
            "I0601 03:34:53.446427 140182807984000 basic_session_run_hooks.py:247] average_loss = 0.50352234, loss = 20.140894 (0.337 sec)\n",
            "I0601 03:34:53.446638 140182807984000 basic_session_run_hooks.py:247] loss = 20.140894, step = 5788 (0.337 sec)\n",
            "I0601 03:34:53.722648 140182807984000 basic_session_run_hooks.py:680] global_step/sec: 361.114\n",
            "I0601 03:34:53.723316 140182807984000 basic_session_run_hooks.py:247] average_loss = 0.5013337, loss = 20.053349 (0.277 sec)\n",
            "I0601 03:34:53.723521 140182807984000 basic_session_run_hooks.py:247] loss = 20.053349, step = 5888 (0.277 sec)\n",
            "I0601 03:34:53.988363 140182807984000 basic_session_run_hooks.py:680] global_step/sec: 376.324\n",
            "I0601 03:34:53.988961 140182807984000 basic_session_run_hooks.py:247] average_loss = 0.38876557, loss = 15.550623 (0.266 sec)\n",
            "I0601 03:34:53.989182 140182807984000 basic_session_run_hooks.py:247] loss = 15.550623, step = 5988 (0.266 sec)\n",
            "I0601 03:34:54.211655 140182807984000 basic_session_run_hooks.py:680] global_step/sec: 447.772\n",
            "I0601 03:34:54.212188 140182807984000 basic_session_run_hooks.py:247] average_loss = 0.25871897, loss = 10.348759 (0.223 sec)\n",
            "I0601 03:34:54.212442 140182807984000 basic_session_run_hooks.py:247] loss = 10.348759, step = 6088 (0.223 sec)\n",
            "I0601 03:34:54.467599 140182807984000 basic_session_run_hooks.py:680] global_step/sec: 390.709\n",
            "I0601 03:34:54.468148 140182807984000 basic_session_run_hooks.py:247] average_loss = 0.3237241, loss = 12.948964 (0.256 sec)\n",
            "I0601 03:34:54.468390 140182807984000 basic_session_run_hooks.py:247] loss = 12.948964, step = 6188 (0.256 sec)\n",
            "I0601 03:34:54.688772 140182807984000 basic_session_run_hooks.py:680] global_step/sec: 452.129\n",
            "I0601 03:34:54.689274 140182807984000 basic_session_run_hooks.py:247] average_loss = 0.3938538, loss = 15.754152 (0.221 sec)\n",
            "I0601 03:34:54.689436 140182807984000 basic_session_run_hooks.py:247] loss = 15.754152, step = 6288 (0.221 sec)\n",
            "I0601 03:34:54.940079 140182807984000 basic_session_run_hooks.py:680] global_step/sec: 397.949\n",
            "I0601 03:34:54.940660 140182807984000 basic_session_run_hooks.py:247] average_loss = 0.21755996, loss = 8.702398 (0.251 sec)\n",
            "I0601 03:34:54.940951 140182807984000 basic_session_run_hooks.py:247] loss = 8.702398, step = 6388 (0.252 sec)\n",
            "I0601 03:34:55.165161 140182807984000 basic_session_run_hooks.py:680] global_step/sec: 444.294\n",
            "I0601 03:34:55.165762 140182807984000 basic_session_run_hooks.py:247] average_loss = 0.32216492, loss = 12.886597 (0.225 sec)\n",
            "I0601 03:34:55.166054 140182807984000 basic_session_run_hooks.py:247] loss = 12.886597, step = 6488 (0.225 sec)\n",
            "I0601 03:34:55.231782 140182807984000 basic_session_run_hooks.py:594] Saving checkpoints for 6516 into /tmp/census_model/model.ckpt.\n",
            "I0601 03:34:55.355189 140182807984000 estimator.py:359] Loss for final step: 0.7279041.\n",
            "I0601 03:34:55.364012 140182807984000 census_dataset.py:167] Parsing /tmp/census_data/adult.test\n",
            "I0601 03:34:55.387190 140182807984000 estimator.py:1111] Calling model_fn.\n",
            "W0601 03:34:56.279028 140182807984000 deprecation.py:323] From /usr/local/lib/python3.6/dist-packages/tensorflow/python/ops/metrics_impl.py:2002: div (from tensorflow.python.ops.math_ops) is deprecated and will be removed in a future version.\n",
            "Instructions for updating:\n",
            "Deprecated in favor of operator or tf.math.divide.\n",
            "W0601 03:34:56.637988 140182807984000 metrics_impl.py:783] Trapezoidal rule is known to produce incorrect PR-AUCs; please switch to \"careful_interpolation\" instead.\n",
            "W0601 03:34:56.657183 140182807984000 metrics_impl.py:783] Trapezoidal rule is known to produce incorrect PR-AUCs; please switch to \"careful_interpolation\" instead.\n",
            "I0601 03:34:56.676648 140182807984000 estimator.py:1113] Done calling model_fn.\n",
            "I0601 03:34:56.694342 140182807984000 evaluation.py:257] Starting evaluation at 2019-06-01T03:34:56Z\n",
            "I0601 03:34:56.901578 140182807984000 monitored_session.py:222] Graph was finalized.\n",
            "2019-06-01 03:34:56.901973: I tensorflow/core/common_runtime/gpu/gpu_device.cc:984] Device interconnect StreamExecutor with strength 1 edge matrix:\n",
            "2019-06-01 03:34:56.902007: I tensorflow/core/common_runtime/gpu/gpu_device.cc:990]      \n",
            "I0601 03:34:56.903299 140182807984000 saver.py:1270] Restoring parameters from /tmp/census_model/model.ckpt-6516\n",
            "I0601 03:34:56.994503 140182807984000 session_manager.py:491] Running local_init_op.\n",
            "I0601 03:34:57.023746 140182807984000 session_manager.py:493] Done running local_init_op.\n",
            "I0601 03:34:58.406747 140182807984000 evaluation.py:277] Finished evaluation at 2019-06-01-03:34:58\n",
            "I0601 03:34:58.406990 140182807984000 estimator.py:1979] Saving dict for global step 6516: accuracy = 0.83594376, accuracy_baseline = 0.76377374, auc = 0.8823478, auc_precision_recall = 0.6922485, average_loss = 0.35347915, global_step = 6516, label/mean = 0.23622628, loss = 14.105378, precision = 0.69068485, prediction/mean = 0.23661722, recall = 0.5533021\n",
            "I0601 03:34:58.629355 140182807984000 estimator.py:2039] Saving 'checkpoint_path' summary for global step 6516: /tmp/census_model/model.ckpt-6516\n",
            "I0601 03:34:58.629957 140182807984000 wide_deep_run_loop.py:116] Results at epoch 2 / 2\n",
            "I0601 03:34:58.630073 140182807984000 wide_deep_run_loop.py:117] ------------------------------------------------------------\n",
            "I0601 03:34:58.630169 140182807984000 wide_deep_run_loop.py:120] accuracy: 0.83594376\n",
            "I0601 03:34:58.630231 140182807984000 wide_deep_run_loop.py:120] accuracy_baseline: 0.76377374\n",
            "I0601 03:34:58.630285 140182807984000 wide_deep_run_loop.py:120] auc: 0.8823478\n",
            "I0601 03:34:58.630336 140182807984000 wide_deep_run_loop.py:120] auc_precision_recall: 0.6922485\n",
            "I0601 03:34:58.630386 140182807984000 wide_deep_run_loop.py:120] average_loss: 0.35347915\n",
            "I0601 03:34:58.630442 140182807984000 wide_deep_run_loop.py:120] global_step: 6516\n",
            "I0601 03:34:58.630492 140182807984000 wide_deep_run_loop.py:120] label/mean: 0.23622628\n",
            "I0601 03:34:58.630541 140182807984000 wide_deep_run_loop.py:120] loss: 14.105378\n",
            "I0601 03:34:58.630589 140182807984000 wide_deep_run_loop.py:120] precision: 0.69068485\n",
            "I0601 03:34:58.630637 140182807984000 wide_deep_run_loop.py:120] prediction/mean: 0.23661722\n",
            "I0601 03:34:58.630683 140182807984000 wide_deep_run_loop.py:120] recall: 0.5533021\n",
            "I0601 03:34:58.630816 140182807984000 logger.py:147] Benchmark metric: {'name': 'accuracy', 'value': 0.8359437584877014, 'unit': None, 'global_step': 6516, 'timestamp': '2019-06-01T03:34:58.630782Z', 'extras': []}\n",
            "I0601 03:34:58.630920 140182807984000 logger.py:147] Benchmark metric: {'name': 'accuracy_baseline', 'value': 0.7637737393379211, 'unit': None, 'global_step': 6516, 'timestamp': '2019-06-01T03:34:58.630895Z', 'extras': []}\n",
            "I0601 03:34:58.631004 140182807984000 logger.py:147] Benchmark metric: {'name': 'auc', 'value': 0.882347822189331, 'unit': None, 'global_step': 6516, 'timestamp': '2019-06-01T03:34:58.630990Z', 'extras': []}\n",
            "I0601 03:34:58.631078 140182807984000 logger.py:147] Benchmark metric: {'name': 'auc_precision_recall', 'value': 0.692248523235321, 'unit': None, 'global_step': 6516, 'timestamp': '2019-06-01T03:34:58.631065Z', 'extras': []}\n",
            "I0601 03:34:58.631165 140182807984000 logger.py:147] Benchmark metric: {'name': 'average_loss', 'value': 0.35347914695739746, 'unit': None, 'global_step': 6516, 'timestamp': '2019-06-01T03:34:58.631152Z', 'extras': []}\n",
            "I0601 03:34:58.631245 140182807984000 logger.py:147] Benchmark metric: {'name': 'label/mean', 'value': 0.23622627556324005, 'unit': None, 'global_step': 6516, 'timestamp': '2019-06-01T03:34:58.631233Z', 'extras': []}\n",
            "I0601 03:34:58.631315 140182807984000 logger.py:147] Benchmark metric: {'name': 'loss', 'value': 14.105378150939941, 'unit': None, 'global_step': 6516, 'timestamp': '2019-06-01T03:34:58.631303Z', 'extras': []}\n",
            "I0601 03:34:58.631386 140182807984000 logger.py:147] Benchmark metric: {'name': 'precision', 'value': 0.6906848549842834, 'unit': None, 'global_step': 6516, 'timestamp': '2019-06-01T03:34:58.631374Z', 'extras': []}\n",
            "I0601 03:34:58.631455 140182807984000 logger.py:147] Benchmark metric: {'name': 'prediction/mean', 'value': 0.23661722242832184, 'unit': None, 'global_step': 6516, 'timestamp': '2019-06-01T03:34:58.631443Z', 'extras': []}\n",
            "I0601 03:34:58.631524 140182807984000 logger.py:147] Benchmark metric: {'name': 'recall', 'value': 0.5533021092414856, 'unit': None, 'global_step': 6516, 'timestamp': '2019-06-01T03:34:58.631512Z', 'extras': []}\n"
          ],
          "name": "stdout"
        }
      ]
    },
    {
      "cell_type": "code",
      "metadata": {
        "id": "m0WlyW2oMe64",
        "colab_type": "code",
        "outputId": "58704fdf-22e7-4b23-d76d-545b3405b22e",
        "colab": {
          "base_uri": "https://localhost:8080/",
          "height": 35
        }
      },
      "source": [
        "!ls  /tmp/census_data/"
      ],
      "execution_count": 0,
      "outputs": [
        {
          "output_type": "stream",
          "text": [
            "adult.data  adult.test\n"
          ],
          "name": "stdout"
        }
      ]
    },
    {
      "cell_type": "code",
      "metadata": {
        "id": "zBL1uuHuOpj8",
        "colab_type": "code",
        "colab": {}
      },
      "source": [
        "train_file = \"/tmp/census_data/adult.data\"\n",
        "test_file = \"/tmp/census_data/adult.test\""
      ],
      "execution_count": 0,
      "outputs": []
    },
    {
      "cell_type": "code",
      "metadata": {
        "id": "vdSBmcYnO4Dd",
        "colab_type": "code",
        "colab": {}
      },
      "source": [
        "import pandas as pd\n",
        "\n",
        "train_df = pd.read_csv(train_file, header=None, names=census_dataset._CSV_COLUMNS)\n",
        "test_df = pd.read_csv(test_file, header=None, names=census_dataset._CSV_COLUMNS)\n"
      ],
      "execution_count": 0,
      "outputs": []
    },
    {
      "cell_type": "code",
      "metadata": {
        "id": "h8jDLu6SQHYf",
        "colab_type": "code",
        "outputId": "ca7d4a36-5521-4f28-8043-24503e5e7951",
        "colab": {
          "base_uri": "https://localhost:8080/",
          "height": 287
        }
      },
      "source": [
        "train_df.head()"
      ],
      "execution_count": 0,
      "outputs": [
        {
          "output_type": "execute_result",
          "data": {
            "text/html": [
              "<div>\n",
              "<style scoped>\n",
              "    .dataframe tbody tr th:only-of-type {\n",
              "        vertical-align: middle;\n",
              "    }\n",
              "\n",
              "    .dataframe tbody tr th {\n",
              "        vertical-align: top;\n",
              "    }\n",
              "\n",
              "    .dataframe thead th {\n",
              "        text-align: right;\n",
              "    }\n",
              "</style>\n",
              "<table border=\"1\" class=\"dataframe\">\n",
              "  <thead>\n",
              "    <tr style=\"text-align: right;\">\n",
              "      <th></th>\n",
              "      <th>age</th>\n",
              "      <th>workclass</th>\n",
              "      <th>fnlwgt</th>\n",
              "      <th>education</th>\n",
              "      <th>education_num</th>\n",
              "      <th>marital_status</th>\n",
              "      <th>occupation</th>\n",
              "      <th>relationship</th>\n",
              "      <th>race</th>\n",
              "      <th>gender</th>\n",
              "      <th>capital_gain</th>\n",
              "      <th>capital_loss</th>\n",
              "      <th>hours_per_week</th>\n",
              "      <th>native_country</th>\n",
              "      <th>income_bracket</th>\n",
              "    </tr>\n",
              "  </thead>\n",
              "  <tbody>\n",
              "    <tr>\n",
              "      <th>0</th>\n",
              "      <td>39</td>\n",
              "      <td>State-gov</td>\n",
              "      <td>77516</td>\n",
              "      <td>Bachelors</td>\n",
              "      <td>13</td>\n",
              "      <td>Never-married</td>\n",
              "      <td>Adm-clerical</td>\n",
              "      <td>Not-in-family</td>\n",
              "      <td>White</td>\n",
              "      <td>Male</td>\n",
              "      <td>2174</td>\n",
              "      <td>0</td>\n",
              "      <td>40</td>\n",
              "      <td>United-States</td>\n",
              "      <td>&lt;=50K</td>\n",
              "    </tr>\n",
              "    <tr>\n",
              "      <th>1</th>\n",
              "      <td>50</td>\n",
              "      <td>Self-emp-not-inc</td>\n",
              "      <td>83311</td>\n",
              "      <td>Bachelors</td>\n",
              "      <td>13</td>\n",
              "      <td>Married-civ-spouse</td>\n",
              "      <td>Exec-managerial</td>\n",
              "      <td>Husband</td>\n",
              "      <td>White</td>\n",
              "      <td>Male</td>\n",
              "      <td>0</td>\n",
              "      <td>0</td>\n",
              "      <td>13</td>\n",
              "      <td>United-States</td>\n",
              "      <td>&lt;=50K</td>\n",
              "    </tr>\n",
              "    <tr>\n",
              "      <th>2</th>\n",
              "      <td>38</td>\n",
              "      <td>Private</td>\n",
              "      <td>215646</td>\n",
              "      <td>HS-grad</td>\n",
              "      <td>9</td>\n",
              "      <td>Divorced</td>\n",
              "      <td>Handlers-cleaners</td>\n",
              "      <td>Not-in-family</td>\n",
              "      <td>White</td>\n",
              "      <td>Male</td>\n",
              "      <td>0</td>\n",
              "      <td>0</td>\n",
              "      <td>40</td>\n",
              "      <td>United-States</td>\n",
              "      <td>&lt;=50K</td>\n",
              "    </tr>\n",
              "    <tr>\n",
              "      <th>3</th>\n",
              "      <td>53</td>\n",
              "      <td>Private</td>\n",
              "      <td>234721</td>\n",
              "      <td>11th</td>\n",
              "      <td>7</td>\n",
              "      <td>Married-civ-spouse</td>\n",
              "      <td>Handlers-cleaners</td>\n",
              "      <td>Husband</td>\n",
              "      <td>Black</td>\n",
              "      <td>Male</td>\n",
              "      <td>0</td>\n",
              "      <td>0</td>\n",
              "      <td>40</td>\n",
              "      <td>United-States</td>\n",
              "      <td>&lt;=50K</td>\n",
              "    </tr>\n",
              "    <tr>\n",
              "      <th>4</th>\n",
              "      <td>28</td>\n",
              "      <td>Private</td>\n",
              "      <td>338409</td>\n",
              "      <td>Bachelors</td>\n",
              "      <td>13</td>\n",
              "      <td>Married-civ-spouse</td>\n",
              "      <td>Prof-specialty</td>\n",
              "      <td>Wife</td>\n",
              "      <td>Black</td>\n",
              "      <td>Female</td>\n",
              "      <td>0</td>\n",
              "      <td>0</td>\n",
              "      <td>40</td>\n",
              "      <td>Cuba</td>\n",
              "      <td>&lt;=50K</td>\n",
              "    </tr>\n",
              "  </tbody>\n",
              "</table>\n",
              "</div>"
            ],
            "text/plain": [
              "   age         workclass  fnlwgt  ... hours_per_week  native_country income_bracket\n",
              "0   39         State-gov   77516  ...             40   United-States          <=50K\n",
              "1   50  Self-emp-not-inc   83311  ...             13   United-States          <=50K\n",
              "2   38           Private  215646  ...             40   United-States          <=50K\n",
              "3   53           Private  234721  ...             40   United-States          <=50K\n",
              "4   28           Private  338409  ...             40            Cuba          <=50K\n",
              "\n",
              "[5 rows x 15 columns]"
            ]
          },
          "metadata": {
            "tags": []
          },
          "execution_count": 109
        }
      ]
    },
    {
      "cell_type": "code",
      "metadata": {
        "id": "cEHLpGBVQJe8",
        "colab_type": "code",
        "outputId": "2cae8af9-37dd-49fa-aa4c-45cda654c9ea",
        "colab": {
          "base_uri": "https://localhost:8080/",
          "height": 55
        }
      },
      "source": [
        "\"\"\"\n",
        "Build a tf.estimator model, the input data is specified by using an input function (or input_fn). \n",
        "This builder function returns a tf.data.Dataset of batches of (features-dict, label) pairs. \n",
        "It is not called until it is passed to tf.estimator.Estimator methods such as train and evaluate.\n",
        "\n",
        "\"\"\""
      ],
      "execution_count": 0,
      "outputs": [
        {
          "output_type": "execute_result",
          "data": {
            "text/plain": [
              "'\\nBuild a tf.estimator model, the input data is specified by using an input function (or input_fn). \\nThis builder function returns a tf.data.Dataset of batches of (features-dict, label) pairs. \\nIt is not called until it is passed to tf.estimator.Estimator methods such as train and evaluate.\\n\\n'"
            ]
          },
          "metadata": {
            "tags": []
          },
          "execution_count": 110
        }
      ]
    },
    {
      "cell_type": "code",
      "metadata": {
        "id": "DopIwXwkQ4Ar",
        "colab_type": "code",
        "colab": {}
      },
      "source": [
        "def easy_input_function(df, label_key, num_epochs, shuffle, batch_size):\n",
        "  label=df[label_key]\n",
        "  ds = tf.data.Dataset.from_tensor_slices((dict(df), label))\n",
        "  \n",
        "  if shuffle:\n",
        "    ds = ds.shuffle(10000)\n",
        "    \n",
        "  ds = ds.batch(batch_size).repeat(num_epochs)\n",
        "  return ds"
      ],
      "execution_count": 0,
      "outputs": []
    },
    {
      "cell_type": "code",
      "metadata": {
        "id": "iezUS8E5R-pB",
        "colab_type": "code",
        "outputId": "ea605c53-7f76-457d-bc37-1ae445acc0d6",
        "colab": {
          "base_uri": "https://localhost:8080/",
          "height": 279
        }
      },
      "source": [
        "ds = easy_input_function(train_df, label_key=\"income_bracket\", num_epochs=5, shuffle=True, batch_size=10)\n",
        "\n",
        "for feature_batch, label_batch in ds.take(2):\n",
        "  print('-'*50)\n",
        "  print('Feature Keys:', list(feature_batch.keys()))\n",
        "  print('Age batch:', feature_batch['age'])\n",
        "  print('Label batch:', label_batch)\n",
        "  print('-'*50)"
      ],
      "execution_count": 0,
      "outputs": [
        {
          "output_type": "stream",
          "text": [
            "--------------------------------------------------\n",
            "Feature Keys: ['age', 'workclass', 'fnlwgt', 'education', 'education_num', 'marital_status', 'occupation', 'relationship', 'race', 'gender', 'capital_gain', 'capital_loss', 'hours_per_week', 'native_country', 'income_bracket']\n",
            "Age batch: tf.Tensor([29 26 24 65 24 38 29 29 30 39], shape=(10,), dtype=int32)\n",
            "Label batch: tf.Tensor(\n",
            "[b'<=50K' b'<=50K' b'<=50K' b'>50K' b'<=50K' b'>50K' b'<=50K' b'<=50K'\n",
            " b'<=50K' b'<=50K'], shape=(10,), dtype=string)\n",
            "--------------------------------------------------\n",
            "--------------------------------------------------\n",
            "Feature Keys: ['age', 'workclass', 'fnlwgt', 'education', 'education_num', 'marital_status', 'occupation', 'relationship', 'race', 'gender', 'capital_gain', 'capital_loss', 'hours_per_week', 'native_country', 'income_bracket']\n",
            "Age batch: tf.Tensor([49 43 64 63 22 27 51 50 25 74], shape=(10,), dtype=int32)\n",
            "Label batch: tf.Tensor(\n",
            "[b'<=50K' b'<=50K' b'<=50K' b'>50K' b'<=50K' b'<=50K' b'>50K' b'>50K'\n",
            " b'<=50K' b'<=50K'], shape=(10,), dtype=string)\n",
            "--------------------------------------------------\n"
          ],
          "name": "stdout"
        }
      ]
    },
    {
      "cell_type": "code",
      "metadata": {
        "id": "b4TbcIFEXVw-",
        "colab_type": "code",
        "outputId": "5aa3ebe6-1a73-442b-9915-40549a4ef7a3",
        "colab": {
          "base_uri": "https://localhost:8080/",
          "height": 501
        }
      },
      "source": [
        "import inspect\n",
        "print(inspect.getsource(census_dataset.input_fn))"
      ],
      "execution_count": 0,
      "outputs": [
        {
          "output_type": "stream",
          "text": [
            "def input_fn(data_file, num_epochs, shuffle, batch_size):\n",
            "  \"\"\"Generate an input function for the Estimator.\"\"\"\n",
            "  assert tf.gfile.Exists(data_file), (\n",
            "      '%s not found. Please make sure you have run census_dataset.py and '\n",
            "      'set the --data_dir argument to the correct path.' % data_file)\n",
            "\n",
            "  def parse_csv(value):\n",
            "    tf.logging.info('Parsing {}'.format(data_file))\n",
            "    columns = tf.decode_csv(value, record_defaults=_CSV_COLUMN_DEFAULTS)\n",
            "    features = dict(zip(_CSV_COLUMNS, columns))\n",
            "    labels = features.pop('income_bracket')\n",
            "    classes = tf.equal(labels, '>50K')  # binary classification\n",
            "    return features, classes\n",
            "\n",
            "  # Extract lines from input files using the Dataset API.\n",
            "  dataset = tf.data.TextLineDataset(data_file)\n",
            "\n",
            "  if shuffle:\n",
            "    dataset = dataset.shuffle(buffer_size=_NUM_EXAMPLES['train'])\n",
            "\n",
            "  dataset = dataset.map(parse_csv, num_parallel_calls=5)\n",
            "\n",
            "  # We call repeat after shuffling, rather than before, to prevent separate\n",
            "  # epochs from blending together.\n",
            "  dataset = dataset.repeat(num_epochs)\n",
            "  dataset = dataset.batch(batch_size)\n",
            "  return dataset\n",
            "\n"
          ],
          "name": "stdout"
        }
      ]
    },
    {
      "cell_type": "code",
      "metadata": {
        "id": "QiIpk8dvYgbt",
        "colab_type": "code",
        "outputId": "22bb2857-23c7-4ec4-bf7a-1b9f01638578",
        "colab": {
          "base_uri": "https://localhost:8080/",
          "height": 138
        }
      },
      "source": [
        "ds = census_dataset.input_fn(train_file, num_epochs=5, shuffle=True, batch_size=10)\n",
        "\n",
        "for feature_batch, label_batch in ds.take(1):\n",
        "  print('Feature keys:', list(feature_batch.keys())[:5])\n",
        "  print()\n",
        "  print('Age batch   :', feature_batch['age'])\n",
        "  print()\n",
        "  print('Label batch :', label_batch )"
      ],
      "execution_count": 0,
      "outputs": [
        {
          "output_type": "stream",
          "text": [
            "INFO:tensorflow:Parsing /tmp/census_data/adult.data\n"
          ],
          "name": "stdout"
        },
        {
          "output_type": "stream",
          "text": [
            "I0601 03:35:02.544155 140070466692992 census_dataset.py:167] Parsing /tmp/census_data/adult.data\n"
          ],
          "name": "stderr"
        },
        {
          "output_type": "stream",
          "text": [
            "Feature keys: ['age', 'workclass', 'fnlwgt', 'education', 'education_num']\n",
            "\n",
            "Age batch   : tf.Tensor([42 30 32 37 44 50 48 36 28 29], shape=(10,), dtype=int32)\n",
            "\n",
            "Label batch : tf.Tensor([False  True False  True  True  True False False False False], shape=(10,), dtype=bool)\n"
          ],
          "name": "stdout"
        }
      ]
    },
    {
      "cell_type": "code",
      "metadata": {
        "id": "mySLkbKHfwQe",
        "colab_type": "code",
        "colab": {}
      },
      "source": [
        "import functools\n",
        "train_inpf = functools.partial(\n",
        "    census_dataset.input_fn,\n",
        "    train_file,\n",
        "    num_epochs=2,\n",
        "    shuffle=True,\n",
        "    batch_size=64\n",
        ")\n",
        "\n",
        "test_inpf = functools.partial(\n",
        "    census_dataset.input_fn,\n",
        "    test_file,\n",
        "    num_epochs=1,\n",
        "    shuffle=True,\n",
        "    batch_size=64\n",
        ")"
      ],
      "execution_count": 0,
      "outputs": []
    },
    {
      "cell_type": "code",
      "metadata": {
        "id": "fWi86QcAg8eF",
        "colab_type": "code",
        "colab": {}
      },
      "source": [
        "age = fc.numeric_column('age')"
      ],
      "execution_count": 0,
      "outputs": []
    },
    {
      "cell_type": "code",
      "metadata": {
        "id": "t3y4qG7vhOVL",
        "colab_type": "code",
        "outputId": "ff829b5b-9d15-4d1b-afd2-3d544db4107c",
        "colab": {
          "base_uri": "https://localhost:8080/",
          "height": 35
        }
      },
      "source": [
        "age"
      ],
      "execution_count": 0,
      "outputs": [
        {
          "output_type": "execute_result",
          "data": {
            "text/plain": [
              "NumericColumn(key='age', shape=(1,), default_value=None, dtype=tf.float32, normalizer_fn=None)"
            ]
          },
          "metadata": {
            "tags": []
          },
          "execution_count": 117
        }
      ]
    },
    {
      "cell_type": "code",
      "metadata": {
        "id": "rlntSl5LhO8j",
        "colab_type": "code",
        "outputId": "16d4fd36-c1e4-4e7b-9c69-1b2420260f64",
        "colab": {
          "base_uri": "https://localhost:8080/",
          "height": 55
        }
      },
      "source": [
        "fc.input_layer(feature_batch, [age]).numpy()\n",
        "\"\"\"\n",
        "array([[64.],\n",
        "       [90.],\n",
        "       [20.],\n",
        "       [61.],\n",
        "       [22.],\n",
        "       [25.],\n",
        "       [19.],\n",
        "       [36.],\n",
        "       [28.],\n",
        "       [21.]], dtype=float32)\n",
        "\"\"\""
      ],
      "execution_count": 0,
      "outputs": [
        {
          "output_type": "execute_result",
          "data": {
            "text/plain": [
              "'\\narray([[64.],\\n       [90.],\\n       [20.],\\n       [61.],\\n       [22.],\\n       [25.],\\n       [19.],\\n       [36.],\\n       [28.],\\n       [21.]], dtype=float32)\\n'"
            ]
          },
          "metadata": {
            "tags": []
          },
          "execution_count": 118
        }
      ]
    },
    {
      "cell_type": "code",
      "metadata": {
        "id": "oHZ_dYEYhsqU",
        "colab_type": "code",
        "colab": {}
      },
      "source": [
        "classifier = tf.estimator.LinearClassifier(feature_columns=[age])\n",
        "classifier.train(train_inpf)\n",
        "result = classifier.evaluate(test_inpf)\n",
        "\n",
        "clear_output()\n"
      ],
      "execution_count": 0,
      "outputs": []
    },
    {
      "cell_type": "code",
      "metadata": {
        "id": "YMYMdtZAipZD",
        "colab_type": "code",
        "outputId": "74b331c6-d604-4b55-ef4a-fa04151022b4",
        "colab": {
          "base_uri": "https://localhost:8080/",
          "height": 207
        }
      },
      "source": [
        "result"
      ],
      "execution_count": 0,
      "outputs": [
        {
          "output_type": "execute_result",
          "data": {
            "text/plain": [
              "{'accuracy': 0.74504024,\n",
              " 'accuracy_baseline': 0.76377374,\n",
              " 'auc': 0.67835975,\n",
              " 'auc_precision_recall': 0.3113923,\n",
              " 'average_loss': 0.5260387,\n",
              " 'global_step': 1018,\n",
              " 'label/mean': 0.23622628,\n",
              " 'loss': 33.586025,\n",
              " 'precision': 0.1762208,\n",
              " 'prediction/mean': 0.27290595,\n",
              " 'recall': 0.021580864}"
            ]
          },
          "metadata": {
            "tags": []
          },
          "execution_count": 120
        }
      ]
    },
    {
      "cell_type": "code",
      "metadata": {
        "id": "iREv9FINi2cN",
        "colab_type": "code",
        "outputId": "3517fd50-d79d-4c1b-fd55-5856727a9d72",
        "colab": {
          "base_uri": "https://localhost:8080/",
          "height": 207
        }
      },
      "source": [
        "education_num = tf.feature_column.numeric_column('education_num')\n",
        "capital_gain =  tf.feature_column.numeric_column('capital_gain')\n",
        "capital_loss   =  tf.feature_column.numeric_column('capital_loss')\n",
        "hours_per_week =  tf.feature_column.numeric_column('hours_per_week')\n",
        "\n",
        "my_numeric_columns = [age, education_num, capital_gain, capital_loss, hours_per_week]\n",
        "\n",
        "fc.input_layer(feature_batch, my_numeric_columns).numpy()"
      ],
      "execution_count": 0,
      "outputs": [
        {
          "output_type": "execute_result",
          "data": {
            "text/plain": [
              "array([[4.2000e+01, 0.0000e+00, 0.0000e+00, 1.0000e+01, 4.0000e+01],\n",
              "       [3.0000e+01, 0.0000e+00, 0.0000e+00, 1.0000e+01, 5.0000e+01],\n",
              "       [3.2000e+01, 0.0000e+00, 0.0000e+00, 1.3000e+01, 4.0000e+01],\n",
              "       [3.7000e+01, 1.5024e+04, 0.0000e+00, 9.0000e+00, 4.5000e+01],\n",
              "       [4.4000e+01, 0.0000e+00, 0.0000e+00, 1.3000e+01, 4.0000e+01],\n",
              "       [5.0000e+01, 0.0000e+00, 0.0000e+00, 9.0000e+00, 4.0000e+01],\n",
              "       [4.8000e+01, 0.0000e+00, 0.0000e+00, 9.0000e+00, 4.0000e+01],\n",
              "       [3.6000e+01, 5.0130e+03, 0.0000e+00, 9.0000e+00, 4.0000e+01],\n",
              "       [2.8000e+01, 2.1760e+03, 0.0000e+00, 1.5000e+01, 4.0000e+01],\n",
              "       [2.9000e+01, 0.0000e+00, 0.0000e+00, 1.0000e+01, 4.0000e+01]],\n",
              "      dtype=float32)"
            ]
          },
          "metadata": {
            "tags": []
          },
          "execution_count": 121
        }
      ]
    },
    {
      "cell_type": "code",
      "metadata": {
        "id": "KxrU-6cS47U_",
        "colab_type": "code",
        "outputId": "cb007abf-1c78-44a4-f718-3a683e05ac73",
        "colab": {
          "base_uri": "https://localhost:8080/",
          "height": 190
        }
      },
      "source": [
        "fc.input_layer(feature_batch, [education_num]).numpy()\n"
      ],
      "execution_count": 0,
      "outputs": [
        {
          "output_type": "execute_result",
          "data": {
            "text/plain": [
              "array([[10.],\n",
              "       [10.],\n",
              "       [13.],\n",
              "       [ 9.],\n",
              "       [13.],\n",
              "       [ 9.],\n",
              "       [ 9.],\n",
              "       [ 9.],\n",
              "       [15.],\n",
              "       [10.]], dtype=float32)"
            ]
          },
          "metadata": {
            "tags": []
          },
          "execution_count": 122
        }
      ]
    },
    {
      "cell_type": "code",
      "metadata": {
        "id": "KKEA7jWGkclC",
        "colab_type": "code",
        "outputId": "1f45d950-3889-4b29-c405-f94f682f36d1",
        "colab": {
          "base_uri": "https://localhost:8080/",
          "height": 207
        }
      },
      "source": [
        "classifier = tf.estimator.LinearClassifier(feature_columns=my_numeric_columns)\n",
        "classifier.train(train_inpf)\n",
        "result = classifier.evaluate(test_inpf)\n",
        "clear_output()\n",
        "result"
      ],
      "execution_count": 0,
      "outputs": [
        {
          "output_type": "execute_result",
          "data": {
            "text/plain": [
              "{'accuracy': 0.78250724,\n",
              " 'accuracy_baseline': 0.76377374,\n",
              " 'auc': 0.717053,\n",
              " 'auc_precision_recall': 0.5145856,\n",
              " 'average_loss': 3.4181757,\n",
              " 'global_step': 1018,\n",
              " 'label/mean': 0.23622628,\n",
              " 'loss': 218.24048,\n",
              " 'precision': 0.61526835,\n",
              " 'prediction/mean': 0.24906935,\n",
              " 'recall': 0.21164846}"
            ]
          },
          "metadata": {
            "tags": []
          },
          "execution_count": 123
        }
      ]
    },
    {
      "cell_type": "code",
      "metadata": {
        "id": "5WM2oNLPk-1H",
        "colab_type": "code",
        "colab": {}
      },
      "source": [
        "relationship = fc.categorical_column_with_vocabulary_list(\n",
        "    'relationship',\n",
        "    ['Husband', 'Not-in-family', 'Wife', 'Own-child', 'Unmarried', 'Other-relative']\n",
        ")"
      ],
      "execution_count": 0,
      "outputs": []
    },
    {
      "cell_type": "code",
      "metadata": {
        "id": "5QHPerBE5zfT",
        "colab_type": "code",
        "colab": {}
      },
      "source": [
        "fc.input_layer(feature_batch, [age, fc.indicator_column(relationship)]).numpy()\n",
        "\"\"\"\n",
        "array([[64.,  0.,  1.,  0.,  0.,  0.,  0.],\n",
        "       [90.,  1.,  0.,  0.,  0.,  0.,  0.],\n",
        "       [20.,  0.,  0.,  0.,  1.,  0.,  0.],\n",
        "       [61.,  1.,  0.,  0.,  0.,  0.,  0.],\n",
        "       [22.,  0.,  0.,  0.,  1.,  0.,  0.],\n",
        "       [25.,  0.,  0.,  0.,  1.,  0.,  0.],\n",
        "       [19.,  0.,  0.,  0.,  1.,  0.,  0.],\n",
        "       [36.,  0.,  1.,  0.,  0.,  0.,  0.],\n",
        "       [28.,  0.,  0.,  0.,  0.,  0.,  1.],\n",
        "       [21.,  0.,  0.,  0.,  1.,  0.,  0.]], dtype=float32)>\n",
        "\n",
        "\"\"\"\n",
        "clear_output()"
      ],
      "execution_count": 0,
      "outputs": []
    },
    {
      "cell_type": "code",
      "metadata": {
        "id": "aXLQDtFp6BNk",
        "colab_type": "code",
        "colab": {}
      },
      "source": [
        "occupation = tf.feature_column.categorical_column_with_hash_bucket(\n",
        "    'occupation',\n",
        "    hash_bucket_size=1000\n",
        ")"
      ],
      "execution_count": 0,
      "outputs": []
    },
    {
      "cell_type": "code",
      "metadata": {
        "id": "FKrEJOSD65Gm",
        "colab_type": "code",
        "outputId": "913e1a35-bbe6-458c-fe76-8c9b53d06bb6",
        "colab": {
          "base_uri": "https://localhost:8080/",
          "height": 190
        }
      },
      "source": [
        "for item in feature_batch['occupation'].numpy():\n",
        "  print(item.decode())"
      ],
      "execution_count": 0,
      "outputs": [
        {
          "output_type": "stream",
          "text": [
            "Adm-clerical\n",
            "Tech-support\n",
            "Exec-managerial\n",
            "Craft-repair\n",
            "Other-service\n",
            "Transport-moving\n",
            "Exec-managerial\n",
            "Craft-repair\n",
            "Prof-specialty\n",
            "Exec-managerial\n"
          ],
          "name": "stdout"
        }
      ]
    },
    {
      "cell_type": "code",
      "metadata": {
        "id": "tdjjkUPr7JUA",
        "colab_type": "code",
        "colab": {}
      },
      "source": [
        "occupation_result = fc.input_layer(feature_batch, [fc.indicator_column(occupation)])\n",
        "occupation_result.shape\n",
        "\"\"\"TensorShape([Dimension(10), Dimension(1000)])\"\"\"\n",
        "clear_output()"
      ],
      "execution_count": 0,
      "outputs": []
    },
    {
      "cell_type": "code",
      "metadata": {
        "id": "VYX2AcYg7oOZ",
        "colab_type": "code",
        "outputId": "da9371f1-93d5-468d-cb58-1b8ed9953756",
        "colab": {
          "base_uri": "https://localhost:8080/",
          "height": 35
        }
      },
      "source": [
        "tf.argmax(occupation_result, axis=1).numpy()"
      ],
      "execution_count": 0,
      "outputs": [
        {
          "output_type": "execute_result",
          "data": {
            "text/plain": [
              "array([ 96, 413, 800, 466, 527, 420, 800, 466, 979, 800])"
            ]
          },
          "metadata": {
            "tags": []
          },
          "execution_count": 129
        }
      ]
    },
    {
      "cell_type": "code",
      "metadata": {
        "id": "1mpXYZgT8Ujf",
        "colab_type": "code",
        "colab": {}
      },
      "source": [
        "education = tf.feature_column.categorical_column_with_vocabulary_list(\n",
        "    'education',\n",
        "    [\n",
        "        'Bachelors', 'HS-grad', '11th', 'Masters', '9th', 'Some-college',\n",
        "        'Assoc-acdm', 'Assoc-voc', '7th-8th', 'Doctorate', 'Prof-school',\n",
        "        '5th-6th', '10th', '1st-4th', 'Preschool', '12th'\n",
        "    ]\n",
        ")\n",
        "\n",
        "marital_status = tf.feature_column.categorical_column_with_vocabulary_list(\n",
        "    'marital_status',\n",
        "    [\n",
        "        'Married-civ-spouse', 'Divorced', 'Married-spouse-absent',\n",
        "        'Never-married', 'Separated', 'Married-AF-spouse', 'Widowed'\n",
        "    ]\n",
        ")\n",
        "\n",
        "workclass = tf.feature_column.categorical_column_with_vocabulary_list(\n",
        "    'workclass',\n",
        "    [\n",
        "        'Self-emp-not-inc', 'Private', 'State-gov', 'Federal-gov',\n",
        "        'Local-gov', '?', 'Self-emp-inc', 'Without-pay', 'Never-worked'\n",
        "    ]\n",
        ")"
      ],
      "execution_count": 0,
      "outputs": []
    },
    {
      "cell_type": "code",
      "metadata": {
        "id": "ZsmvqRzB8WE-",
        "colab_type": "code",
        "colab": {}
      },
      "source": [
        "my_categorical_column = [relationship, occupation, education, marital_status, workclass]"
      ],
      "execution_count": 0,
      "outputs": []
    },
    {
      "cell_type": "code",
      "metadata": {
        "id": "d3FkwABX98IR",
        "colab_type": "code",
        "outputId": "c7b90b97-58e0-4a5d-932d-58c982901fe4",
        "colab": {
          "base_uri": "https://localhost:8080/",
          "height": 207
        }
      },
      "source": [
        "classifier = tf.estimator.LinearClassifier(\n",
        "    feature_columns=my_numeric_columns + my_categorical_column\n",
        ")\n",
        "\n",
        "classifier.train(train_inpf)\n",
        "result = classifier.evaluate(test_inpf)\n",
        "clear_output()\n",
        "result"
      ],
      "execution_count": 0,
      "outputs": [
        {
          "output_type": "execute_result",
          "data": {
            "text/plain": [
              "{'accuracy': 0.8368036,\n",
              " 'accuracy_baseline': 0.76377374,\n",
              " 'auc': 0.8826973,\n",
              " 'auc_precision_recall': 0.6945382,\n",
              " 'average_loss': 0.36487582,\n",
              " 'global_step': 1018,\n",
              " 'label/mean': 0.23622628,\n",
              " 'loss': 23.29625,\n",
              " 'precision': 0.6797702,\n",
              " 'prediction/mean': 0.2304947,\n",
              " 'recall': 0.58450335}"
            ]
          },
          "metadata": {
            "tags": []
          },
          "execution_count": 132
        }
      ]
    },
    {
      "cell_type": "markdown",
      "metadata": {
        "id": "fiOzbIKs-wxG",
        "colab_type": "text"
      },
      "source": [
        "Derived feature columns\n",
        "\n",
        "Sometimes the relationship between a continuous feature and the label is not linear.\n",
        "\n",
        "With such exploratory continuous variable one can learn only 3 possible relation when correlated with target or response variable.\n",
        "\n",
        "These 3 relations are:\n",
        "\n",
        "1. exploratory variable increases so does response variable. ( or decrease)\n",
        "\n",
        "2. No relation\n",
        "\n",
        "Bucketization is a process of dividing the entire range of a continuous feature into a set of consecutive buckets, and then converting the original numerical feature into a bucket ID (as a categorical feature) depending on which bucket that value falls into."
      ]
    },
    {
      "cell_type": "code",
      "metadata": {
        "id": "u1Giq7mI-YfN",
        "colab_type": "code",
        "colab": {}
      },
      "source": [
        "age_bucket = tf.feature_column.bucketized_column(\n",
        "    age,\n",
        "    boundaries=[18, 25, 30, 35, 40, 45, 50, 55, 60, 65]\n",
        ")"
      ],
      "execution_count": 0,
      "outputs": []
    },
    {
      "cell_type": "code",
      "metadata": {
        "id": "x_0Rt8aE_tch",
        "colab_type": "code",
        "colab": {}
      },
      "source": [
        "fc.input_layer(feature_batch, [age, age_bucket]).numpy()\n",
        "\"\"\"\n",
        "array([[64.,  0.,  0.,  0.,  0.,  0.,  0.,  0.,  0.,  0.,  1.,  0.],\n",
        "       [90.,  0.,  0.,  0.,  0.,  0.,  0.,  0.,  0.,  0.,  0.,  1.],\n",
        "       [20.,  0.,  1.,  0.,  0.,  0.,  0.,  0.,  0.,  0.,  0.,  0.],\n",
        "       [61.,  0.,  0.,  0.,  0.,  0.,  0.,  0.,  0.,  0.,  1.,  0.],\n",
        "       [22.,  0.,  1.,  0.,  0.,  0.,  0.,  0.,  0.,  0.,  0.,  0.],\n",
        "       [25.,  0.,  0.,  1.,  0.,  0.,  0.,  0.,  0.,  0.,  0.,  0.],\n",
        "       [19.,  0.,  1.,  0.,  0.,  0.,  0.,  0.,  0.,  0.,  0.,  0.],\n",
        "       [36.,  0.,  0.,  0.,  0.,  1.,  0.,  0.,  0.,  0.,  0.,  0.],\n",
        "       [28.,  0.,  0.,  1.,  0.,  0.,  0.,  0.,  0.,  0.,  0.,  0.],\n",
        "       [21.,  0.,  1.,  0.,  0.,  0.,  0.,  0.,  0.,  0.,  0.,  0.]],\n",
        "      dtype=float32)\n",
        "\n",
        "\"\"\"\n",
        "clear_output()"
      ],
      "execution_count": 0,
      "outputs": []
    },
    {
      "cell_type": "markdown",
      "metadata": {
        "id": "q_cLNyloACGz",
        "colab_type": "text"
      },
      "source": [
        "Complex Relation\n",
        "\n",
        "Relation between variables"
      ]
    },
    {
      "cell_type": "code",
      "metadata": {
        "id": "6A4LnkMU_3aF",
        "colab_type": "code",
        "colab": {}
      },
      "source": [
        "education_x_occupation = tf.feature_column.crossed_column(\n",
        "    ['education', 'occupation'],\n",
        "    hash_bucket_size=1000\n",
        ")\n",
        "\n",
        "age_bucket_x_education_x_occupation = tf.feature_column.crossed_column(\n",
        "    [age_bucket, 'education', 'occupation'],\n",
        "    hash_bucket_size=1000\n",
        ")"
      ],
      "execution_count": 0,
      "outputs": []
    },
    {
      "cell_type": "code",
      "metadata": {
        "id": "d1Ov6VUSBmFd",
        "colab_type": "code",
        "colab": {}
      },
      "source": [
        "crossed_column = [education_x_occupation, age_bucket_x_education_x_occupation]"
      ],
      "execution_count": 0,
      "outputs": []
    },
    {
      "cell_type": "code",
      "metadata": {
        "id": "4zfDds9iB8uO",
        "colab_type": "code",
        "outputId": "cfb47173-d7bd-4212-e075-bea91d51be7a",
        "colab": {
          "base_uri": "https://localhost:8080/",
          "height": 207
        }
      },
      "source": [
        "classifier = tf.estimator.LinearClassifier(\n",
        "    feature_columns=my_numeric_columns + my_categorical_column + crossed_column\n",
        ")\n",
        "\n",
        "classifier.train(train_inpf)\n",
        "result = classifier.evaluate(test_inpf)\n",
        "clear_output()\n",
        "result"
      ],
      "execution_count": 0,
      "outputs": [
        {
          "output_type": "execute_result",
          "data": {
            "text/plain": [
              "{'accuracy': 0.81635034,\n",
              " 'accuracy_baseline': 0.76377374,\n",
              " 'auc': 0.86154956,\n",
              " 'auc_precision_recall': 0.62940717,\n",
              " 'average_loss': 2.831425,\n",
              " 'global_step': 1018,\n",
              " 'label/mean': 0.23622628,\n",
              " 'loss': 180.77815,\n",
              " 'precision': 0.60393393,\n",
              " 'prediction/mean': 0.27527002,\n",
              " 'recall': 0.64664584}"
            ]
          },
          "metadata": {
            "tags": []
          },
          "execution_count": 137
        }
      ]
    },
    {
      "cell_type": "code",
      "metadata": {
        "id": "pV07CdGWCrTe",
        "colab_type": "code",
        "colab": {}
      },
      "source": [
        "import numpy as np"
      ],
      "execution_count": 0,
      "outputs": []
    },
    {
      "cell_type": "code",
      "metadata": {
        "id": "pukrNVxyDLQU",
        "colab_type": "code",
        "colab": {}
      },
      "source": [
        "predict_df = test_df[:20].copy()"
      ],
      "execution_count": 0,
      "outputs": []
    },
    {
      "cell_type": "code",
      "metadata": {
        "id": "0BU1j-H8DQrm",
        "colab_type": "code",
        "outputId": "6d1e3d13-8e26-47c6-9658-92d8a8d543da",
        "colab": {
          "base_uri": "https://localhost:8080/",
          "height": 648
        }
      },
      "source": [
        "pred_iter = classifier.predict(\n",
        "    lambda: easy_input_function(predict_df, label_key='income_bracket', num_epochs=1, shuffle=False, batch_size=10)\n",
        ")\n",
        "\n",
        "classes = np.array(['<=50K', '>50K'])\n",
        "\n",
        "pred_class_id = []\n",
        "\n",
        "for pred_dict in pred_iter:\n",
        "  pred_class_id.append(pred_dict['class_ids'])\n",
        "  \n",
        "predict_df['predict_class'] = classes[np.array(pred_class_id)]\n",
        "\n",
        "predict_df['correct'] = predict_df['predict_class'] == predict_df['income_bracket']\n",
        "\n",
        "clear_output()\n",
        "\n",
        "predict_df[['income_bracket', 'predict_class', 'correct']]"
      ],
      "execution_count": 0,
      "outputs": [
        {
          "output_type": "execute_result",
          "data": {
            "text/html": [
              "<div>\n",
              "<style scoped>\n",
              "    .dataframe tbody tr th:only-of-type {\n",
              "        vertical-align: middle;\n",
              "    }\n",
              "\n",
              "    .dataframe tbody tr th {\n",
              "        vertical-align: top;\n",
              "    }\n",
              "\n",
              "    .dataframe thead th {\n",
              "        text-align: right;\n",
              "    }\n",
              "</style>\n",
              "<table border=\"1\" class=\"dataframe\">\n",
              "  <thead>\n",
              "    <tr style=\"text-align: right;\">\n",
              "      <th></th>\n",
              "      <th>income_bracket</th>\n",
              "      <th>predict_class</th>\n",
              "      <th>correct</th>\n",
              "    </tr>\n",
              "  </thead>\n",
              "  <tbody>\n",
              "    <tr>\n",
              "      <th>0</th>\n",
              "      <td>&lt;=50K</td>\n",
              "      <td>&lt;=50K</td>\n",
              "      <td>True</td>\n",
              "    </tr>\n",
              "    <tr>\n",
              "      <th>1</th>\n",
              "      <td>&lt;=50K</td>\n",
              "      <td>&lt;=50K</td>\n",
              "      <td>True</td>\n",
              "    </tr>\n",
              "    <tr>\n",
              "      <th>2</th>\n",
              "      <td>&gt;50K</td>\n",
              "      <td>&lt;=50K</td>\n",
              "      <td>False</td>\n",
              "    </tr>\n",
              "    <tr>\n",
              "      <th>3</th>\n",
              "      <td>&gt;50K</td>\n",
              "      <td>&gt;50K</td>\n",
              "      <td>True</td>\n",
              "    </tr>\n",
              "    <tr>\n",
              "      <th>4</th>\n",
              "      <td>&lt;=50K</td>\n",
              "      <td>&lt;=50K</td>\n",
              "      <td>True</td>\n",
              "    </tr>\n",
              "    <tr>\n",
              "      <th>5</th>\n",
              "      <td>&lt;=50K</td>\n",
              "      <td>&lt;=50K</td>\n",
              "      <td>True</td>\n",
              "    </tr>\n",
              "    <tr>\n",
              "      <th>6</th>\n",
              "      <td>&lt;=50K</td>\n",
              "      <td>&lt;=50K</td>\n",
              "      <td>True</td>\n",
              "    </tr>\n",
              "    <tr>\n",
              "      <th>7</th>\n",
              "      <td>&gt;50K</td>\n",
              "      <td>&gt;50K</td>\n",
              "      <td>True</td>\n",
              "    </tr>\n",
              "    <tr>\n",
              "      <th>8</th>\n",
              "      <td>&lt;=50K</td>\n",
              "      <td>&lt;=50K</td>\n",
              "      <td>True</td>\n",
              "    </tr>\n",
              "    <tr>\n",
              "      <th>9</th>\n",
              "      <td>&lt;=50K</td>\n",
              "      <td>&lt;=50K</td>\n",
              "      <td>True</td>\n",
              "    </tr>\n",
              "    <tr>\n",
              "      <th>10</th>\n",
              "      <td>&gt;50K</td>\n",
              "      <td>&gt;50K</td>\n",
              "      <td>True</td>\n",
              "    </tr>\n",
              "    <tr>\n",
              "      <th>11</th>\n",
              "      <td>&lt;=50K</td>\n",
              "      <td>&gt;50K</td>\n",
              "      <td>False</td>\n",
              "    </tr>\n",
              "    <tr>\n",
              "      <th>12</th>\n",
              "      <td>&lt;=50K</td>\n",
              "      <td>&lt;=50K</td>\n",
              "      <td>True</td>\n",
              "    </tr>\n",
              "    <tr>\n",
              "      <th>13</th>\n",
              "      <td>&lt;=50K</td>\n",
              "      <td>&lt;=50K</td>\n",
              "      <td>True</td>\n",
              "    </tr>\n",
              "    <tr>\n",
              "      <th>14</th>\n",
              "      <td>&gt;50K</td>\n",
              "      <td>&gt;50K</td>\n",
              "      <td>True</td>\n",
              "    </tr>\n",
              "    <tr>\n",
              "      <th>15</th>\n",
              "      <td>&gt;50K</td>\n",
              "      <td>&gt;50K</td>\n",
              "      <td>True</td>\n",
              "    </tr>\n",
              "    <tr>\n",
              "      <th>16</th>\n",
              "      <td>&lt;=50K</td>\n",
              "      <td>&lt;=50K</td>\n",
              "      <td>True</td>\n",
              "    </tr>\n",
              "    <tr>\n",
              "      <th>17</th>\n",
              "      <td>&lt;=50K</td>\n",
              "      <td>&lt;=50K</td>\n",
              "      <td>True</td>\n",
              "    </tr>\n",
              "    <tr>\n",
              "      <th>18</th>\n",
              "      <td>&lt;=50K</td>\n",
              "      <td>&lt;=50K</td>\n",
              "      <td>True</td>\n",
              "    </tr>\n",
              "    <tr>\n",
              "      <th>19</th>\n",
              "      <td>&gt;50K</td>\n",
              "      <td>&gt;50K</td>\n",
              "      <td>True</td>\n",
              "    </tr>\n",
              "  </tbody>\n",
              "</table>\n",
              "</div>"
            ],
            "text/plain": [
              "   income_bracket predict_class  correct\n",
              "0           <=50K         <=50K     True\n",
              "1           <=50K         <=50K     True\n",
              "2            >50K         <=50K    False\n",
              "3            >50K          >50K     True\n",
              "4           <=50K         <=50K     True\n",
              "5           <=50K         <=50K     True\n",
              "6           <=50K         <=50K     True\n",
              "7            >50K          >50K     True\n",
              "8           <=50K         <=50K     True\n",
              "9           <=50K         <=50K     True\n",
              "10           >50K          >50K     True\n",
              "11          <=50K          >50K    False\n",
              "12          <=50K         <=50K     True\n",
              "13          <=50K         <=50K     True\n",
              "14           >50K          >50K     True\n",
              "15           >50K          >50K     True\n",
              "16          <=50K         <=50K     True\n",
              "17          <=50K         <=50K     True\n",
              "18          <=50K         <=50K     True\n",
              "19           >50K          >50K     True"
            ]
          },
          "metadata": {
            "tags": []
          },
          "execution_count": 140
        }
      ]
    },
    {
      "cell_type": "code",
      "metadata": {
        "id": "5ne8J-r9X7zC",
        "colab_type": "code",
        "outputId": "0c8df4e7-d171-4fc1-da33-2925051929fd",
        "colab": {
          "base_uri": "https://localhost:8080/",
          "height": 348
        }
      },
      "source": [
        "model_l1 = tf.estimator.LinearClassifier(\n",
        "    feature_columns=my_numeric_columns + my_categorical_column + crossed_column,\n",
        "    optimizer=tf.train.FtrlOptimizer(\n",
        "        learning_rate=0.1,\n",
        "        l1_regularization_strength=10.0,\n",
        "        l2_regularization_strength=0.0\n",
        "    )\n",
        ")"
      ],
      "execution_count": 173,
      "outputs": [
        {
          "output_type": "stream",
          "text": [
            "INFO:tensorflow:Using default config.\n"
          ],
          "name": "stdout"
        },
        {
          "output_type": "stream",
          "text": [
            "I0601 05:08:43.540475 140070466692992 estimator.py:1739] Using default config.\n"
          ],
          "name": "stderr"
        },
        {
          "output_type": "stream",
          "text": [
            "WARNING:tensorflow:Using temporary folder as model directory: /tmp/tmp7zzyonc_\n"
          ],
          "name": "stdout"
        },
        {
          "output_type": "stream",
          "text": [
            "W0601 05:08:43.543405 140070466692992 estimator.py:1760] Using temporary folder as model directory: /tmp/tmp7zzyonc_\n"
          ],
          "name": "stderr"
        },
        {
          "output_type": "stream",
          "text": [
            "INFO:tensorflow:Using config: {'_model_dir': '/tmp/tmp7zzyonc_', '_tf_random_seed': None, '_save_summary_steps': 100, '_save_checkpoints_steps': None, '_save_checkpoints_secs': 600, '_session_config': allow_soft_placement: true\n",
            "graph_options {\n",
            "  rewrite_options {\n",
            "    meta_optimizer_iterations: ONE\n",
            "  }\n",
            "}\n",
            ", '_keep_checkpoint_max': 5, '_keep_checkpoint_every_n_hours': 10000, '_log_step_count_steps': 100, '_train_distribute': None, '_device_fn': None, '_protocol': None, '_eval_distribute': None, '_experimental_distribute': None, '_service': None, '_cluster_spec': <tensorflow.python.training.server_lib.ClusterSpec object at 0x7f64405deb00>, '_task_type': 'worker', '_task_id': 0, '_global_id_in_cluster': 0, '_master': '', '_evaluation_master': '', '_is_chief': True, '_num_ps_replicas': 0, '_num_worker_replicas': 1}\n"
          ],
          "name": "stdout"
        },
        {
          "output_type": "stream",
          "text": [
            "I0601 05:08:43.555969 140070466692992 estimator.py:201] Using config: {'_model_dir': '/tmp/tmp7zzyonc_', '_tf_random_seed': None, '_save_summary_steps': 100, '_save_checkpoints_steps': None, '_save_checkpoints_secs': 600, '_session_config': allow_soft_placement: true\n",
            "graph_options {\n",
            "  rewrite_options {\n",
            "    meta_optimizer_iterations: ONE\n",
            "  }\n",
            "}\n",
            ", '_keep_checkpoint_max': 5, '_keep_checkpoint_every_n_hours': 10000, '_log_step_count_steps': 100, '_train_distribute': None, '_device_fn': None, '_protocol': None, '_eval_distribute': None, '_experimental_distribute': None, '_service': None, '_cluster_spec': <tensorflow.python.training.server_lib.ClusterSpec object at 0x7f64405deb00>, '_task_type': 'worker', '_task_id': 0, '_global_id_in_cluster': 0, '_master': '', '_evaluation_master': '', '_is_chief': True, '_num_ps_replicas': 0, '_num_worker_replicas': 1}\n"
          ],
          "name": "stderr"
        }
      ]
    },
    {
      "cell_type": "code",
      "metadata": {
        "id": "qS1s9RuzYgbD",
        "colab_type": "code",
        "outputId": "5904e937-6e0c-4ea7-d894-eb6e4aacc188",
        "colab": {
          "base_uri": "https://localhost:8080/",
          "height": 207
        }
      },
      "source": [
        "model_l1.train(train_inpf)\n",
        "results= model_l1.evaluate(test_inpf)\n",
        "clear_output()\n",
        "results"
      ],
      "execution_count": 174,
      "outputs": [
        {
          "output_type": "execute_result",
          "data": {
            "text/plain": [
              "{'accuracy': 0.8180087,\n",
              " 'accuracy_baseline': 0.76377374,\n",
              " 'auc': 0.87812084,\n",
              " 'auc_precision_recall': 0.66603696,\n",
              " 'average_loss': 0.6908714,\n",
              " 'global_step': 1018,\n",
              " 'label/mean': 0.23622628,\n",
              " 'loss': 44.110107,\n",
              " 'precision': 0.5931238,\n",
              " 'prediction/mean': 0.3263987,\n",
              " 'recall': 0.73114926}"
            ]
          },
          "metadata": {
            "tags": []
          },
          "execution_count": 174
        }
      ]
    },
    {
      "cell_type": "code",
      "metadata": {
        "id": "tb6HkjWhGeiH",
        "colab_type": "code",
        "outputId": "c522b3ee-1ddd-4207-f78c-2c02204141df",
        "colab": {
          "base_uri": "https://localhost:8080/",
          "height": 348
        }
      },
      "source": [
        "model_l2 = tf.estimator.LinearClassifier(\n",
        "    feature_columns=my_numeric_columns + my_categorical_column + crossed_column,\n",
        "    optimizer=tf.train.FtrlOptimizer(\n",
        "        learning_rate=0.1,\n",
        "        l1_regularization_strength=0.0,\n",
        "        l2_regularization_strength=10.0\n",
        "    )\n",
        ")"
      ],
      "execution_count": 0,
      "outputs": [
        {
          "output_type": "stream",
          "text": [
            "INFO:tensorflow:Using default config.\n"
          ],
          "name": "stdout"
        },
        {
          "output_type": "stream",
          "text": [
            "I0601 04:46:11.276980 140070466692992 estimator.py:1739] Using default config.\n"
          ],
          "name": "stderr"
        },
        {
          "output_type": "stream",
          "text": [
            "WARNING:tensorflow:Using temporary folder as model directory: /tmp/tmpn34lblia\n"
          ],
          "name": "stdout"
        },
        {
          "output_type": "stream",
          "text": [
            "W0601 04:46:11.281352 140070466692992 estimator.py:1760] Using temporary folder as model directory: /tmp/tmpn34lblia\n"
          ],
          "name": "stderr"
        },
        {
          "output_type": "stream",
          "text": [
            "INFO:tensorflow:Using config: {'_model_dir': '/tmp/tmpn34lblia', '_tf_random_seed': None, '_save_summary_steps': 100, '_save_checkpoints_steps': None, '_save_checkpoints_secs': 600, '_session_config': allow_soft_placement: true\n",
            "graph_options {\n",
            "  rewrite_options {\n",
            "    meta_optimizer_iterations: ONE\n",
            "  }\n",
            "}\n",
            ", '_keep_checkpoint_max': 5, '_keep_checkpoint_every_n_hours': 10000, '_log_step_count_steps': 100, '_train_distribute': None, '_device_fn': None, '_protocol': None, '_eval_distribute': None, '_experimental_distribute': None, '_service': None, '_cluster_spec': <tensorflow.python.training.server_lib.ClusterSpec object at 0x7f64405de7f0>, '_task_type': 'worker', '_task_id': 0, '_global_id_in_cluster': 0, '_master': '', '_evaluation_master': '', '_is_chief': True, '_num_ps_replicas': 0, '_num_worker_replicas': 1}\n"
          ],
          "name": "stdout"
        },
        {
          "output_type": "stream",
          "text": [
            "I0601 04:46:11.285557 140070466692992 estimator.py:201] Using config: {'_model_dir': '/tmp/tmpn34lblia', '_tf_random_seed': None, '_save_summary_steps': 100, '_save_checkpoints_steps': None, '_save_checkpoints_secs': 600, '_session_config': allow_soft_placement: true\n",
            "graph_options {\n",
            "  rewrite_options {\n",
            "    meta_optimizer_iterations: ONE\n",
            "  }\n",
            "}\n",
            ", '_keep_checkpoint_max': 5, '_keep_checkpoint_every_n_hours': 10000, '_log_step_count_steps': 100, '_train_distribute': None, '_device_fn': None, '_protocol': None, '_eval_distribute': None, '_experimental_distribute': None, '_service': None, '_cluster_spec': <tensorflow.python.training.server_lib.ClusterSpec object at 0x7f64405de7f0>, '_task_type': 'worker', '_task_id': 0, '_global_id_in_cluster': 0, '_master': '', '_evaluation_master': '', '_is_chief': True, '_num_ps_replicas': 0, '_num_worker_replicas': 1}\n"
          ],
          "name": "stderr"
        }
      ]
    },
    {
      "cell_type": "code",
      "metadata": {
        "id": "kFE03-p6W_7s",
        "colab_type": "code",
        "outputId": "05622e48-299a-4793-8723-790bd91b5505",
        "colab": {
          "base_uri": "https://localhost:8080/",
          "height": 207
        }
      },
      "source": [
        "model_l2.train(train_inpf)\n",
        "results = model_l2.evaluate(test_inpf)\n",
        "clear_output()\n",
        "results"
      ],
      "execution_count": 0,
      "outputs": [
        {
          "output_type": "execute_result",
          "data": {
            "text/plain": [
              "{'accuracy': 0.8257478,\n",
              " 'accuracy_baseline': 0.76377374,\n",
              " 'auc': 0.87624353,\n",
              " 'auc_precision_recall': 0.65829647,\n",
              " 'average_loss': 0.71967185,\n",
              " 'global_step': 1018,\n",
              " 'label/mean': 0.23622628,\n",
              " 'loss': 45.948933,\n",
              " 'precision': 0.6389424,\n",
              " 'prediction/mean': 0.2694755,\n",
              " 'recall': 0.60322416}"
            ]
          },
          "metadata": {
            "tags": []
          },
          "execution_count": 142
        }
      ]
    },
    {
      "cell_type": "code",
      "metadata": {
        "id": "hyi1pEKkZSmE",
        "colab_type": "code",
        "colab": {}
      },
      "source": [
        "model = model_l2"
      ],
      "execution_count": 0,
      "outputs": []
    },
    {
      "cell_type": "code",
      "metadata": {
        "id": "gfETFB-DXVxR",
        "colab_type": "code",
        "outputId": "324d8302-2798-401b-c991-143fbf3fc540",
        "colab": {
          "base_uri": "https://localhost:8080/",
          "height": 242
        }
      },
      "source": [
        "# Get Weight Details\n",
        "weight_names = [\n",
        "    name for name in model.get_variable_names() if \"linear_model\" in name and \"Ftrl\" not in name\n",
        "]\n",
        "weight_names\n"
      ],
      "execution_count": 0,
      "outputs": [
        {
          "output_type": "execute_result",
          "data": {
            "text/plain": [
              "['linear/linear_model/age/weights',\n",
              " 'linear/linear_model/age_bucketized_X_education_X_occupation/weights',\n",
              " 'linear/linear_model/bias_weights',\n",
              " 'linear/linear_model/capital_gain/weights',\n",
              " 'linear/linear_model/capital_loss/weights',\n",
              " 'linear/linear_model/education/weights',\n",
              " 'linear/linear_model/education_X_occupation/weights',\n",
              " 'linear/linear_model/education_num/weights',\n",
              " 'linear/linear_model/hours_per_week/weights',\n",
              " 'linear/linear_model/marital_status/weights',\n",
              " 'linear/linear_model/occupation/weights',\n",
              " 'linear/linear_model/relationship/weights',\n",
              " 'linear/linear_model/workclass/weights']"
            ]
          },
          "metadata": {
            "tags": []
          },
          "execution_count": 161
        }
      ]
    },
    {
      "cell_type": "code",
      "metadata": {
        "id": "rFedH7uHZWA4",
        "colab_type": "code",
        "colab": {}
      },
      "source": [
        "weight_values = [model.get_variable_value(name) for name in weight_names]\n",
        "weights_flat = np.concatenate([i.flatten() for i in weight_values], axis=0)"
      ],
      "execution_count": 0,
      "outputs": []
    },
    {
      "cell_type": "code",
      "metadata": {
        "id": "gaT8-TB7aBqu",
        "colab_type": "code",
        "colab": {}
      },
      "source": [
        "weight_mask = weights_flat != 0"
      ],
      "execution_count": 0,
      "outputs": []
    },
    {
      "cell_type": "code",
      "metadata": {
        "id": "QXcDaZpea9Hh",
        "colab_type": "code",
        "colab": {
          "base_uri": "https://localhost:8080/",
          "height": 52
        },
        "outputId": "9d22361a-0ca7-400d-f1d9-0ff28d9b3814"
      },
      "source": [
        "weights_flat[weight_mask]\n"
      ],
      "execution_count": 168,
      "outputs": [
        {
          "output_type": "execute_result",
          "data": {
            "text/plain": [
              "array([-0.00166951, -0.13950893,  0.01375201, ...,  0.3181599 ,\n",
              "       -0.18576285, -0.02153957], dtype=float32)"
            ]
          },
          "metadata": {
            "tags": []
          },
          "execution_count": 168
        }
      ]
    },
    {
      "cell_type": "code",
      "metadata": {
        "id": "mJbyJUCEb4aA",
        "colab_type": "code",
        "colab": {}
      },
      "source": [
        "def get_flat_weights(model):\n",
        "  weight_names = [\n",
        "      name for name in model.get_variable_names()\n",
        "      if \"linear_model\" in name and \"Ftrl\" not in name]\n",
        "\n",
        "  weight_values = [model.get_variable_value(name) for name in weight_names]\n",
        "\n",
        "  weights_flat = np.concatenate([item.flatten() for item in weight_values], axis=0)\n",
        "\n",
        "  return weights_flat\n",
        "\n",
        "weights_flat = get_flat_weights(classifier)\n",
        "weights_flat_l1 = get_flat_weights(model_l1)\n",
        "weights_flat_l2 = get_flat_weights(model_l2)\n"
      ],
      "execution_count": 0,
      "outputs": []
    },
    {
      "cell_type": "code",
      "metadata": {
        "id": "7MNrxgxEb_vQ",
        "colab_type": "code",
        "colab": {}
      },
      "source": [
        "weight_mask = weights_flat != 0\n",
        "\n",
        "weights_base = weights_flat[weight_mask]\n",
        "weights_l1 = weights_flat_l1[weight_mask]\n",
        "weights_l2 = weights_flat_l2[weight_mask]"
      ],
      "execution_count": 0,
      "outputs": []
    },
    {
      "cell_type": "code",
      "metadata": {
        "id": "r9gYf1LEcDYA",
        "colab_type": "code",
        "colab": {
          "base_uri": "https://localhost:8080/",
          "height": 808
        },
        "outputId": "76288c71-3cd2-4647-c02b-11eb6afd269f"
      },
      "source": [
        "plt.figure()\n",
        "_ = plt.hist(weights_base, bins=np.linspace(-3,3,30))\n",
        "plt.title('Base Model')\n",
        "plt.ylim([0,500])\n",
        "\n",
        "plt.figure()\n",
        "_ = plt.hist(weights_l1, bins=np.linspace(-3,3,30))\n",
        "plt.title('L1 - Regularization')\n",
        "plt.ylim([0,500])\n",
        "\n",
        "plt.figure()\n",
        "_ = plt.hist(weights_l2, bins=np.linspace(-3,3,30))\n",
        "plt.title('L2 - Regularization')\n",
        "_=plt.ylim([0,500])\n"
      ],
      "execution_count": 177,
      "outputs": [
        {
          "output_type": "display_data",
          "data": {
            "image/png": "[encoded data removed]",
            "text/plain": [
              "<Figure size 432x288 with 1 Axes>"
            ]
          },
          "metadata": {
            "tags": []
          }
        },
        {
          "output_type": "display_data",
          "data": {
            "image/png": "[encoded data removed]",
            "text/plain": [
              "<Figure size 432x288 with 1 Axes>"
            ]
          },
          "metadata": {
            "tags": []
          }
        },
        {
          "output_type": "display_data",
          "data": {
            "image/png": "[encoded data removed]",
            "text/plain": [
              "<Figure size 432x288 with 1 Axes>"
            ]
          },
          "metadata": {
            "tags": []
          }
        }
      ]
    },
    {
      "cell_type": "code",
      "metadata": {
        "id": "Q93PnR2ScEu7",
        "colab_type": "code",
        "colab": {}
      },
      "source": [
        ""
      ],
      "execution_count": 0,
      "outputs": []
    }
  ]
}