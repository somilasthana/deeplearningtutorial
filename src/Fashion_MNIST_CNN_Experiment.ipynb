{
  "nbformat": 4,
  "nbformat_minor": 0,
  "metadata": {
    "colab": {
      "name": "Fashion_MNIST_CNN_Experiment.ipynb",
      "version": "0.3.2",
      "provenance": [],
      "collapsed_sections": []
    },
    "kernelspec": {
      "name": "python3",
      "display_name": "Python 3"
    },
    "accelerator": "GPU"
  },
  "cells": [
    {
      "cell_type": "code",
      "metadata": {
        "id": "gTDdMo_dP1vz",
        "colab_type": "code",
        "colab": {}
      },
      "source": [
        "import tensorflow as tf\n"
      ],
      "execution_count": 0,
      "outputs": []
    },
    {
      "cell_type": "code",
      "metadata": {
        "id": "C6jRB3Z_P-jI",
        "colab_type": "code",
        "colab": {}
      },
      "source": [
        "class CollectBatchStats(tf.keras.callbacks.Callback):\n",
        "  def __init__(self):\n",
        "    self.batch_losses = []\n",
        "    self.batch_acc = []\n",
        "    \n",
        "  def on_batch_end(self, batch, logs=None):\n",
        "    self.batch_losses.append(logs['loss'])\n",
        "    self.batch_acc.append(logs['acc'])\n"
      ],
      "execution_count": 0,
      "outputs": []
    },
    {
      "cell_type": "code",
      "metadata": {
        "id": "tDR5hn0cQZy_",
        "colab_type": "code",
        "colab": {}
      },
      "source": [
        "def plot_compare_accuracy(stats1, stats2, legend_arr=[]):\n",
        "  import matplotlib.pylab as plt\n",
        "  plt.figure()\n",
        "  plt.ylabel(\"Accuracy\")\n",
        "  plt.xlabel(\"Training Steps\")\n",
        "  plt.ylim([0,1])\n",
        "  plt.plot(stats1.batch_acc)\n",
        "  plt.plot(stats2.batch_acc)\n",
        "  plt.legend(legend_arr, loc='lower right')\n",
        "  plt.show()\n",
        "  "
      ],
      "execution_count": 0,
      "outputs": []
    },
    {
      "cell_type": "code",
      "metadata": {
        "id": "yMc05LkArYZ3",
        "colab_type": "code",
        "outputId": "9aa839cb-5134-4c2e-8ad5-e883eee45aa7",
        "colab": {
          "base_uri": "https://localhost:8080/",
          "height": 221
        }
      },
      "source": [
        "batch_stats_conv_temp = CollectBatchStats()\n",
        "\n",
        "mnist = tf.keras.datasets.fashion_mnist\n",
        "(training_images, training_labels), (test_images, test_labels) = mnist.load_data()\n",
        "training_images=training_images.reshape(60000, 28, 28, 1)\n",
        "training_images=training_images / 255.0\n",
        "test_images = test_images.reshape(10000, 28, 28, 1)\n",
        "test_images=test_images/255.0\n",
        "model = tf.keras.models.Sequential([\n",
        "  tf.keras.layers.Flatten(),\n",
        "  tf.keras.layers.Dense(64, activation='relu'),\n",
        "  tf.keras.layers.Dense(10, activation='softmax')\n",
        "])\n",
        "model.compile(optimizer='adam', loss='sparse_categorical_crossentropy', metrics=['accuracy'])\n",
        "model.fit(training_images, training_labels, epochs=5, callbacks = [batch_stats_conv_temp])\n",
        "test_loss = model.evaluate(test_images, test_labels)\n",
        "print(\"Test Loss {}\".format(test_loss))"
      ],
      "execution_count": 0,
      "outputs": [
        {
          "output_type": "stream",
          "text": [
            "Epoch 1/5\n",
            "60000/60000 [==============================] - 8s 133us/sample - loss: 0.5224 - acc: 0.8183\n",
            "Epoch 2/5\n",
            "60000/60000 [==============================] - 8s 134us/sample - loss: 0.3921 - acc: 0.8584\n",
            "Epoch 3/5\n",
            "60000/60000 [==============================] - 9s 150us/sample - loss: 0.3553 - acc: 0.8714\n",
            "Epoch 4/5\n",
            "60000/60000 [==============================] - 9s 154us/sample - loss: 0.3344 - acc: 0.8774\n",
            "Epoch 5/5\n",
            "60000/60000 [==============================] - 8s 141us/sample - loss: 0.3144 - acc: 0.8848\n",
            "10000/10000 [==============================] - 1s 84us/sample - loss: 0.3701 - acc: 0.8644\n",
            "Test Loss [0.3701105746030807, 0.8644]\n"
          ],
          "name": "stdout"
        }
      ]
    },
    {
      "cell_type": "code",
      "metadata": {
        "id": "TCex7lo4qcsl",
        "colab_type": "code",
        "outputId": "af4ffd20-60c1-4614-b569-e5be37e198c2",
        "colab": {
          "base_uri": "https://localhost:8080/",
          "height": 221
        }
      },
      "source": [
        "batch_stats_conv_temp = CollectBatchStats()\n",
        "\n",
        "mnist = tf.keras.datasets.fashion_mnist\n",
        "(training_images, training_labels), (test_images, test_labels) = mnist.load_data()\n",
        "training_images=training_images.reshape(60000, 28, 28, 1)\n",
        "training_images=training_images / 255.0\n",
        "test_images = test_images.reshape(10000, 28, 28, 1)\n",
        "test_images=test_images/255.0\n",
        "model = tf.keras.models.Sequential([\n",
        "  tf.keras.layers.Flatten(),\n",
        "  tf.keras.layers.Dense(128, activation='relu'),\n",
        "  tf.keras.layers.Dense(10, activation='softmax')\n",
        "])\n",
        "model.compile(optimizer='adam', loss='sparse_categorical_crossentropy', metrics=['accuracy'])\n",
        "model.fit(training_images, training_labels, epochs=5, callbacks = [batch_stats_conv_temp])\n",
        "test_loss = model.evaluate(test_images, test_labels)\n",
        "print(\"Test Loss {}\".format(test_loss))"
      ],
      "execution_count": 0,
      "outputs": [
        {
          "output_type": "stream",
          "text": [
            "Epoch 1/5\n",
            "60000/60000 [==============================] - 8s 141us/sample - loss: 0.4975 - acc: 0.8240\n",
            "Epoch 2/5\n",
            "60000/60000 [==============================] - 8s 141us/sample - loss: 0.3779 - acc: 0.8648\n",
            "Epoch 3/5\n",
            "60000/60000 [==============================] - 8s 141us/sample - loss: 0.3363 - acc: 0.8767\n",
            "Epoch 4/5\n",
            "60000/60000 [==============================] - 8s 140us/sample - loss: 0.3128 - acc: 0.8864\n",
            "Epoch 5/5\n",
            "60000/60000 [==============================] - 9s 142us/sample - loss: 0.2948 - acc: 0.8908\n",
            "10000/10000 [==============================] - 1s 82us/sample - loss: 0.3378 - acc: 0.8783\n",
            "Test Loss [0.33778635346889496, 0.8783]\n"
          ],
          "name": "stdout"
        }
      ]
    },
    {
      "cell_type": "code",
      "metadata": {
        "id": "pGSBBaLlQffc",
        "colab_type": "code",
        "outputId": "5dd5c6ed-6836-47e1-d30b-4f69ac540147",
        "colab": {
          "base_uri": "https://localhost:8080/",
          "height": 578
        }
      },
      "source": [
        "batch_stats_conv = CollectBatchStats()\n",
        "\n",
        "mnist = tf.keras.datasets.fashion_mnist\n",
        "(training_images, training_labels), (test_images, test_labels) = mnist.load_data()\n",
        "training_images=training_images.reshape(60000, 28, 28, 1)\n",
        "training_images=training_images / 255.0\n",
        "test_images = test_images.reshape(10000, 28, 28, 1)\n",
        "test_images=test_images/255.0\n",
        "model = tf.keras.models.Sequential([\n",
        "  tf.keras.layers.Conv2D(64, (3,3), activation='relu', input_shape=(28, 28, 1)),\n",
        "  tf.keras.layers.MaxPooling2D(2, 2),\n",
        "  tf.keras.layers.Conv2D(64, (3,3), activation='relu'),\n",
        "  tf.keras.layers.MaxPooling2D(2,2),\n",
        "  tf.keras.layers.Flatten(),\n",
        "  tf.keras.layers.Dense(128, activation='relu'),\n",
        "  tf.keras.layers.Dense(10, activation='softmax')\n",
        "])\n",
        "model.compile(optimizer='adam', loss='sparse_categorical_crossentropy', metrics=['accuracy'])\n",
        "model.summary()\n",
        "model.fit(training_images, training_labels, epochs=5, callbacks = [batch_stats_conv])\n",
        "test_loss = model.evaluate(test_images, test_labels)\n",
        "print(\"Test Loss {}\".format(test_loss))\n"
      ],
      "execution_count": 0,
      "outputs": [
        {
          "output_type": "stream",
          "text": [
            "_________________________________________________________________\n",
            "Layer (type)                 Output Shape              Param #   \n",
            "=================================================================\n",
            "conv2d_2 (Conv2D)            (None, 26, 26, 64)        640       \n",
            "_________________________________________________________________\n",
            "max_pooling2d_2 (MaxPooling2 (None, 13, 13, 64)        0         \n",
            "_________________________________________________________________\n",
            "conv2d_3 (Conv2D)            (None, 11, 11, 64)        36928     \n",
            "_________________________________________________________________\n",
            "max_pooling2d_3 (MaxPooling2 (None, 5, 5, 64)          0         \n",
            "_________________________________________________________________\n",
            "flatten_1 (Flatten)          (None, 1600)              0         \n",
            "_________________________________________________________________\n",
            "dense_2 (Dense)              (None, 128)               204928    \n",
            "_________________________________________________________________\n",
            "dense_3 (Dense)              (None, 10)                1290      \n",
            "=================================================================\n",
            "Total params: 243,786\n",
            "Trainable params: 243,786\n",
            "Non-trainable params: 0\n",
            "_________________________________________________________________\n",
            "Epoch 1/5\n",
            "60000/60000 [==============================] - 16s 262us/sample - loss: 0.4368 - acc: 0.8405\n",
            "Epoch 2/5\n",
            "60000/60000 [==============================] - 15s 248us/sample - loss: 0.2946 - acc: 0.8905\n",
            "Epoch 3/5\n",
            "60000/60000 [==============================] - 15s 246us/sample - loss: 0.2484 - acc: 0.9074\n",
            "Epoch 4/5\n",
            "60000/60000 [==============================] - 15s 248us/sample - loss: 0.2170 - acc: 0.9188\n",
            "Epoch 5/5\n",
            "60000/60000 [==============================] - 15s 248us/sample - loss: 0.1907 - acc: 0.9296\n",
            "10000/10000 [==============================] - 1s 111us/sample - loss: 0.2492 - acc: 0.9116\n",
            "Test Loss [0.2492335214495659, 0.9116]\n"
          ],
          "name": "stdout"
        }
      ]
    },
    {
      "cell_type": "code",
      "metadata": {
        "id": "YFqU9it-tF3J",
        "colab_type": "code",
        "colab": {}
      },
      "source": [
        "def analyse_layers(deepmodel, vtest_images, conv_layer_number=1):\n",
        "  import matplotlib.pyplot as plt\n",
        "  from tensorflow.keras import models\n",
        "  f, axarr = plt.subplots(3,4)\n",
        "  layer_outputs = [layer.output for layer in deepmodel.layers]\n",
        "  activation_model = tf.keras.models.Model(inputs = deepmodel.input, outputs = layer_outputs)\n",
        "  for x in range(0,4):\n",
        "    f1 = activation_model.predict(vtest_images.reshape(1, 28, 28, 1))[x]\n",
        "    axarr[0,x].imshow(f1[0, : , :, conv_layer_number], cmap='inferno')\n",
        "    axarr[0,x].grid(False)\n",
        "    \n",
        "    "
      ],
      "execution_count": 0,
      "outputs": []
    },
    {
      "cell_type": "code",
      "metadata": {
        "id": "NR3ohLSzQlle",
        "colab_type": "code",
        "outputId": "0ce23c0a-2606-4acc-b3b1-0e282d8fab4b",
        "colab": {
          "base_uri": "https://localhost:8080/",
          "height": 578
        }
      },
      "source": [
        "# Experimenting by using Unnormalized\n",
        "batch_stats_reduced_cov = CollectBatchStats()\n",
        "\n",
        "mnist = tf.keras.datasets.fashion_mnist\n",
        "(training_images, training_labels), (test_images, test_labels) = mnist.load_data()\n",
        "training_images = training_images.reshape(60000, 28, 28, 1)\n",
        "training_images = training_images / 1.0\n",
        "test_images = test_images.reshape(10000, 28, 28, 1)\n",
        "test_images = test_images / 1.0\n",
        "model = tf.keras.models.Sequential([\n",
        "  tf.keras.layers.Conv2D(64, (3,3), activation='relu', input_shape=(28, 28, 1)),\n",
        "  tf.keras.layers.MaxPooling2D(2, 2),\n",
        "  tf.keras.layers.Conv2D(64, (3,3), activation='relu'),\n",
        "  tf.keras.layers.MaxPooling2D(2,2),\n",
        "  tf.keras.layers.Flatten(),\n",
        "  tf.keras.layers.Dense(128, activation='relu'),\n",
        "  tf.keras.layers.Dense(128, activation='softmax')\n",
        "])\n",
        "\n",
        "model.compile(optimizer='adam', loss='sparse_categorical_crossentropy', metrics=['accuracy'])\n",
        "model.summary()\n",
        "model.fit(training_images, training_labels, epochs=5, callbacks = [batch_stats_reduced_cov])\n",
        "test_loss = model.evaluate(test_images, test_labels)\n",
        "print(\"Test Loss {}\".format(test_loss))"
      ],
      "execution_count": 0,
      "outputs": [
        {
          "output_type": "stream",
          "text": [
            "_________________________________________________________________\n",
            "Layer (type)                 Output Shape              Param #   \n",
            "=================================================================\n",
            "conv2d_6 (Conv2D)            (None, 26, 26, 64)        640       \n",
            "_________________________________________________________________\n",
            "max_pooling2d_6 (MaxPooling2 (None, 13, 13, 64)        0         \n",
            "_________________________________________________________________\n",
            "conv2d_7 (Conv2D)            (None, 11, 11, 64)        36928     \n",
            "_________________________________________________________________\n",
            "max_pooling2d_7 (MaxPooling2 (None, 5, 5, 64)          0         \n",
            "_________________________________________________________________\n",
            "flatten_3 (Flatten)          (None, 1600)              0         \n",
            "_________________________________________________________________\n",
            "dense_6 (Dense)              (None, 128)               204928    \n",
            "_________________________________________________________________\n",
            "dense_7 (Dense)              (None, 128)               16512     \n",
            "=================================================================\n",
            "Total params: 259,008\n",
            "Trainable params: 259,008\n",
            "Non-trainable params: 0\n",
            "_________________________________________________________________\n",
            "Epoch 1/5\n",
            "60000/60000 [==============================] - 15s 243us/sample - loss: 0.6803 - acc: 0.8333\n",
            "Epoch 2/5\n",
            "60000/60000 [==============================] - 14s 237us/sample - loss: 0.3100 - acc: 0.8867\n",
            "Epoch 3/5\n",
            "60000/60000 [==============================] - 14s 237us/sample - loss: 0.2735 - acc: 0.8974\n",
            "Epoch 4/5\n",
            "60000/60000 [==============================] - 14s 235us/sample - loss: 0.2470 - acc: 0.9066\n",
            "Epoch 5/5\n",
            "60000/60000 [==============================] - 14s 233us/sample - loss: 0.2301 - acc: 0.9138\n",
            "10000/10000 [==============================] - 1s 109us/sample - loss: 0.3333 - acc: 0.8851\n",
            "Test Loss [0.33328949048519135, 0.8851]\n"
          ],
          "name": "stdout"
        }
      ]
    },
    {
      "cell_type": "code",
      "metadata": {
        "id": "4kleIFtiWjYv",
        "colab_type": "code",
        "outputId": "20a2f4a8-cb6e-4660-e99b-3fc52dccd482",
        "colab": {
          "base_uri": "https://localhost:8080/",
          "height": 365
        }
      },
      "source": [
        "plot_compare_accuracy(batch_stats_conv, batch_stats_reduced_cov, [\"normalized\", \"unnormalized\"])"
      ],
      "execution_count": 0,
      "outputs": [
        {
          "output_type": "display_data",
          "data": {
            "image/png": "[encoded data removed]",
            "text/plain": [
              "<Figure size 576x396 with 1 Axes>"
            ]
          },
          "metadata": {
            "tags": []
          }
        }
      ]
    },
    {
      "cell_type": "code",
      "metadata": {
        "id": "zem9HhwRZK0v",
        "colab_type": "code",
        "outputId": "e7f278b4-da78-4111-eadc-be1f68cd1892",
        "colab": {
          "base_uri": "https://localhost:8080/",
          "height": 510
        }
      },
      "source": [
        "# Experimenting by using reduced layer\n",
        "\n",
        "batch_stats_reduced_conv = CollectBatchStats()\n",
        "\n",
        "mnist = tf.keras.datasets.fashion_mnist\n",
        "(training_images, training_labels), (test_images, test_labels) = mnist.load_data()\n",
        "training_images=training_images.reshape(60000, 28, 28, 1)\n",
        "training_images = training_images / 255.0\n",
        "test_images = test_images.reshape(10000, 28, 28, 1)\n",
        "test_images = test_images / 255.0\n",
        "model = tf.keras.models.Sequential([\n",
        " tf.keras.layers.Conv2D(64, (3,3), activation='relu', input_shape=(28, 28, 1)),\n",
        " tf.keras.layers.MaxPooling2D(2, 2),\n",
        " tf.keras.layers.Flatten(),\n",
        " tf.keras.layers.Dense(128, activation='relu'),\n",
        " tf.keras.layers.Dense(10, activation= 'softmax')\n",
        "])\n",
        "model.compile(optimizer='adam', loss='sparse_categorical_crossentropy', metrics=['accuracy'])\n",
        "model.summary()\n",
        "model.fit(training_images, training_labels, epochs=5, callbacks=[batch_stats_reduced_conv])\n",
        "test_loss = model.evaluate(test_images, test_labels)\n",
        "print(\"Test Loss {}\".format(test_loss))"
      ],
      "execution_count": 0,
      "outputs": [
        {
          "output_type": "stream",
          "text": [
            "_________________________________________________________________\n",
            "Layer (type)                 Output Shape              Param #   \n",
            "=================================================================\n",
            "conv2d_10 (Conv2D)           (None, 26, 26, 64)        640       \n",
            "_________________________________________________________________\n",
            "max_pooling2d_10 (MaxPooling (None, 13, 13, 64)        0         \n",
            "_________________________________________________________________\n",
            "flatten_6 (Flatten)          (None, 10816)             0         \n",
            "_________________________________________________________________\n",
            "dense_12 (Dense)             (None, 128)               1384576   \n",
            "_________________________________________________________________\n",
            "dense_13 (Dense)             (None, 10)                1290      \n",
            "=================================================================\n",
            "Total params: 1,386,506\n",
            "Trainable params: 1,386,506\n",
            "Non-trainable params: 0\n",
            "_________________________________________________________________\n",
            "Epoch 1/5\n",
            "60000/60000 [==============================] - 13s 220us/sample - loss: 0.3743 - acc: 0.8667\n",
            "Epoch 2/5\n",
            "60000/60000 [==============================] - 13s 215us/sample - loss: 0.2528 - acc: 0.9080\n",
            "Epoch 3/5\n",
            "60000/60000 [==============================] - 13s 215us/sample - loss: 0.2092 - acc: 0.9224\n",
            "Epoch 4/5\n",
            "60000/60000 [==============================] - 13s 214us/sample - loss: 0.1747 - acc: 0.9346\n",
            "Epoch 5/5\n",
            "60000/60000 [==============================] - 13s 214us/sample - loss: 0.1466 - acc: 0.9458\n",
            "10000/10000 [==============================] - 1s 93us/sample - loss: 0.2524 - acc: 0.9156\n",
            "Test Loss [0.2524352707207203, 0.9156]\n"
          ],
          "name": "stdout"
        }
      ]
    },
    {
      "cell_type": "code",
      "metadata": {
        "id": "JDUVZ-HvZ4Qx",
        "colab_type": "code",
        "outputId": "1a4c269f-886e-4a1e-f89b-625f241978f2",
        "colab": {
          "base_uri": "https://localhost:8080/",
          "height": 365
        }
      },
      "source": [
        "plot_compare_accuracy(batch_stats_conv, batch_stats_reduced_conv, [\"4-CNN-Layers\", \"2-CNN-Layers\"])"
      ],
      "execution_count": 0,
      "outputs": [
        {
          "output_type": "display_data",
          "data": {
            "image/png": "[encoded data removed]",
            "text/plain": [
              "<Figure size 576x396 with 1 Axes>"
            ]
          },
          "metadata": {
            "tags": []
          }
        }
      ]
    },
    {
      "cell_type": "code",
      "metadata": {
        "id": "1R_23KRpa6gW",
        "colab_type": "code",
        "outputId": "830472a5-98b2-4809-cfec-75d3e232411a",
        "colab": {
          "base_uri": "https://localhost:8080/",
          "height": 510
        }
      },
      "source": [
        "# Experimenting by further reduction to 32\n",
        "\n",
        "batch_stats_further_reduced_conv = CollectBatchStats()\n",
        "\n",
        "mnist = tf.keras.datasets.fashion_mnist\n",
        "(training_images, training_labels), (test_images, test_labels) = mnist.load_data()\n",
        "training_images=training_images.reshape(60000, 28, 28, 1)\n",
        "training_images=training_images / 255.0\n",
        "test_images = test_images.reshape(10000, 28, 28, 1)\n",
        "test_images=test_images/255.0\n",
        "model = tf.keras.models.Sequential([\n",
        "  tf.keras.layers.Conv2D(32, (3,3), activation='relu', input_shape=(28, 28, 1)),\n",
        "  tf.keras.layers.MaxPooling2D(2, 2),\n",
        "  tf.keras.layers.Flatten(),\n",
        "  tf.keras.layers.Dense(128, activation='relu'),\n",
        "  tf.keras.layers.Dense(10, activation='softmax')\n",
        "])\n",
        "model.compile(optimizer='adam', loss='sparse_categorical_crossentropy', metrics=['accuracy'])\n",
        "model.summary()\n",
        "model.fit(training_images, training_labels, epochs=5, callbacks = [batch_stats_further_reduced_conv])\n",
        "test_loss = model.evaluate(test_images, test_labels)\n",
        "print(\"Test Loss {}\".format(test_loss))"
      ],
      "execution_count": 0,
      "outputs": [
        {
          "output_type": "stream",
          "text": [
            "_________________________________________________________________\n",
            "Layer (type)                 Output Shape              Param #   \n",
            "=================================================================\n",
            "conv2d_11 (Conv2D)           (None, 26, 26, 32)        320       \n",
            "_________________________________________________________________\n",
            "max_pooling2d_11 (MaxPooling (None, 13, 13, 32)        0         \n",
            "_________________________________________________________________\n",
            "flatten_7 (Flatten)          (None, 5408)              0         \n",
            "_________________________________________________________________\n",
            "dense_14 (Dense)             (None, 128)               692352    \n",
            "_________________________________________________________________\n",
            "dense_15 (Dense)             (None, 10)                1290      \n",
            "=================================================================\n",
            "Total params: 693,962\n",
            "Trainable params: 693,962\n",
            "Non-trainable params: 0\n",
            "_________________________________________________________________\n",
            "Epoch 1/5\n",
            "60000/60000 [==============================] - 11s 187us/sample - loss: 0.3872 - acc: 0.8606\n",
            "Epoch 2/5\n",
            "60000/60000 [==============================] - 11s 184us/sample - loss: 0.2638 - acc: 0.9041\n",
            "Epoch 3/5\n",
            "60000/60000 [==============================] - 11s 184us/sample - loss: 0.2194 - acc: 0.9192\n",
            "Epoch 4/5\n",
            "60000/60000 [==============================] - 11s 186us/sample - loss: 0.1851 - acc: 0.9317\n",
            "Epoch 5/5\n",
            "60000/60000 [==============================] - 11s 186us/sample - loss: 0.1587 - acc: 0.9412\n",
            "10000/10000 [==============================] - 1s 88us/sample - loss: 0.2627 - acc: 0.9103\n",
            "Test Loss [0.2626589131116867, 0.9103]\n"
          ],
          "name": "stdout"
        }
      ]
    },
    {
      "cell_type": "code",
      "metadata": {
        "id": "YCHxa5TWbU1t",
        "colab_type": "code",
        "outputId": "45222661-43d4-4d7a-c64b-eabbec1005a9",
        "colab": {
          "base_uri": "https://localhost:8080/",
          "height": 365
        }
      },
      "source": [
        "plot_compare_accuracy(batch_stats_reduced_conv, batch_stats_further_reduced_conv, [\"Conv2D-64\", \"Conv2D-32\"])"
      ],
      "execution_count": 0,
      "outputs": [
        {
          "output_type": "display_data",
          "data": {
            "image/png": "[encoded data removed]",
            "text/plain": [
              "<Figure size 576x396 with 1 Axes>"
            ]
          },
          "metadata": {
            "tags": []
          }
        }
      ]
    },
    {
      "cell_type": "code",
      "metadata": {
        "id": "FZrowBsqbht5",
        "colab_type": "code",
        "outputId": "77763332-63be-44fb-da2c-17cbf97efea8",
        "colab": {
          "base_uri": "https://localhost:8080/",
          "height": 955
        }
      },
      "source": [
        "# Experimenting by increasing epochs = 10 \n",
        "\n",
        "batch_stats_epoch10_conv = CollectBatchStats()\n",
        "\n",
        "mnist = tf.keras.datasets.fashion_mnist\n",
        "(training_images, training_labels), (test_images, test_labels) = mnist.load_data()\n",
        "training_images = training_images.reshape(60000, 28, 28, 1)\n",
        "training_images = training_images / 255.0\n",
        "test_images = test_images.reshape(10000, 28, 28, 1)\n",
        "test_images = test_images / 255.0\n",
        "model = tf.keras.models.Sequential([\n",
        "  tf.keras.layers.Conv2D(64, (3,3), activation='relu', input_shape=(28, 28, 1)),\n",
        "  tf.keras.layers.MaxPooling2D(2,2),\n",
        "  tf.keras.layers.Conv2D(64, (3,3), activation='relu'),\n",
        "  tf.keras.layers.MaxPooling2D(2,2),\n",
        "  tf.keras.layers.Flatten(),\n",
        "  tf.keras.layers.Dense(128, activation='relu'),\n",
        "  tf.keras.layers.Dense(10, activation='softmax')\n",
        "])\n",
        "model.compile(optimizer='adam', loss='sparse_categorical_crossentropy', metrics=['accuracy'])\n",
        "model.summary()\n",
        "model.fit(training_images, training_labels, epochs=10, callbacks=[batch_stats_epoch10_conv])\n",
        "test_loss = model.evaluate(test_images, test_labels)\n",
        "print(\"Test Loss {}\".format(test_loss))"
      ],
      "execution_count": 0,
      "outputs": [
        {
          "output_type": "stream",
          "text": [
            "Downloading data from https://storage.googleapis.com/tensorflow/tf-keras-datasets/train-labels-idx1-ubyte.gz\n",
            "32768/29515 [=================================] - 0s 0us/step\n",
            "Downloading data from https://storage.googleapis.com/tensorflow/tf-keras-datasets/train-images-idx3-ubyte.gz\n",
            "26427392/26421880 [==============================] - 0s 0us/step\n",
            "Downloading data from https://storage.googleapis.com/tensorflow/tf-keras-datasets/t10k-labels-idx1-ubyte.gz\n",
            "8192/5148 [===============================================] - 0s 0us/step\n",
            "Downloading data from https://storage.googleapis.com/tensorflow/tf-keras-datasets/t10k-images-idx3-ubyte.gz\n",
            "4423680/4422102 [==============================] - 0s 0us/step\n",
            "WARNING:tensorflow:From /usr/local/lib/python3.6/dist-packages/tensorflow/python/ops/resource_variable_ops.py:435: colocate_with (from tensorflow.python.framework.ops) is deprecated and will be removed in a future version.\n",
            "Instructions for updating:\n",
            "Colocations handled automatically by placer.\n",
            "_________________________________________________________________\n",
            "Layer (type)                 Output Shape              Param #   \n",
            "=================================================================\n",
            "conv2d (Conv2D)              (None, 26, 26, 64)        640       \n",
            "_________________________________________________________________\n",
            "max_pooling2d (MaxPooling2D) (None, 13, 13, 64)        0         \n",
            "_________________________________________________________________\n",
            "conv2d_1 (Conv2D)            (None, 11, 11, 64)        36928     \n",
            "_________________________________________________________________\n",
            "max_pooling2d_1 (MaxPooling2 (None, 5, 5, 64)          0         \n",
            "_________________________________________________________________\n",
            "flatten (Flatten)            (None, 1600)              0         \n",
            "_________________________________________________________________\n",
            "dense (Dense)                (None, 128)               204928    \n",
            "_________________________________________________________________\n",
            "dense_1 (Dense)              (None, 10)                1290      \n",
            "=================================================================\n",
            "Total params: 243,786\n",
            "Trainable params: 243,786\n",
            "Non-trainable params: 0\n",
            "_________________________________________________________________\n",
            "Epoch 1/10\n",
            "60000/60000 [==============================] - 18s 306us/sample - loss: 0.4337 - acc: 0.8430\n",
            "Epoch 2/10\n",
            "60000/60000 [==============================] - 15s 254us/sample - loss: 0.2913 - acc: 0.8923\n",
            "Epoch 3/10\n",
            "60000/60000 [==============================] - 15s 254us/sample - loss: 0.2475 - acc: 0.9087\n",
            "Epoch 4/10\n",
            "60000/60000 [==============================] - 15s 249us/sample - loss: 0.2125 - acc: 0.9219\n",
            "Epoch 5/10\n",
            "60000/60000 [==============================] - 15s 252us/sample - loss: 0.1868 - acc: 0.9294\n",
            "Epoch 6/10\n",
            "60000/60000 [==============================] - 15s 246us/sample - loss: 0.1624 - acc: 0.9384\n",
            "Epoch 7/10\n",
            "60000/60000 [==============================] - 16s 270us/sample - loss: 0.1418 - acc: 0.9460\n",
            "Epoch 8/10\n",
            "60000/60000 [==============================] - 15s 254us/sample - loss: 0.1247 - acc: 0.9523\n",
            "Epoch 9/10\n",
            "60000/60000 [==============================] - 15s 258us/sample - loss: 0.1076 - acc: 0.9593\n",
            "Epoch 10/10\n",
            "60000/60000 [==============================] - 15s 255us/sample - loss: 0.0948 - acc: 0.9638\n",
            "10000/10000 [==============================] - 1s 112us/sample - loss: 0.3247 - acc: 0.9096\n",
            "Test Loss [0.32473448661267756, 0.9096]\n"
          ],
          "name": "stdout"
        }
      ]
    },
    {
      "cell_type": "code",
      "metadata": {
        "id": "eeOkW5Sed2hK",
        "colab_type": "code",
        "outputId": "13e87fca-9e59-41a9-f8e0-cebfd0f25fd4",
        "colab": {
          "base_uri": "https://localhost:8080/",
          "height": 365
        }
      },
      "source": [
        "plot_compare_accuracy(batch_stats_conv, batch_stats_epoch10_conv, [\"epoch=5\", \"epoch=10\"])"
      ],
      "execution_count": 0,
      "outputs": [
        {
          "output_type": "display_data",
          "data": {
            "image/png": "[encoded data removed]",
            "text/plain": [
              "<Figure size 576x396 with 1 Axes>"
            ]
          },
          "metadata": {
            "tags": []
          }
        }
      ]
    },
    {
      "cell_type": "code",
      "metadata": {
        "id": "fvEAcxcyew6n",
        "colab_type": "code",
        "outputId": "082c4e90-d29a-4e78-8922-4549ae4c779b",
        "colab": {
          "base_uri": "https://localhost:8080/",
          "height": 918
        }
      },
      "source": [
        "# Experimenting by increasing epochs = 15 \n",
        "\n",
        "batch_stats_epoch15_conv = CollectBatchStats()\n",
        "\n",
        "mnist = tf.keras.datasets.fashion_mnist\n",
        "(training_images, training_labels), (test_images, test_labels) = mnist.load_data()\n",
        "training_images = training_images.reshape(60000, 28, 28, 1)\n",
        "training_images = training_images / 255.0\n",
        "test_images = test_images.reshape(10000, 28, 28, 1)\n",
        "test_images = test_images / 255.0\n",
        "model = tf.keras.models.Sequential([\n",
        "  tf.keras.layers.Conv2D(64, (3,3), activation='relu', input_shape=(28, 28, 1)),\n",
        "  tf.keras.layers.MaxPooling2D(2,2),\n",
        "  tf.keras.layers.Conv2D(64, (3,3), activation='relu'),\n",
        "  tf.keras.layers.MaxPooling2D(2,2),\n",
        "  tf.keras.layers.Flatten(),\n",
        "  tf.keras.layers.Dense(128, activation='relu'),\n",
        "  tf.keras.layers.Dense(10, activation='softmax')\n",
        "])\n",
        "model.compile(optimizer='adam', loss='sparse_categorical_crossentropy', metrics=['accuracy'])\n",
        "model.summary()\n",
        "model.fit(training_images, training_labels, epochs=15, callbacks=[batch_stats_epoch10_conv])\n",
        "test_loss = model.evaluate(test_images, test_labels)\n",
        "print(\"Test Loss {}\".format(test_loss))"
      ],
      "execution_count": 0,
      "outputs": [
        {
          "output_type": "stream",
          "text": [
            "_________________________________________________________________\n",
            "Layer (type)                 Output Shape              Param #   \n",
            "=================================================================\n",
            "conv2d_20 (Conv2D)           (None, 26, 26, 64)        640       \n",
            "_________________________________________________________________\n",
            "max_pooling2d_20 (MaxPooling (None, 13, 13, 64)        0         \n",
            "_________________________________________________________________\n",
            "conv2d_21 (Conv2D)           (None, 11, 11, 64)        36928     \n",
            "_________________________________________________________________\n",
            "max_pooling2d_21 (MaxPooling (None, 5, 5, 64)          0         \n",
            "_________________________________________________________________\n",
            "flatten_12 (Flatten)         (None, 1600)              0         \n",
            "_________________________________________________________________\n",
            "dense_24 (Dense)             (None, 128)               204928    \n",
            "_________________________________________________________________\n",
            "dense_25 (Dense)             (None, 10)                1290      \n",
            "=================================================================\n",
            "Total params: 243,786\n",
            "Trainable params: 243,786\n",
            "Non-trainable params: 0\n",
            "_________________________________________________________________\n",
            "Epoch 1/15\n",
            "60000/60000 [==============================] - 15s 247us/sample - loss: 0.4457 - acc: 0.8354\n",
            "Epoch 2/15\n",
            "60000/60000 [==============================] - 15s 244us/sample - loss: 0.2925 - acc: 0.8920\n",
            "Epoch 3/15\n",
            "60000/60000 [==============================] - 15s 245us/sample - loss: 0.2468 - acc: 0.9083\n",
            "Epoch 4/15\n",
            "60000/60000 [==============================] - 15s 248us/sample - loss: 0.2136 - acc: 0.9204\n",
            "Epoch 5/15\n",
            "60000/60000 [==============================] - 15s 246us/sample - loss: 0.1868 - acc: 0.9301\n",
            "Epoch 6/15\n",
            "60000/60000 [==============================] - 15s 245us/sample - loss: 0.1636 - acc: 0.9390\n",
            "Epoch 7/15\n",
            "60000/60000 [==============================] - 15s 246us/sample - loss: 0.1446 - acc: 0.9454\n",
            "Epoch 8/15\n",
            "60000/60000 [==============================] - 15s 245us/sample - loss: 0.1253 - acc: 0.9525\n",
            "Epoch 9/15\n",
            "60000/60000 [==============================] - 15s 244us/sample - loss: 0.1105 - acc: 0.9584\n",
            "Epoch 10/15\n",
            "60000/60000 [==============================] - 15s 243us/sample - loss: 0.0985 - acc: 0.9636\n",
            "Epoch 11/15\n",
            "60000/60000 [==============================] - 15s 243us/sample - loss: 0.0863 - acc: 0.9683\n",
            "Epoch 12/15\n",
            "60000/60000 [==============================] - 15s 244us/sample - loss: 0.0749 - acc: 0.9713\n",
            "Epoch 13/15\n",
            "60000/60000 [==============================] - 15s 243us/sample - loss: 0.0682 - acc: 0.9745\n",
            "Epoch 14/15\n",
            "60000/60000 [==============================] - 15s 244us/sample - loss: 0.0623 - acc: 0.9767\n",
            "Epoch 15/15\n",
            "60000/60000 [==============================] - 15s 245us/sample - loss: 0.0513 - acc: 0.9809\n",
            "10000/10000 [==============================] - 1s 116us/sample - loss: 0.3771 - acc: 0.9124\n",
            "Test Loss [0.377075692935288, 0.9124]\n"
          ],
          "name": "stdout"
        }
      ]
    },
    {
      "cell_type": "code",
      "metadata": {
        "id": "faMBeUcie0nP",
        "colab_type": "code",
        "outputId": "9f0f4e0f-1c48-4d35-80be-e8deb64fec7d",
        "colab": {
          "base_uri": "https://localhost:8080/",
          "height": 365
        }
      },
      "source": [
        "plot_compare_accuracy(batch_stats_conv, batch_stats_epoch15_conv, [\"epoch=5\", \"epoch=15\"])"
      ],
      "execution_count": 0,
      "outputs": [
        {
          "output_type": "display_data",
          "data": {
            "image/png": "[encoded data removed]",
            "text/plain": [
              "<Figure size 576x396 with 1 Axes>"
            ]
          },
          "metadata": {
            "tags": []
          }
        }
      ]
    },
    {
      "cell_type": "code",
      "metadata": {
        "id": "ZTcEDUrlkXjX",
        "colab_type": "code",
        "outputId": "81d99366-9b34-4375-fd33-c187363cb7ab",
        "colab": {
          "base_uri": "https://localhost:8080/",
          "height": 646
        }
      },
      "source": [
        "# Experimenting by adding more layers but reducing number of parameters\n",
        "batch_stats_add_cov = CollectBatchStats()\n",
        "\n",
        "mnist = tf.keras.datasets.fashion_mnist\n",
        "(training_images, training_labels), (test_images, test_labels) = mnist.load_data()\n",
        "training_images = training_images.reshape(60000, 28, 28, 1)\n",
        "training_images = training_images / 255.0\n",
        "test_images = test_images.reshape(10000, 28, 28, 1)\n",
        "test_images = test_images / 255.0\n",
        "model = tf.keras.models.Sequential([\n",
        "  tf.keras.layers.Conv2D(64, (3,3), activation='relu', input_shape=(28, 28, 1)),\n",
        "  tf.keras.layers.MaxPooling2D(2, 2),\n",
        "  tf.keras.layers.Conv2D(32, (3,3), activation='relu'),\n",
        "  tf.keras.layers.MaxPooling2D(2, 2),\n",
        "  tf.keras.layers.Conv2D(32, (3,3), activation='relu'),\n",
        "  tf.keras.layers.MaxPooling2D(2,2),\n",
        "  tf.keras.layers.Flatten(),\n",
        "  tf.keras.layers.Dense(128, activation='relu'),\n",
        "  tf.keras.layers.Dense(128, activation='softmax')\n",
        "])\n",
        "\n",
        "model.compile(optimizer='adam', loss='sparse_categorical_crossentropy', metrics=['accuracy'])\n",
        "model.summary()\n",
        "model.fit(training_images, training_labels, epochs=5, callbacks = [batch_stats_add_cov])\n",
        "test_loss = model.evaluate(test_images, test_labels)\n",
        "print(\"Test Loss {}\".format(test_loss))"
      ],
      "execution_count": 0,
      "outputs": [
        {
          "output_type": "stream",
          "text": [
            "_________________________________________________________________\n",
            "Layer (type)                 Output Shape              Param #   \n",
            "=================================================================\n",
            "conv2d_25 (Conv2D)           (None, 26, 26, 64)        640       \n",
            "_________________________________________________________________\n",
            "max_pooling2d_25 (MaxPooling (None, 13, 13, 64)        0         \n",
            "_________________________________________________________________\n",
            "conv2d_26 (Conv2D)           (None, 11, 11, 32)        18464     \n",
            "_________________________________________________________________\n",
            "max_pooling2d_26 (MaxPooling (None, 5, 5, 32)          0         \n",
            "_________________________________________________________________\n",
            "conv2d_27 (Conv2D)           (None, 3, 3, 32)          9248      \n",
            "_________________________________________________________________\n",
            "max_pooling2d_27 (MaxPooling (None, 1, 1, 32)          0         \n",
            "_________________________________________________________________\n",
            "flatten_14 (Flatten)         (None, 32)                0         \n",
            "_________________________________________________________________\n",
            "dense_28 (Dense)             (None, 128)               4224      \n",
            "_________________________________________________________________\n",
            "dense_29 (Dense)             (None, 128)               16512     \n",
            "=================================================================\n",
            "Total params: 49,088\n",
            "Trainable params: 49,088\n",
            "Non-trainable params: 0\n",
            "_________________________________________________________________\n",
            "Epoch 1/5\n",
            "60000/60000 [==============================] - 15s 249us/sample - loss: 0.7317 - acc: 0.7341\n",
            "Epoch 2/5\n",
            "60000/60000 [==============================] - 15s 245us/sample - loss: 0.4740 - acc: 0.8248\n",
            "Epoch 3/5\n",
            "60000/60000 [==============================] - 15s 244us/sample - loss: 0.4038 - acc: 0.8522\n",
            "Epoch 4/5\n",
            "60000/60000 [==============================] - 15s 246us/sample - loss: 0.3659 - acc: 0.8651\n",
            "Epoch 5/5\n",
            "60000/60000 [==============================] - 15s 245us/sample - loss: 0.3343 - acc: 0.8762\n",
            "10000/10000 [==============================] - 1s 126us/sample - loss: 0.3545 - acc: 0.8730\n",
            "Test Loss [0.3544900267839432, 0.873]\n"
          ],
          "name": "stdout"
        }
      ]
    },
    {
      "cell_type": "code",
      "metadata": {
        "id": "-yTIL9Tzn69s",
        "colab_type": "code",
        "outputId": "3e46a484-6132-4b9d-a620-47b6f2960325",
        "colab": {
          "base_uri": "https://localhost:8080/",
          "height": 365
        }
      },
      "source": [
        "plot_compare_accuracy(batch_stats_conv, batch_stats_add_cov, [\"4-Layer-CNN\", \"6-Layer-CNN\"])"
      ],
      "execution_count": 0,
      "outputs": [
        {
          "output_type": "display_data",
          "data": {
            "image/png": "[encoded data removed]",
            "text/plain": [
              "<Figure size 576x396 with 1 Axes>"
            ]
          },
          "metadata": {
            "tags": []
          }
        }
      ]
    },
    {
      "cell_type": "code",
      "metadata": {
        "id": "1svIH5zbooer",
        "colab_type": "code",
        "outputId": "af483585-8e4c-4a67-83a8-d6d7d52cb2b7",
        "colab": {
          "base_uri": "https://localhost:8080/",
          "height": 646
        }
      },
      "source": [
        "# Experimenting by adding more layers but increasing number of parameters\n",
        "\n",
        "batch_stats_add_more_conv = CollectBatchStats()\n",
        "\n",
        "mnist = tf.keras.datasets.fashion_mnist\n",
        "(training_images, training_labels), (test_images, test_labels) = mnist.load_data()\n",
        "training_images = training_images.reshape(60000, 28, 28, 1)\n",
        "training_images = training_images / 255.0\n",
        "test_images = test_images.reshape(10000, 28, 28, 1)\n",
        "test_images = test_images / 255.0\n",
        "model = tf.keras.models.Sequential([\n",
        "   tf.keras.layers.Conv2D(64, (3,3), activation='relu', input_shape=(28, 28, 1)),\n",
        "   tf.keras.layers.MaxPooling2D(2, 2),\n",
        "   tf.keras.layers.Conv2D(128, (3,3), activation='relu'),\n",
        "   tf.keras.layers.MaxPooling2D(2, 2),\n",
        "   tf.keras.layers.Conv2D(128, (3,3), activation='relu'),\n",
        "   tf.keras.layers.MaxPooling2D(2, 2),\n",
        "   tf.keras.layers.Flatten(),\n",
        "   tf.keras.layers.Dense(128, activation='relu'),\n",
        "   tf.keras.layers.Dense(10, activation='softmax')\n",
        "])\n",
        "\n",
        "model.compile(optimizer='adam', loss='sparse_categorical_crossentropy', metrics=['accuracy'])\n",
        "model.summary()\n",
        "model.fit(training_images, training_labels, epochs=5, callbacks = [batch_stats_add_more_conv])\n",
        "test_loss = model.evaluate(test_images, test_labels)\n",
        "print(\"Test Loss {}\".format(test_loss))"
      ],
      "execution_count": 0,
      "outputs": [
        {
          "output_type": "stream",
          "text": [
            "_________________________________________________________________\n",
            "Layer (type)                 Output Shape              Param #   \n",
            "=================================================================\n",
            "conv2d_28 (Conv2D)           (None, 26, 26, 64)        640       \n",
            "_________________________________________________________________\n",
            "max_pooling2d_28 (MaxPooling (None, 13, 13, 64)        0         \n",
            "_________________________________________________________________\n",
            "conv2d_29 (Conv2D)           (None, 11, 11, 128)       73856     \n",
            "_________________________________________________________________\n",
            "max_pooling2d_29 (MaxPooling (None, 5, 5, 128)         0         \n",
            "_________________________________________________________________\n",
            "conv2d_30 (Conv2D)           (None, 3, 3, 128)         147584    \n",
            "_________________________________________________________________\n",
            "max_pooling2d_30 (MaxPooling (None, 1, 1, 128)         0         \n",
            "_________________________________________________________________\n",
            "flatten_15 (Flatten)         (None, 128)               0         \n",
            "_________________________________________________________________\n",
            "dense_30 (Dense)             (None, 128)               16512     \n",
            "_________________________________________________________________\n",
            "dense_31 (Dense)             (None, 10)                1290      \n",
            "=================================================================\n",
            "Total params: 239,882\n",
            "Trainable params: 239,882\n",
            "Non-trainable params: 0\n",
            "_________________________________________________________________\n",
            "Epoch 1/5\n",
            "60000/60000 [==============================] - 24s 397us/sample - loss: 0.5335 - acc: 0.8040\n",
            "Epoch 2/5\n",
            "60000/60000 [==============================] - 23s 391us/sample - loss: 0.3554 - acc: 0.8686\n",
            "Epoch 3/5\n",
            "60000/60000 [==============================] - 24s 392us/sample - loss: 0.3018 - acc: 0.8889\n",
            "Epoch 4/5\n",
            "60000/60000 [==============================] - 23s 390us/sample - loss: 0.2653 - acc: 0.9008\n",
            "Epoch 5/5\n",
            "60000/60000 [==============================] - 24s 393us/sample - loss: 0.2362 - acc: 0.9123\n",
            "10000/10000 [==============================] - 1s 147us/sample - loss: 0.3072 - acc: 0.8891\n",
            "Test Loss [0.3071504573225975, 0.8891]\n"
          ],
          "name": "stdout"
        }
      ]
    },
    {
      "cell_type": "code",
      "metadata": {
        "id": "tSlYn6p7rop4",
        "colab_type": "code",
        "outputId": "774ebc6d-11a9-4320-b128-83a2930ff889",
        "colab": {
          "base_uri": "https://localhost:8080/",
          "height": 365
        }
      },
      "source": [
        "plot_compare_accuracy(batch_stats_conv, batch_stats_add_more_conv, [\"4-Layer-CNN\", \"6-Layer-CNN\"])"
      ],
      "execution_count": 0,
      "outputs": [
        {
          "output_type": "display_data",
          "data": {
            "image/png": "[encoded data removed]",
            "text/plain": [
              "<Figure size 576x396 with 1 Axes>"
            ]
          },
          "metadata": {
            "tags": []
          }
        }
      ]
    },
    {
      "cell_type": "code",
      "metadata": {
        "id": "PR4pcebWsOfC",
        "colab_type": "code",
        "colab": {}
      },
      "source": [
        ""
      ],
      "execution_count": 0,
      "outputs": []
    }
  ]
}